{
  "nbformat": 4,
  "nbformat_minor": 0,
  "metadata": {
    "colab": {
      "name": "TensorFlow - Custom Training Basics.ipynb",
      "provenance": [],
      "collapsed_sections": [],
      "authorship_tag": "ABX9TyNLR4lfJeFIAUBTdDzx4sAM",
      "include_colab_link": true
    },
    "kernelspec": {
      "name": "python3",
      "display_name": "Python 3"
    }
  },
  "cells": [
    {
      "cell_type": "markdown",
      "metadata": {
        "id": "view-in-github",
        "colab_type": "text"
      },
      "source": [
        "<a href=\"https://colab.research.google.com/github/nicoloceneda/Python-edu/blob/master/TensorFlow_Custom_Training_Basics.ipynb\" target=\"_parent\"><img src=\"https://colab.research.google.com/assets/colab-badge.svg\" alt=\"Open In Colab\"/></a>"
      ]
    },
    {
      "cell_type": "markdown",
      "metadata": {
        "id": "hqpKUeHQc9-L",
        "colab_type": "text"
      },
      "source": [
        "# TensorFlow - Custom Training Basics\n",
        "\n",
        "---\n",
        "\n"
      ]
    },
    {
      "cell_type": "code",
      "metadata": {
        "id": "WRcwNoHsYXar",
        "colab_type": "code",
        "colab": {}
      },
      "source": [
        "import tensorflow as tf\n",
        "import matplotlib.pyplot as plt"
      ],
      "execution_count": 0,
      "outputs": []
    },
    {
      "cell_type": "markdown",
      "metadata": {
        "id": "5mTPH1uTdnWf",
        "colab_type": "text"
      },
      "source": [
        "## Training steps\n",
        "Training a model typycally involves the following steps:\n",
        "\n",
        "1. Defining the model\n",
        "2. Defining the loss function\n",
        "3. Obtaining the training data\n",
        "4. Defining the training loop\n",
        "\n",
        "Here we create a simple linear model `f(X) = x * W + b`, which has two variables: `W` (weights) and `b` (bias). "
      ]
    },
    {
      "cell_type": "markdown",
      "metadata": {
        "id": "fUpohwTEhWVj",
        "colab_type": "text"
      },
      "source": [
        "## Defining the model\n",
        "Define a class to encapsulate the **variables** (in the `__init__` method) and **computation** (in the `__call__` method)."
      ]
    },
    {
      "cell_type": "code",
      "metadata": {
        "id": "2RYJVWy3Y1mk",
        "colab_type": "code",
        "colab": {}
      },
      "source": [
        "class Model:\n",
        "\n",
        "  def __init__(self):\n",
        "    self.W = tf.Variable(5.0)\n",
        "    self.b = tf.Variable(0.0)\n",
        "\n",
        "  def __call__(self, x):\n",
        "    return self.W * x + self.b"
      ],
      "execution_count": 0,
      "outputs": []
    },
    {
      "cell_type": "markdown",
      "metadata": {
        "id": "vmplHomBlBsL",
        "colab_type": "text"
      },
      "source": [
        "## Defining the loss function\n",
        "Define the least square error **loss function** using a `function`.\n"
      ]
    },
    {
      "cell_type": "code",
      "metadata": {
        "id": "gXawIeizllUY",
        "colab_type": "code",
        "colab": {}
      },
      "source": [
        "def loss(predicted_y, target_y):\n",
        "  return tf.reduce_mean(tf.square(predicted_y - target_y))"
      ],
      "execution_count": 0,
      "outputs": []
    },
    {
      "cell_type": "markdown",
      "metadata": {
        "id": "I4pLD66ksHN_",
        "colab_type": "text"
      },
      "source": [
        "## Obtaining the training data\n",
        "Sythetise the **training data** by adding random normal noise to the inputs"
      ]
    },
    {
      "cell_type": "code",
      "metadata": {
        "id": "drZY6fZ0sZO0",
        "colab_type": "code",
        "outputId": "8a30d71b-aaaf-4547-b214-62d58b467b72",
        "colab": {
          "base_uri": "https://localhost:8080/",
          "height": 282
        }
      },
      "source": [
        "true_w = 3.0\n",
        "true_b = 2.0\n",
        "num_examples = 1000\n",
        "\n",
        "inputs = tf.random.normal(shape=(num_examples, ))\n",
        "noise = tf.random.normal(shape=(num_examples, ))\n",
        "outputs = true_b + inputs * true_w + noise\n",
        "\n",
        "model = Model()\n",
        "print('Current loss: {:.4f}'.format(loss(model(inputs), outputs).numpy()))\n",
        "\n",
        "plt.scatter(inputs, outputs, c='b', s=1)\n",
        "plt.scatter(inputs, model(inputs), c='r', s=1)\n",
        "plt.axhline(0.0, linestyle='--', linewidth=0.5, color='k')\n",
        "plt.axvline(0.0, linestyle='--', linewidth=0.5, color='k')\n",
        "plt.show()"
      ],
      "execution_count": 4,
      "outputs": [
        {
          "output_type": "stream",
          "text": [
            "Current loss: 9.7661\n"
          ],
          "name": "stdout"
        },
        {
          "output_type": "display_data",
          "data": {
            "image/png": "[encoded data removed]",
            "text/plain": [
              "<Figure size 432x288 with 1 Axes>"
            ]
          },
          "metadata": {
            "tags": []
          }
        }
      ]
    },
    {
      "cell_type": "markdown",
      "metadata": {
        "id": "sXCWnvvgyTx1",
        "colab_type": "text"
      },
      "source": [
        "## Defining the training loop\n",
        "Define the **gradient descent algorithm** using `tf.GradientTape` for automatic differentiation and `tf.assign_sub` for decrementing a value."
      ]
    },
    {
      "cell_type": "code",
      "metadata": {
        "id": "AXGiXxXn0m-M",
        "colab_type": "code",
        "colab": {}
      },
      "source": [
        "def train(model, inputs, outputs, learning_rate):\n",
        "  with tf.GradientTape() as tape:\n",
        "    current_loss = loss(model(inputs), outputs)\n",
        "  dW, db = tape.gradient(current_loss, [model.W, model.b])\n",
        "  model.W.assign_sub(learning_rate * dW)\n",
        "  model.b.assign_sub(learning_rate * db)"
      ],
      "execution_count": 0,
      "outputs": []
    },
    {
      "cell_type": "markdown",
      "metadata": {
        "id": "_gGrFsN529JP",
        "colab_type": "text"
      },
      "source": [
        "**Train the model** running through the training data to learn W and b"
      ]
    },
    {
      "cell_type": "code",
      "metadata": {
        "id": "bDvPBlPj41bi",
        "colab_type": "code",
        "outputId": "8356eaee-289e-495c-c5de-639747c81454",
        "colab": {
          "base_uri": "https://localhost:8080/",
          "height": 622
        }
      },
      "source": [
        "model = Model()\n",
        "\n",
        "Ws, bs = [], []\n",
        "epochs = range(10)\n",
        "\n",
        "for epoch in epochs:\n",
        "  Ws.append(model.W.numpy())\n",
        "  bs.append(model.b.numpy())\n",
        "  current_loss = loss(model(inputs), outputs)\n",
        "\n",
        "  train(model, inputs, outputs, learning_rate=0.1)\n",
        "  print(model.W.numpy())\n",
        "  print('Epoch {}: W={:.4f} b={:.4f}, current loss={:.4f}'.format(epoch, Ws[-1], bs[-1], current_loss))\n",
        "\n",
        "plt.plot(epochs, Ws, 'r', epochs, bs, 'b')\n",
        "plt.plot([true_w] * len(epochs), 'r--', [true_b] * len(epochs), 'b--')\n",
        "plt.legend(['W', 'b', 'true w', 'true b'])"
      ],
      "execution_count": 6,
      "outputs": [
        {
          "output_type": "stream",
          "text": [
            "4.561751\n",
            "Epoch 0: W=5.0000 b=0.0000, current loss=9.7661\n",
            "4.218716\n",
            "Epoch 1: W=4.5618 b=0.4325, current loss=6.3861\n",
            "3.9502137\n",
            "Epoch 2: W=4.2187 b=0.7713, current loss=4.3136\n",
            "3.7400532\n",
            "Epoch 3: W=3.9502 b=1.0367, current loss=3.0428\n",
            "3.5755608\n",
            "Epoch 4: W=3.7401 b=1.2447, current loss=2.2636\n",
            "3.446815\n",
            "Epoch 5: W=3.5756 b=1.4076, current loss=1.7859\n",
            "3.3460498\n",
            "Epoch 6: W=3.4468 b=1.5352, current loss=1.4929\n",
            "3.2671854\n",
            "Epoch 7: W=3.3460 b=1.6351, current loss=1.3133\n",
            "3.2054632\n",
            "Epoch 8: W=3.2672 b=1.7135, current loss=1.2032\n",
            "3.1571581\n",
            "Epoch 9: W=3.2055 b=1.7748, current loss=1.1356\n"
          ],
          "name": "stdout"
        },
        {
          "output_type": "execute_result",
          "data": {
            "text/plain": [
              "<matplotlib.legend.Legend at 0x7f339c7d0198>"
            ]
          },
          "metadata": {
            "tags": []
          },
          "execution_count": 6
        },
        {
          "output_type": "display_data",
          "data": {
            "image/png": "[encoded data removed]",
            "text/plain": [
              "<Figure size 432x288 with 1 Axes>"
            ]
          },
          "metadata": {
            "tags": []
          }
        }
      ]
    }
  ]
}