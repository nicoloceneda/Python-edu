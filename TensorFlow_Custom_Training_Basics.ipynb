{
  "nbformat": 4,
  "nbformat_minor": 0,
  "metadata": {
    "colab": {
      "name": "TensorFlow - Custom Training Basics.ipynb",
      "provenance": [],
      "collapsed_sections": [],
      "authorship_tag": "ABX9TyPDkCW21p/VdgcYL9KJfcLF",
      "include_colab_link": true
    },
    "kernelspec": {
      "name": "python3",
      "display_name": "Python 3"
    }
  },
  "cells": [
    {
      "cell_type": "markdown",
      "metadata": {
        "id": "view-in-github",
        "colab_type": "text"
      },
      "source": [
        "<a href=\"https://colab.research.google.com/github/nicoloceneda/Python-edu/blob/master/TensorFlow_Custom_Training_Basics.ipynb\" target=\"_parent\"><img src=\"https://colab.research.google.com/assets/colab-badge.svg\" alt=\"Open In Colab\"/></a>"
      ]
    },
    {
      "cell_type": "markdown",
      "metadata": {
        "id": "hqpKUeHQc9-L",
        "colab_type": "text"
      },
      "source": [
        "# TensorFlow - Custom Training Basics\n",
        "\n",
        "---\n",
        "\n"
      ]
    },
    {
      "cell_type": "code",
      "metadata": {
        "id": "WRcwNoHsYXar",
        "colab_type": "code",
        "colab": {}
      },
      "source": [
        "import tensorflow as tf\n",
        "import matplotlib.pyplot as plt"
      ],
      "execution_count": 0,
      "outputs": []
    },
    {
      "cell_type": "markdown",
      "metadata": {
        "id": "5mTPH1uTdnWf",
        "colab_type": "text"
      },
      "source": [
        "## Training steps\n",
        "Training a model typycally involves the following steps:\n",
        "\n",
        "1. Defining the model\n",
        "2. Defining the loss function\n",
        "3. Obtaining the training data\n",
        "4. Defining the training loop\n",
        "\n",
        "Here we create a simple linear model `f(X) = x * W + b`, which has two variables: `W` (weights) and `b` (bias). "
      ]
    },
    {
      "cell_type": "markdown",
      "metadata": {
        "id": "fUpohwTEhWVj",
        "colab_type": "text"
      },
      "source": [
        "## Defining the model\n",
        "Define a class to encapsulate the **variables** (in the `__init__` method) and **computation** (in the `__call__` method)."
      ]
    },
    {
      "cell_type": "code",
      "metadata": {
        "id": "2RYJVWy3Y1mk",
        "colab_type": "code",
        "colab": {}
      },
      "source": [
        "class Model:\n",
        "\n",
        "  def __init__(self):\n",
        "    self.W = tf.Variable(5.0)\n",
        "    self.b = tf.Variable(0.0)\n",
        "\n",
        "  def __call__(self, x):\n",
        "    return self.W * x + self.b\n",
        "\n",
        "model = Model()\n",
        "\n",
        "assert model(x=3.0).numpy() == 15.0"
      ],
      "execution_count": 0,
      "outputs": []
    },
    {
      "cell_type": "markdown",
      "metadata": {
        "id": "vmplHomBlBsL",
        "colab_type": "text"
      },
      "source": [
        "## Defining the loss function\n",
        "Define the least square error **loss function** using a `function`.\n"
      ]
    },
    {
      "cell_type": "code",
      "metadata": {
        "id": "gXawIeizllUY",
        "colab_type": "code",
        "colab": {}
      },
      "source": [
        "def loss(predicted_y, target_y):\n",
        "  return tf.reduce_mean(tf.square(predicted_y - target_y))"
      ],
      "execution_count": 0,
      "outputs": []
    },
    {
      "cell_type": "markdown",
      "metadata": {
        "id": "I4pLD66ksHN_",
        "colab_type": "text"
      },
      "source": [
        "## Obtaining the training data\n",
        "Sythetise the **training data** by adding random normal noise to the inputs"
      ]
    },
    {
      "cell_type": "code",
      "metadata": {
        "id": "drZY6fZ0sZO0",
        "colab_type": "code",
        "colab": {
          "base_uri": "https://localhost:8080/",
          "height": 282
        },
        "outputId": "c7865776-0040-4dc2-dfbf-3edd6bf1cb98"
      },
      "source": [
        "true_w = 3.0\n",
        "true_b = 2.0\n",
        "num_examples = 1000\n",
        "\n",
        "inputs = tf.random.normal(shape=[num_examples])\n",
        "noise = tf.random.normal(shape=[num_examples])\n",
        "outputs = inputs * true_w + true_b + noise\n",
        "\n",
        "plt.scatter(inputs, outputs, c='b')\n",
        "plt.scatter(inputs, model(inputs), c='r')\n",
        "plt.show()\n",
        "\n",
        "print('Current loss: {:.4f}'.format(loss(model(inputs), outputs).numpy()))"
      ],
      "execution_count": 11,
      "outputs": [
        {
          "output_type": "display_data",
          "data": {
            "image/png": "[encoded data removed]",
            "text/plain": [
              "<Figure size 432x288 with 1 Axes>"
            ]
          },
          "metadata": {
            "tags": []
          }
        },
        {
          "output_type": "stream",
          "text": [
            "Current loss: 9.0901\n"
          ],
          "name": "stdout"
        }
      ]
    },
    {
      "cell_type": "markdown",
      "metadata": {
        "id": "sXCWnvvgyTx1",
        "colab_type": "text"
      },
      "source": [
        "## Defining the training loop\n",
        "Define the **gradient descent algorithm** using `tf.GradientTape` for automatic differentiation and `tf.assign_sub` for decrementing a value."
      ]
    },
    {
      "cell_type": "code",
      "metadata": {
        "id": "AXGiXxXn0m-M",
        "colab_type": "code",
        "colab": {}
      },
      "source": [
        "def train(model, inputs, outputs, learning_rate):\n",
        "  with tf.GradientTape() as tape:\n",
        "    current_loss = loss(model(inputs), outputs)\n",
        "  dW, db = tape.gradient(current_loss, [model.W, model.b])\n",
        "  model.W.assign_sub(learning_rate * dW)\n",
        "  model.b.assign_sub(learning_rate * db)"
      ],
      "execution_count": 0,
      "outputs": []
    },
    {
      "cell_type": "markdown",
      "metadata": {
        "id": "_gGrFsN529JP",
        "colab_type": "text"
      },
      "source": [
        "**Train the model** running through the training data to learn W and b"
      ]
    },
    {
      "cell_type": "code",
      "metadata": {
        "id": "bDvPBlPj41bi",
        "colab_type": "code",
        "colab": {
          "base_uri": "https://localhost:8080/",
          "height": 452
        },
        "outputId": "ce551593-60a7-4436-97a5-7074b4f99664"
      },
      "source": [
        "model = Model()\n",
        "\n",
        "Ws, bs = [], []\n",
        "epochs = range(10)\n",
        "\n",
        "for epoch in epochs:\n",
        "  Ws.append(model.W.numpy())\n",
        "  bs.append(model.b.numpy())\n",
        "  current_loss = loss(model(inputs), outputs)\n",
        "\n",
        "  train(model, inputs, outputs, learning_rate=0.1)\n",
        "  print('Epoch {}: W={:.4f} b={:.4f}, current loss={:.4f}'.format(epoch, Ws[-1], bs[-1], current_loss))\n",
        "\n",
        "plt.plot(epochs, Ws, 'r', epochs, bs, 'b')\n",
        "plt.plot([true_w] * len(epochs), 'r--', [true_b] * len(epochs), 'b--')\n",
        "plt.legend(['W', 'b', 'true w', 'true b'])\n"
      ],
      "execution_count": 20,
      "outputs": [
        {
          "output_type": "stream",
          "text": [
            "Epoch 0: W=5.0000 b=0.0000, current loss=9.0901\n",
            "Epoch 1: W=4.5897 b=0.3938, current loss=6.1803\n",
            "Epoch 2: W=4.2633 b=0.7103, current loss=4.3194\n",
            "Epoch 3: W=4.0035 b=0.9648, current loss=3.1293\n",
            "Epoch 4: W=3.7967 b=1.1694, current loss=2.3680\n",
            "Epoch 5: W=3.6322 b=1.3338, current loss=1.8810\n",
            "Epoch 6: W=3.5012 b=1.4660, current loss=1.5695\n",
            "Epoch 7: W=3.3970 b=1.5723, current loss=1.3701\n",
            "Epoch 8: W=3.3140 b=1.6576, current loss=1.2426\n",
            "Epoch 9: W=3.2480 b=1.7263, current loss=1.1610\n"
          ],
          "name": "stdout"
        },
        {
          "output_type": "execute_result",
          "data": {
            "text/plain": [
              "<matplotlib.legend.Legend at 0x7f5687ba59b0>"
            ]
          },
          "metadata": {
            "tags": []
          },
          "execution_count": 20
        },
        {
          "output_type": "display_data",
          "data": {
            "image/png": "[encoded data removed]",
            "text/plain": [
              "<Figure size 432x288 with 1 Axes>"
            ]
          },
          "metadata": {
            "tags": []
          }
        }
      ]
    }
  ]
}