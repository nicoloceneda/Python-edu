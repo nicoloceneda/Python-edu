{
  "nbformat": 4,
  "nbformat_minor": 0,
  "metadata": {
    "colab": {
      "name": "TensorFlow - First Steps.ipynb",
      "provenance": [],
      "collapsed_sections": [
        "GAXIN_6erDnk"
      ],
      "authorship_tag": "ABX9TyMAYQYD22+I+4niTJ9KiseL",
      "include_colab_link": true
    },
    "kernelspec": {
      "name": "python3",
      "display_name": "Python 3"
    }
  },
  "cells": [
    {
      "cell_type": "markdown",
      "metadata": {
        "id": "view-in-github",
        "colab_type": "text"
      },
      "source": [
        "<a href=\"https://colab.research.google.com/github/nicoloceneda/Python-edu/blob/master/TensorFlow_First_Steps.ipynb\" target=\"_parent\"><img src=\"https://colab.research.google.com/assets/colab-badge.svg\" alt=\"Open In Colab\"/></a>"
      ]
    },
    {
      "cell_type": "markdown",
      "metadata": {
        "id": "SPuCfBWpT8Qc",
        "colab_type": "text"
      },
      "source": [
        "# TensorFlow - First Steps\n",
        "\n",
        "---"
      ]
    },
    {
      "cell_type": "code",
      "metadata": {
        "id": "AFL_KQDnVYBc",
        "colab_type": "code",
        "colab": {}
      },
      "source": [
        "import numpy as np\n",
        "import tensorflow as tf"
      ],
      "execution_count": 0,
      "outputs": []
    },
    {
      "cell_type": "markdown",
      "metadata": {
        "id": "tx7mKXDnTyB9",
        "colab_type": "text"
      },
      "source": [
        "## Creating tensors in TensorFlow\n",
        "Create a tensor from a **list** or a **NumPy array** using `tf.convert_to_tensor`\n",
        "\n",
        "\n"
      ]
    },
    {
      "cell_type": "code",
      "metadata": {
        "id": "S1_YmL0kBC28",
        "colab_type": "code",
        "outputId": "e3d929b7-e666-4d74-e02c-787c2fe7717b",
        "colab": {
          "base_uri": "https://localhost:8080/",
          "height": 51
        }
      },
      "source": [
        "a = [1, 2, 3]\n",
        "tensor_a = tf.convert_to_tensor(a, dtype=tf.int64)\n",
        "print(tensor_a)\n",
        "\n",
        "b = np.array([4, 5, 6])\n",
        "tensor_b = tf.convert_to_tensor(b, dtype=tf.int64)\n",
        "print(tensor_b)"
      ],
      "execution_count": 2,
      "outputs": [
        {
          "output_type": "stream",
          "text": [
            "tf.Tensor([1 2 3], shape=(3,), dtype=int64)\n",
            "tf.Tensor([4 5 6], shape=(3,), dtype=int64)\n"
          ],
          "name": "stdout"
        }
      ]
    },
    {
      "cell_type": "markdown",
      "metadata": {
        "id": "AyLI8oEwXO6a",
        "colab_type": "text"
      },
      "source": [
        "Create a tensor of **constant** values using `tf.constant`\n",
        "\n"
      ]
    },
    {
      "cell_type": "code",
      "metadata": {
        "id": "M7WcEdKXYPWJ",
        "colab_type": "code",
        "outputId": "1895347c-db88-49c4-9382-4e4a6920cd9f",
        "colab": {
          "base_uri": "https://localhost:8080/",
          "height": 34
        }
      },
      "source": [
        "tensor_a = tf.constant([7, 8.0, 9.2], dtype=tf.float64)\n",
        "print(tensor_a)"
      ],
      "execution_count": 3,
      "outputs": [
        {
          "output_type": "stream",
          "text": [
            "tf.Tensor([7.  8.  9.2], shape=(3,), dtype=float64)\n"
          ],
          "name": "stdout"
        }
      ]
    },
    {
      "cell_type": "markdown",
      "metadata": {
        "id": "xe1JxVvpcnJu",
        "colab_type": "text"
      },
      "source": [
        "Create a tensor of **zeros** using `tf.zeros`"
      ]
    },
    {
      "cell_type": "code",
      "metadata": {
        "id": "8Npc8BL1c7wS",
        "colab_type": "code",
        "outputId": "c58447a1-ec32-4807-f486-3230f8b0a40f",
        "colab": {
          "base_uri": "https://localhost:8080/",
          "height": 34
        }
      },
      "source": [
        "tensor_a = tf.zeros(shape=(1, 3), dtype=tf.int64)\n",
        "print(tensor_a)"
      ],
      "execution_count": 4,
      "outputs": [
        {
          "output_type": "stream",
          "text": [
            "tf.Tensor([[0 0 0]], shape=(1, 3), dtype=int64)\n"
          ],
          "name": "stdout"
        }
      ]
    },
    {
      "cell_type": "markdown",
      "metadata": {
        "id": "GrWuey-ldHot",
        "colab_type": "text"
      },
      "source": [
        "Create a tensor of **ones** using `tf.ones`"
      ]
    },
    {
      "cell_type": "code",
      "metadata": {
        "id": "pSY7L_b_dMUE",
        "colab_type": "code",
        "outputId": "28fcad74-8824-4057-df8c-ab4dc71f2a52",
        "colab": {
          "base_uri": "https://localhost:8080/",
          "height": 34
        }
      },
      "source": [
        "tensor_a = tf.ones(shape=(1, 3), dtype=tf.int64)\n",
        "print(tensor_a)"
      ],
      "execution_count": 5,
      "outputs": [
        {
          "output_type": "stream",
          "text": [
            "tf.Tensor([[1 1 1]], shape=(1, 3), dtype=int64)\n"
          ],
          "name": "stdout"
        }
      ]
    },
    {
      "cell_type": "markdown",
      "metadata": {
        "id": "7CfPcoCidYd2",
        "colab_type": "text"
      },
      "source": [
        "Create a tensor of **uniformely distributed random** numbers using `tf.random.uniform`"
      ]
    },
    {
      "cell_type": "code",
      "metadata": {
        "id": "FZGyehnqdkZk",
        "colab_type": "code",
        "outputId": "96379eed-4470-417a-fe3c-85eb89cbb1dd",
        "colab": {
          "base_uri": "https://localhost:8080/",
          "height": 34
        }
      },
      "source": [
        "tensor_a = tf.random.uniform(shape=(1, 3), minval=0, maxval=1, dtype=tf.float64)\n",
        "print(tensor_a)"
      ],
      "execution_count": 6,
      "outputs": [
        {
          "output_type": "stream",
          "text": [
            "tf.Tensor([[0.03809021 0.32745412 0.86464392]], shape=(1, 3), dtype=float64)\n"
          ],
          "name": "stdout"
        }
      ]
    },
    {
      "cell_type": "markdown",
      "metadata": {
        "id": "zMPl0yzesGqM",
        "colab_type": "text"
      },
      "source": [
        "Create a tensor of **normally distributed random** numbers using `tf.random.normal`\n"
      ]
    },
    {
      "cell_type": "code",
      "metadata": {
        "id": "OvpXExJyuhWj",
        "colab_type": "code",
        "outputId": "a6d57591-e629-4898-a279-52cb07ee45ff",
        "colab": {
          "base_uri": "https://localhost:8080/",
          "height": 34
        }
      },
      "source": [
        "tensor_a = tf.random.normal(shape=(1, 3), mean=0.0, stddev=1.0, dtype=tf.float64)\n",
        "print(tensor_a)"
      ],
      "execution_count": 7,
      "outputs": [
        {
          "output_type": "stream",
          "text": [
            "tf.Tensor([[ 2.22209128 -0.66700806  1.02025735]], shape=(1, 3), dtype=float64)\n"
          ],
          "name": "stdout"
        }
      ]
    },
    {
      "cell_type": "markdown",
      "metadata": {
        "id": "deX5q4Hr0GR2",
        "colab_type": "text"
      },
      "source": [
        "## Accessing the values of a tensor\n",
        "Access the **values** of a tensor using `.numpy()`"
      ]
    },
    {
      "cell_type": "code",
      "metadata": {
        "id": "OV2mH11j0XKx",
        "colab_type": "code",
        "outputId": "8753fabf-1fb0-4871-98f2-263043dbdc32",
        "colab": {
          "base_uri": "https://localhost:8080/",
          "height": 34
        }
      },
      "source": [
        "tensor_a = tf.constant([1, 2, 3], dtype=tf.int64)\n",
        "print(tensor_a.numpy())"
      ],
      "execution_count": 8,
      "outputs": [
        {
          "output_type": "stream",
          "text": [
            "[1 2 3]\n"
          ],
          "name": "stdout"
        }
      ]
    },
    {
      "cell_type": "markdown",
      "metadata": {
        "id": "9dAwTtd2ZAzh",
        "colab_type": "text"
      },
      "source": [
        "## Manipulating the data type of a tensor\n",
        "Change the **data type** of a tensor using `tf.cast`"
      ]
    },
    {
      "cell_type": "code",
      "metadata": {
        "id": "2sVs7VxZZ_ui",
        "colab_type": "code",
        "outputId": "d389968a-f7ef-4bbb-b33d-8d295edf8f6c",
        "colab": {
          "base_uri": "https://localhost:8080/",
          "height": 51
        }
      },
      "source": [
        "tensor_a1 = tf.constant([1, 2, 3], dtype=tf.int64)\n",
        "print(tensor_a1)\n",
        "\n",
        "tensor_a2 = tf.cast(tensor_a1, dtype=tf.float64)\n",
        "print(tensor_a2)"
      ],
      "execution_count": 9,
      "outputs": [
        {
          "output_type": "stream",
          "text": [
            "tf.Tensor([1 2 3], shape=(3,), dtype=int64)\n",
            "tf.Tensor([1. 2. 3.], shape=(3,), dtype=float64)\n"
          ],
          "name": "stdout"
        }
      ]
    },
    {
      "cell_type": "markdown",
      "metadata": {
        "id": "2mfklz9NBlnz",
        "colab_type": "text"
      },
      "source": [
        "## Manipulating the shape of a tensor\n",
        "**Transpose** a tensor using `tf.transpose`"
      ]
    },
    {
      "cell_type": "code",
      "metadata": {
        "id": "qzddVGTxa_20",
        "colab_type": "code",
        "outputId": "d2268854-8640-4cdf-bcec-84db4a372d43",
        "colab": {
          "base_uri": "https://localhost:8080/",
          "height": 34
        }
      },
      "source": [
        "tensor_a1 = tf.random.uniform(shape=(1, 3), dtype=tf.float64)\n",
        "tensor_a2 = tf.transpose(tensor_a1)\n",
        "\n",
        "print('shape: ', tensor_a1.shape, '-->', tensor_a2.shape)"
      ],
      "execution_count": 10,
      "outputs": [
        {
          "output_type": "stream",
          "text": [
            "shape:  (1, 3) --> (3, 1)\n"
          ],
          "name": "stdout"
        }
      ]
    },
    {
      "cell_type": "markdown",
      "metadata": {
        "id": "lsgr5qOlcLr0",
        "colab_type": "text"
      },
      "source": [
        "**Reshape** a tensor using `tf.reshape`"
      ]
    },
    {
      "cell_type": "code",
      "metadata": {
        "id": "5wNCsxvhcXIX",
        "colab_type": "code",
        "outputId": "772d2062-8b7b-46cd-fc97-700d1d787bf6",
        "colab": {
          "base_uri": "https://localhost:8080/",
          "height": 34
        }
      },
      "source": [
        "tensor_a1 = tf.random.uniform(shape=(2, 3), dtype=tf.float64)\n",
        "tensor_a2 = tf.reshape(tensor_a1, shape=(1, 6))\n",
        "\n",
        "print('shape: ', tensor_a1.shape, '-->', tensor_a2.shape)"
      ],
      "execution_count": 11,
      "outputs": [
        {
          "output_type": "stream",
          "text": [
            "shape:  (2, 3) --> (1, 6)\n"
          ],
          "name": "stdout"
        }
      ]
    },
    {
      "cell_type": "markdown",
      "metadata": {
        "id": "mOCmsyCXPokR",
        "colab_type": "text"
      },
      "source": [
        "**Split** a tensor into a list of equally sized tensors using `tf.split`"
      ]
    },
    {
      "cell_type": "code",
      "metadata": {
        "id": "nNWfuYJpP4Pc",
        "colab_type": "code",
        "outputId": "8186ff79-23e6-467f-8a64-d982a33a4fd7",
        "colab": {
          "base_uri": "https://localhost:8080/",
          "height": 51
        }
      },
      "source": [
        "# Providing the number of splits (total size of input tensor must be divisible by desired number of splits):\n",
        "tensor_a = tf.random.uniform(shape=(6, ), minval=0, maxval=10, dtype=tf.int64)\n",
        "print(tensor_a)\n",
        "\n",
        "split_list_a = tf.split(tensor_a, num_or_size_splits=3)\n",
        "print([item.numpy() for item in split_list_a])"
      ],
      "execution_count": 12,
      "outputs": [
        {
          "output_type": "stream",
          "text": [
            "tf.Tensor([2 5 2 8 0 1], shape=(6,), dtype=int64)\n",
            "[array([2, 5]), array([2, 8]), array([0, 1])]\n"
          ],
          "name": "stdout"
        }
      ]
    },
    {
      "cell_type": "code",
      "metadata": {
        "id": "ts_Pf4UPRb82",
        "colab_type": "code",
        "outputId": "cfe7a46a-df5c-4101-8a1c-bd5e4c0494da",
        "colab": {
          "base_uri": "https://localhost:8080/",
          "height": 51
        }
      },
      "source": [
        "# Providing the sizes of different splits:\n",
        "tensor_a = tf.random.uniform(shape=(6, ), minval=0, maxval=10, dtype=tf.int64)\n",
        "print(tensor_a)\n",
        "\n",
        "split_list_a = tf.split(tensor_a, num_or_size_splits=[3, 2, 1])\n",
        "print([item.numpy() for item in split_list_a])"
      ],
      "execution_count": 13,
      "outputs": [
        {
          "output_type": "stream",
          "text": [
            "tf.Tensor([6 4 0 1 0 4], shape=(6,), dtype=int64)\n",
            "[array([6, 4, 0]), array([1, 0]), array([4])]\n"
          ],
          "name": "stdout"
        }
      ]
    },
    {
      "cell_type": "markdown",
      "metadata": {
        "id": "ysARI2LaRwLm",
        "colab_type": "text"
      },
      "source": [
        "**Concatenate** tensors into a single tensor using `tf.concat`"
      ]
    },
    {
      "cell_type": "code",
      "metadata": {
        "id": "-VKs_n-4aHtW",
        "colab_type": "code",
        "colab": {
          "base_uri": "https://localhost:8080/",
          "height": 68
        },
        "outputId": "79acc4ed-13d5-44bb-b08d-a0bdbc17c4ad"
      },
      "source": [
        "tensor_a = tf.random.uniform(shape=(3, ), minval=0, maxval=10, dtype=tf.int64)\n",
        "print(tensor_a)\n",
        "\n",
        "tensor_b = tf.random.uniform(shape=(3, ), minval=0, maxval=10, dtype=tf.int64)\n",
        "print(tensor_b)\n",
        "\n",
        "tensor_c = tf.concat([tensor_a, tensor_b], axis=0)\n",
        "print(tensor_c)"
      ],
      "execution_count": 14,
      "outputs": [
        {
          "output_type": "stream",
          "text": [
            "tf.Tensor([3 5 5], shape=(3,), dtype=int64)\n",
            "tf.Tensor([9 3 4], shape=(3,), dtype=int64)\n",
            "tf.Tensor([3 5 5 9 3 4], shape=(6,), dtype=int64)\n"
          ],
          "name": "stdout"
        }
      ]
    },
    {
      "cell_type": "markdown",
      "metadata": {
        "id": "1jPPUSsOeFA3",
        "colab_type": "text"
      },
      "source": [
        "**Stack** tensors into a single tensor using `tf.stack`"
      ]
    },
    {
      "cell_type": "code",
      "metadata": {
        "id": "E9Pxa5t2eIm8",
        "colab_type": "code",
        "colab": {
          "base_uri": "https://localhost:8080/",
          "height": 85
        },
        "outputId": "3068684c-3dfb-4e54-e65f-0cbbd4c264b9"
      },
      "source": [
        "tensor_a = tf.random.uniform(shape=(3, ), minval=0, maxval=10, dtype=tf.int64)\n",
        "print(tensor_a)\n",
        "\n",
        "tensor_b = tf.random.uniform(shape=(3, ), minval=0, maxval=10, dtype=tf.int64)\n",
        "print(tensor_b)\n",
        "\n",
        "tensor_c = tf.stack([tensor_a, tensor_b], axis=0)\n",
        "print(tensor_c.numpy())"
      ],
      "execution_count": 15,
      "outputs": [
        {
          "output_type": "stream",
          "text": [
            "tf.Tensor([8 3 1], shape=(3,), dtype=int64)\n",
            "tf.Tensor([1 6 7], shape=(3,), dtype=int64)\n",
            "[[8 3 1]\n",
            " [1 6 7]]\n"
          ],
          "name": "stdout"
        }
      ]
    },
    {
      "cell_type": "markdown",
      "metadata": {
        "id": "GAXIN_6erDnk",
        "colab_type": "text"
      },
      "source": [
        "## Applying mathematical operations to tensors\n",
        "Compute the **sum** of a tensor using `tf.math.reduce_sum`\n",
        "\n"
      ]
    },
    {
      "cell_type": "code",
      "metadata": {
        "id": "gJBj7mf08dp2",
        "colab_type": "code",
        "outputId": "46b3bb63-c8fa-4ec9-be61-5f9a977ab062",
        "colab": {
          "base_uri": "https://localhost:8080/",
          "height": 51
        }
      },
      "source": [
        "tensor_a = tf.random.uniform(shape=(1, 3), minval=0, maxval=10, dtype=tf.float64)\n",
        "print(tensor_a)\n",
        "\n",
        "tensor_b = tf.math.reduce_sum(tensor_a, axis=1)\n",
        "print(tensor_b)"
      ],
      "execution_count": 16,
      "outputs": [
        {
          "output_type": "stream",
          "text": [
            "tf.Tensor([[8.62827471 2.36463693 1.62974742]], shape=(1, 3), dtype=float64)\n",
            "tf.Tensor([12.62265906], shape=(1,), dtype=float64)\n"
          ],
          "name": "stdout"
        }
      ]
    },
    {
      "cell_type": "markdown",
      "metadata": {
        "id": "fgGeiuDu8Qm7",
        "colab_type": "text"
      },
      "source": [
        "Compute the **mean** of a tensor using `tf.math.reduce_mean`\n"
      ]
    },
    {
      "cell_type": "code",
      "metadata": {
        "id": "6SMZoPtnxprs",
        "colab_type": "code",
        "outputId": "20127138-bf5a-43e5-e985-5eed022253cf",
        "colab": {
          "base_uri": "https://localhost:8080/",
          "height": 51
        }
      },
      "source": [
        "tensor_a = tf.random.uniform(shape=(1, 3), minval=0, maxval=10, dtype=tf.float64)\n",
        "print(tensor_a)\n",
        "\n",
        "tensor_b = tf.math.reduce_mean(tensor_a, axis=1)\n",
        "print(tensor_b)"
      ],
      "execution_count": 17,
      "outputs": [
        {
          "output_type": "stream",
          "text": [
            "tf.Tensor([[9.45091037 0.80590071 4.47610616]], shape=(1, 3), dtype=float64)\n",
            "tf.Tensor([4.91097241], shape=(1,), dtype=float64)\n"
          ],
          "name": "stdout"
        }
      ]
    },
    {
      "cell_type": "markdown",
      "metadata": {
        "id": "q3frtddX-Bz9",
        "colab_type": "text"
      },
      "source": [
        "Compute the **standard deviation** of a tensor using `tf.math.reduce_std`\n"
      ]
    },
    {
      "cell_type": "code",
      "metadata": {
        "id": "MssaDdnq-JYS",
        "colab_type": "code",
        "outputId": "b518ba19-b6d8-4542-b260-9461c0a0c492",
        "colab": {
          "base_uri": "https://localhost:8080/",
          "height": 51
        }
      },
      "source": [
        "tensor_a = tf.random.uniform(shape=(1, 3), minval=0, maxval=10, dtype=tf.float64)\n",
        "print(tensor_a)\n",
        "\n",
        "tensor_b = tf.math.reduce_std(tensor_a, axis=1)\n",
        "print(tensor_b)"
      ],
      "execution_count": 18,
      "outputs": [
        {
          "output_type": "stream",
          "text": [
            "tf.Tensor([[6.03496563 6.95232387 2.6456228 ]], shape=(1, 3), dtype=float64)\n",
            "tf.Tensor([1.85223184], shape=(1,), dtype=float64)\n"
          ],
          "name": "stdout"
        }
      ]
    },
    {
      "cell_type": "markdown",
      "metadata": {
        "id": "qfYH7FO3xT9u",
        "colab_type": "text"
      },
      "source": [
        "Compute the **element-wise multiplication** of two tensors using `tf.multiply`"
      ]
    },
    {
      "cell_type": "code",
      "metadata": {
        "id": "Ed_BMzaJrmS8",
        "colab_type": "code",
        "outputId": "af72adec-bb87-4bb8-97e9-e2e89f81fab5",
        "colab": {
          "base_uri": "https://localhost:8080/",
          "height": 68
        }
      },
      "source": [
        "tensor_a = tf.random.uniform(shape=(1, 3), minval=0, maxval=1, dtype=tf.float64)\n",
        "print(tensor_a)\n",
        "\n",
        "tensor_b = tf.random.normal(shape=(1, 3), mean=0, stddev=1, dtype=tf.float64)\n",
        "print(tensor_b)\n",
        "\n",
        "tensor_c = tf.multiply(tensor_a, tensor_b)\n",
        "print(tensor_c)"
      ],
      "execution_count": 19,
      "outputs": [
        {
          "output_type": "stream",
          "text": [
            "tf.Tensor([[0.61103818 0.0423364  0.04287361]], shape=(1, 3), dtype=float64)\n",
            "tf.Tensor([[-0.29351012  0.23099112  0.36445998]], shape=(1, 3), dtype=float64)\n",
            "tf.Tensor([[-0.17934589  0.00977933  0.01562571]], shape=(1, 3), dtype=float64)\n"
          ],
          "name": "stdout"
        }
      ]
    },
    {
      "cell_type": "markdown",
      "metadata": {
        "id": "tmdywQBd-ayN",
        "colab_type": "text"
      },
      "source": [
        "Compute the **matrix multiplication** of two tensors using `tf.linalg.matmul`"
      ]
    },
    {
      "cell_type": "code",
      "metadata": {
        "id": "X1NXfEFE-9rY",
        "colab_type": "code",
        "outputId": "4f86c7be-0984-4afc-bb8e-d459e6cebc43",
        "colab": {
          "base_uri": "https://localhost:8080/",
          "height": 34
        }
      },
      "source": [
        "tensor_a = tf.random.uniform(shape=(1, 3), minval=0, maxval=10, dtype=tf.float64)\n",
        "tensor_b = tf.random.uniform(shape=(2, 3), minval=0, maxval=10, dtype=tf.float64)\n",
        "tensor_c = tf.linalg.matmul(tensor_a, tensor_b, transpose_b=True)\n",
        "\n",
        "print('shape: ', tensor_a.shape, '*', tensor_b.shape, 'T -->', tensor_c.shape)"
      ],
      "execution_count": 20,
      "outputs": [
        {
          "output_type": "stream",
          "text": [
            "shape:  (1, 3) * (2, 3) T --> (1, 2)\n"
          ],
          "name": "stdout"
        }
      ]
    }
  ]
}