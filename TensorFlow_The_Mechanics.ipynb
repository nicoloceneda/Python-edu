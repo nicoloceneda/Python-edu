{
  "nbformat": 4,
  "nbformat_minor": 0,
  "metadata": {
    "colab": {
      "name": "TensorFlow - The Mechanics",
      "provenance": [],
      "collapsed_sections": [],
      "authorship_tag": "ABX9TyOJKHxULuNbTq1L3UNstabZ",
      "include_colab_link": true
    },
    "kernelspec": {
      "name": "python3",
      "display_name": "Python 3"
    }
  },
  "cells": [
    {
      "cell_type": "markdown",
      "metadata": {
        "id": "view-in-github",
        "colab_type": "text"
      },
      "source": [
        "<a href=\"https://colab.research.google.com/github/nicoloceneda/Python-edu/blob/master/TensorFlow_The_Mechanics.ipynb\" target=\"_parent\"><img src=\"https://colab.research.google.com/assets/colab-badge.svg\" alt=\"Open In Colab\"/></a>"
      ]
    },
    {
      "cell_type": "markdown",
      "metadata": {
        "id": "FyDf6fDaOh-o",
        "colab_type": "text"
      },
      "source": [
        "# TensorFlow - The Mechanics\n",
        "---\n",
        "\n"
      ]
    },
    {
      "cell_type": "code",
      "metadata": {
        "id": "qjeDtabOOprs",
        "colab_type": "code",
        "colab": {}
      },
      "source": [
        "import tensorflow as tf"
      ],
      "execution_count": 0,
      "outputs": []
    },
    {
      "cell_type": "markdown",
      "metadata": {
        "id": "9jXJ2uehOrkF",
        "colab_type": "text"
      },
      "source": [
        "## Creating a computation graph\n",
        "TensorFlow relies on building computation graphs to perform computations and derive the relationship between tensors, from the input all the way to the output. A computation graph is a network of nodes, where each node represents a tensor or an operation, which applies a function to its input tensor(s) and returns zero or more output tensors. TensorFlow uses this computation graph to compute gradients.\n",
        "\n",
        "\n"
      ]
    },
    {
      "cell_type": "markdown",
      "metadata": {
        "id": "xR-fHHHMSZEC",
        "colab_type": "text"
      },
      "source": [
        "### TensorFlow v1.x\n",
        "TensorFlow v1.x's low-level API uses **static computation graphs**, which must be explicitly defined, although this is not trivial for large and complex models. The steps for building, compiling and evaluating a graph are:\n",
        "\n",
        "1. Instantiate an empty graph using `tf.Graph()`\n",
        "2. Add nodes to the computation graph using `g.as_default()`\n",
        "3. Evaluate the graph: \\\n",
        "     3.1 Start a new session using `tf.compat.v1.Session()` \\\n",
        "     3.2 Initialize the variables using `tf.compat.v1.global_variables_initializer()` \\\n",
        "     3.3 Execute the operations using `sess.run()`"
      ]
    },
    {
      "cell_type": "code",
      "metadata": {
        "id": "d4CWkVhlXAaj",
        "colab_type": "code",
        "outputId": "46a52d78-f353-4326-d924-0580a82d0ddb",
        "colab": {
          "base_uri": "https://localhost:8080/",
          "height": 34
        }
      },
      "source": [
        "# Example with only constants\n",
        "g = tf.Graph()\n",
        "\n",
        "with g.as_default():\n",
        "  a = tf.constant(1, name='a')\n",
        "  b = tf.constant(2, name='b')\n",
        "  c = tf.constant(3, name='c')\n",
        "  z = 2 * (a - b) + c\n",
        "\n",
        "with tf.compat.v1.Session(graph=g) as sess:\n",
        "  print('z =', sess.run(z))"
      ],
      "execution_count": 2,
      "outputs": [
        {
          "output_type": "stream",
          "text": [
            "z = 1\n"
          ],
          "name": "stdout"
        }
      ]
    },
    {
      "cell_type": "code",
      "metadata": {
        "id": "PO4DlniPuUuW",
        "colab_type": "code",
        "outputId": "aa24e518-5dbc-40ef-bc63-c357144e76bc",
        "colab": {
          "base_uri": "https://localhost:8080/",
          "height": 34
        }
      },
      "source": [
        "# Example with only placeholders\n",
        "g = tf.Graph()\n",
        "\n",
        "with g.as_default():\n",
        "  a = tf.compat.v1.placeholder(shape=None, dtype=tf.int32, name='tf_a')\n",
        "  b = tf.compat.v1.placeholder(shape=None, dtype=tf.int32, name='tf_b')\n",
        "  c = tf.compat.v1.placeholder(shape=None, dtype=tf.int32, name='tf_c')\n",
        "  z = 2 * (a - b) + c\n",
        "\n",
        "with tf.compat.v1.Session(graph=g) as sess:\n",
        "  print('z =', sess.run(z, feed_dict = {a: 1, b: 2, c: 3}))"
      ],
      "execution_count": 3,
      "outputs": [
        {
          "output_type": "stream",
          "text": [
            "z = 1\n"
          ],
          "name": "stdout"
        }
      ]
    },
    {
      "cell_type": "code",
      "metadata": {
        "id": "3IwYcPnW1-Fk",
        "colab_type": "code",
        "outputId": "ad2a6a47-5b0a-4013-82a3-e2aeb649ef8b",
        "colab": {
          "base_uri": "https://localhost:8080/",
          "height": 68
        }
      },
      "source": [
        "# Example with placeholders and variables\n",
        "g = tf.Graph()\n",
        "\n",
        "with g.as_default():\n",
        "  x = tf.compat.v1.placeholder(shape=None, dtype=tf.float32, name='x')\n",
        "  w = tf.Variable(2.0, name='weight')\n",
        "  b = tf.Variable(0.7, name='bias')\n",
        "  z = w * x + b\n",
        "\n",
        "  init = tf.compat.v1.global_variables_initializer()\n",
        "\n",
        "with tf.compat.v1.Session(graph=g) as sess:\n",
        "  sess.run(init)\n",
        "  for t in [1.0, 0.6, -1.8]:\n",
        "    print('x = {:>5.2f} --> z = {:>5.2f}'.format(t, sess.run(z, feed_dict={x: t})))\n"
      ],
      "execution_count": 33,
      "outputs": [
        {
          "output_type": "stream",
          "text": [
            "x =  1.00 --> z =  2.70\n",
            "x =  0.60 --> z =  1.90\n",
            "x = -1.80 --> z = -2.90\n"
          ],
          "name": "stdout"
        }
      ]
    },
    {
      "cell_type": "markdown",
      "metadata": {
        "id": "jqj7MKohozwy",
        "colab_type": "text"
      },
      "source": [
        "### TensorFlow v2\n",
        "TensorFlow v2 uses **dynamic computation graphs** (also called eager execution), which allow to evaluate operations on the fly, without the need to explicitly create a graph, constants and a session."
      ]
    },
    {
      "cell_type": "code",
      "metadata": {
        "id": "9Afhx37cp1HV",
        "colab_type": "code",
        "outputId": "b6b5c676-0e44-4eab-a825-68853139d829",
        "colab": {
          "base_uri": "https://localhost:8080/",
          "height": 34
        }
      },
      "source": [
        "a = tf.constant(1, name='a')\n",
        "b = tf.constant(2, name='b')\n",
        "c = tf.constant(3, name='c')\n",
        "z = 2 * (a - b) + c\n",
        "\n",
        "print('z =', z.numpy())"
      ],
      "execution_count": 5,
      "outputs": [
        {
          "output_type": "stream",
          "text": [
            "z = 1\n"
          ],
          "name": "stdout"
        }
      ]
    },
    {
      "cell_type": "markdown",
      "metadata": {
        "id": "BrsN6mV7zlZb",
        "colab_type": "text"
      },
      "source": [
        "To **load input data** into a model, we can directly feed data in the form of Python variables or NumPy arrays, without the need to create a graph, placeholders and a session. "
      ]
    },
    {
      "cell_type": "code",
      "metadata": {
        "id": "ewMrvNnxxOyW",
        "colab_type": "code",
        "outputId": "8e8ff463-6d2a-4a97-bd12-6e4d19ecdac0",
        "colab": {
          "base_uri": "https://localhost:8080/",
          "height": 34
        }
      },
      "source": [
        "def compute_z(a, b, c):\n",
        "  z = tf.add(tf.multiply(2, tf.subtract(a, b)), c)\n",
        "  return z\n",
        "\n",
        "z = compute_z(1, 2, 3)\n",
        "print('z =', z.numpy())"
      ],
      "execution_count": 6,
      "outputs": [
        {
          "output_type": "stream",
          "text": [
            "z = 1\n"
          ],
          "name": "stdout"
        }
      ]
    },
    {
      "cell_type": "markdown",
      "metadata": {
        "id": "mU5daJn99OJQ",
        "colab_type": "text"
      },
      "source": [
        "Since dynamic graphs are not as computationally efficient as static ones, TensorFlow v2 automatically compiles Python **code into a static graph** using a tool called AutoGraph. Moreover, we can compile a **function into a static graph** using the `@tf.function` decorator."
      ]
    },
    {
      "cell_type": "code",
      "metadata": {
        "id": "UWESrk9SCtTi",
        "colab_type": "code",
        "colab": {
          "base_uri": "https://localhost:8080/",
          "height": 34
        },
        "outputId": "a32fea51-5e33-4c21-8196-5f692b567f8c"
      },
      "source": [
        "@tf.function\n",
        "def compute_z(a, b, c):\n",
        "  z = tf.add(tf.multiply(2, tf.subtract(a, b)), c)\n",
        "  return z\n",
        "\n",
        "z = compute_z(1, 2, 3)\n",
        "print('z =', z.numpy())"
      ],
      "execution_count": 7,
      "outputs": [
        {
          "output_type": "stream",
          "text": [
            "z = 1\n"
          ],
          "name": "stdout"
        }
      ]
    },
    {
      "cell_type": "markdown",
      "metadata": {
        "id": "4BPGQr-aqAvE",
        "colab_type": "text"
      },
      "source": [
        "**Limit the ways to call** a function using `tf.TensorSpec`."
      ]
    },
    {
      "cell_type": "code",
      "metadata": {
        "id": "G3x4Z_B0NqXD",
        "colab_type": "code",
        "outputId": "4bf03742-4a76-472e-ebd6-c06da85aebd3",
        "colab": {
          "base_uri": "https://localhost:8080/",
          "height": 51
        }
      },
      "source": [
        "@tf.function(input_signature=(tf.TensorSpec(shape=[None], dtype=tf.int32), tf.TensorSpec(shape=[None], dtype=tf.int32), tf.TensorSpec(shape=[None], dtype=tf.int32),))\n",
        "def compute_z(a, b, c):\n",
        "  z = tf.add(tf.multiply(2, tf.subtract(a, b)), c)\n",
        "  return z\n",
        "\n",
        "# Calling the function using tensors with rank 1 or lists that can be converted to rank 1 tensors:\n",
        "tf.print('Rank 1 inputs:', compute_z([1], [2], [3]))\n",
        "tf.print('Rank 1 inputs:', compute_z([1, 2], [2, 4], [3, 6]))\n",
        "\n",
        "# Calling the function using tensors with ranks other than 1 will result in errors:\n",
        "# tf.print('Rank 0 inputs:', compute_z(1, 2, 3)) \n",
        "# tf.print('Rank 2 Inputs:', compute_z([[1], [2]], [2], [4]], [[3], [6]]))"
      ],
      "execution_count": 8,
      "outputs": [
        {
          "output_type": "stream",
          "text": [
            "Rank 1 inputs: [1]\n",
            "Rank 1 inputs: [1 2]\n"
          ],
          "name": "stdout"
        }
      ]
    },
    {
      "cell_type": "markdown",
      "metadata": {
        "id": "LhsXGDY3WJQ5",
        "colab_type": "text"
      },
      "source": [
        "## Variable objects for storing and updating model parameters\n",
        "A variable is a special tensor that allows to store and update the parameters of our model during training.\n",
        "\n",
        "**Create a variable** using `tf.Variable`"
      ]
    },
    {
      "cell_type": "code",
      "metadata": {
        "id": "Df71mcB9cdNJ",
        "colab_type": "code",
        "colab": {
          "base_uri": "https://localhost:8080/",
          "height": 85
        },
        "outputId": "ecbbc9d6-6d51-4de1-c550-e1d6a036de19"
      },
      "source": [
        "a = tf.Variable(initial_value=3, name='var_a')\n",
        "print(a)\n",
        "\n",
        "b = tf.Variable(initial_value=[1, 2, 3], name='var_b')\n",
        "print(b)\n",
        "\n",
        "c = tf.Variable(initial_value=[True, False], dtype=tf.bool)\n",
        "print(c)\n",
        "\n",
        "d = tf.Variable(initial_value=['abc'], dtype=tf.string)\n",
        "print(d)"
      ],
      "execution_count": 9,
      "outputs": [
        {
          "output_type": "stream",
          "text": [
            "<tf.Variable 'var_a:0' shape=() dtype=int32, numpy=3>\n",
            "<tf.Variable 'var_b:0' shape=(3,) dtype=int32, numpy=array([1, 2, 3], dtype=int32)>\n",
            "<tf.Variable 'Variable:0' shape=(2,) dtype=bool, numpy=array([ True, False])>\n",
            "<tf.Variable 'Variable:0' shape=(1,) dtype=string, numpy=array([b'abc'], dtype=object)>\n"
          ],
          "name": "stdout"
        }
      ]
    },
    {
      "cell_type": "markdown",
      "metadata": {
        "id": "m6LWMvYo9wCv",
        "colab_type": "text"
      },
      "source": [
        "To use a **variable inside a decorated function**, define the variable outside of the decorated function."
      ]
    },
    {
      "cell_type": "code",
      "metadata": {
        "id": "Xvd4Zgq29wcm",
        "colab_type": "code",
        "colab": {
          "base_uri": "https://localhost:8080/",
          "height": 51
        },
        "outputId": "9dfa7ee7-afdc-4869-a1c5-89782a50264a"
      },
      "source": [
        "w = tf.Variable(tf.random.uniform((2, 3)))\n",
        "\n",
        "@tf.function\n",
        "def compute_z(x):\n",
        "  return tf.matmul(w, x)\n",
        "\n",
        "x = tf.constant([[1], [2], [3]], dtype=tf.float32)\n",
        "print(compute_z(x).numpy())"
      ],
      "execution_count": 35,
      "outputs": [
        {
          "output_type": "stream",
          "text": [
            "[[3.6419163]\n",
            " [1.698332 ]]\n"
          ],
          "name": "stdout"
        }
      ]
    },
    {
      "cell_type": "markdown",
      "metadata": {
        "id": "rIh1i2DhveE1",
        "colab_type": "text"
      },
      "source": [
        "**Specify trainable** and non-trainable variables using `trainable`."
      ]
    },
    {
      "cell_type": "code",
      "metadata": {
        "id": "Z2ZkM6qPvudZ",
        "colab_type": "code",
        "colab": {
          "base_uri": "https://localhost:8080/",
          "height": 51
        },
        "outputId": "0b27f055-0904-4835-f3a8-078522b42046"
      },
      "source": [
        "a = tf.Variable(initial_value=3, trainable=False)\n",
        "print('a trainable:', a.trainable)\n",
        "\n",
        "b = tf.Variable(initial_value=3, trainable=True)\n",
        "print('b.trainable:', b.trainable)"
      ],
      "execution_count": 10,
      "outputs": [
        {
          "output_type": "stream",
          "text": [
            "a trainable: False\n",
            "b.trainable: True\n"
          ],
          "name": "stdout"
        }
      ]
    },
    {
      "cell_type": "markdown",
      "metadata": {
        "id": "Mkxj7imaxClQ",
        "colab_type": "text"
      },
      "source": [
        "**Modify the values** of a variable using `assign()`, `assign_add()`, and other methods."
      ]
    },
    {
      "cell_type": "code",
      "metadata": {
        "id": "ZMWXkjIaxcUV",
        "colab_type": "code",
        "colab": {
          "base_uri": "https://localhost:8080/",
          "height": 85
        },
        "outputId": "37272551-f3dd-4a3f-9504-37b83218a61f"
      },
      "source": [
        "a = tf.Variable(initial_value=1)\n",
        "print('a before:', a.numpy())\n",
        "a.assign(value=3, read_value=True)\n",
        "print('a after:', a.numpy())\n",
        "\n",
        "b = tf.Variable(initial_value=[1, 2, 3])\n",
        "print('b before:', b.numpy())\n",
        "b.assign_add(delta=[1, 1, 1], read_value=True)\n",
        "print('b after:', b.numpy())"
      ],
      "execution_count": 30,
      "outputs": [
        {
          "output_type": "stream",
          "text": [
            "a before: 1\n",
            "a after: 3\n",
            "b before: [1 2 3]\n",
            "b after: [2 3 4]\n"
          ],
          "name": "stdout"
        }
      ]
    },
    {
      "cell_type": "markdown",
      "metadata": {
        "id": "8daNDEbX2bWm",
        "colab_type": "text"
      },
      "source": [
        "Initialize a variable with **random values** using `tf.keras.initializers`."
      ]
    },
    {
      "cell_type": "code",
      "metadata": {
        "id": "N73DEVf82rMn",
        "colab_type": "code",
        "colab": {
          "base_uri": "https://localhost:8080/",
          "height": 34
        },
        "outputId": "673abf14-966c-4973-93cd-8a9bab05a812"
      },
      "source": [
        "# Glorot initialization\n",
        "tf.random.set_seed(seed=1)\n",
        "init = tf.keras.initializers.GlorotNormal()\n",
        "\n",
        "print(init(shape=(3, )).numpy())"
      ],
      "execution_count": 32,
      "outputs": [
        {
          "output_type": "stream",
          "text": [
            "[-0.7227959   1.0145682   0.25180823]\n"
          ],
          "name": "stdout"
        }
      ]
    },
    {
      "cell_type": "markdown",
      "metadata": {
        "id": "CvZhH50RKfs0",
        "colab_type": "text"
      },
      "source": [
        "## Computing gradients via automatic differentiation and GradientTape\n",
        "Optimizing neural networks via algorithms such as stochastic gradient descent requires computing the gradients of the cost with respect to the weights. TensorFlow supports automatic differentiation, which can be thought of as an implementation of the chain rule for computing gradients of nested functions. \n",
        "\n"
      ]
    }
  ]
}