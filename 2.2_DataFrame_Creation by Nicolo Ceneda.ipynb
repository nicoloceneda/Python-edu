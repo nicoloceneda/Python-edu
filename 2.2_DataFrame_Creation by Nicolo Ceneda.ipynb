{
 "cells": [
  {
   "cell_type": "markdown",
   "metadata": {},
   "source": [
    "## Import NumPy and Pandas"
   ]
  },
  {
   "cell_type": "markdown",
   "metadata": {},
   "source": [
    "Import `Pandas` with the alias `pd` and `NumPy` with the alias `np`."
   ]
  },
  {
   "cell_type": "code",
   "execution_count": 1,
   "metadata": {},
   "outputs": [],
   "source": [
    "import pandas as pd\n",
    "import numpy as np"
   ]
  },
  {
   "cell_type": "markdown",
   "metadata": {},
   "source": [
    "# Create DataFrame from Dictionary of Series"
   ]
  },
  {
   "cell_type": "markdown",
   "metadata": {},
   "source": [
    "Create a dictionary from a dictionary of Series."
   ]
  },
  {
   "cell_type": "code",
   "execution_count": 7,
   "metadata": {},
   "outputs": [
    {
     "name": "stdout",
     "output_type": "stream",
     "text": [
      "            Population    Area\n",
      "California    38332521  423967\n",
      "Texas         26448193  695662\n",
      "New York      19651127  141297\n",
      "Florida       19552860  170312\n"
     ]
    }
   ],
   "source": [
    "# Create the first Series from a dictionary\n",
    "s1_dict = {'California': 38332521, 'Texas': 26448193, 'New York': 19651127, \n",
    "           'Florida': 19552860}\n",
    "s1 = pd.Series(s1_dict)\n",
    "\n",
    "# Create the second Series from a dictionary\n",
    "s2_dict = {'California': 423967, 'Texas': 695662, 'New York': 141297, \n",
    "           'Florida': 170312}\n",
    "s2 = pd.Series(s2_dict)\n",
    "\n",
    "# Create a DataFrame from a dictionary of Series\n",
    "d1 = pd.DataFrame({'Population':s1,'Area':s2})\n",
    "print(d1)"
   ]
  },
  {
   "cell_type": "markdown",
   "metadata": {},
   "source": [
    "Like a Series object, a DataFrame has values and index attributes; additionally, it has a column attribute. Therefore, a DataFrame can be thought of as a generalization of a two-dimensional NumPy array, where both the rows and columns have an index."
   ]
  },
  {
   "cell_type": "markdown",
   "metadata": {},
   "source": [
    "Access the values of the DataFrame."
   ]
  },
  {
   "cell_type": "code",
   "execution_count": 8,
   "metadata": {},
   "outputs": [
    {
     "data": {
      "text/plain": [
       "array([[38332521,   423967],\n",
       "       [26448193,   695662],\n",
       "       [19651127,   141297],\n",
       "       [19552860,   170312]])"
      ]
     },
     "execution_count": 8,
     "metadata": {},
     "output_type": "execute_result"
    }
   ],
   "source": [
    "d1.values"
   ]
  },
  {
   "cell_type": "markdown",
   "metadata": {},
   "source": [
    "Access the index of a DataFrame."
   ]
  },
  {
   "cell_type": "code",
   "execution_count": 9,
   "metadata": {},
   "outputs": [
    {
     "data": {
      "text/plain": [
       "Index(['California', 'Texas', 'New York', 'Florida'], dtype='object')"
      ]
     },
     "execution_count": 9,
     "metadata": {},
     "output_type": "execute_result"
    }
   ],
   "source": [
    "d1.index"
   ]
  },
  {
   "cell_type": "code",
   "execution_count": 10,
   "metadata": {},
   "outputs": [
    {
     "data": {
      "text/plain": [
       "Index(['Population', 'Area'], dtype='object')"
      ]
     },
     "execution_count": 10,
     "metadata": {},
     "output_type": "execute_result"
    }
   ],
   "source": [
    "d1.columns"
   ]
  },
  {
   "cell_type": "markdown",
   "metadata": {},
   "source": [
    "# Create DataFrame from Dictionaries"
   ]
  },
  {
   "cell_type": "markdown",
   "metadata": {},
   "source": [
    "Pandas DataFrames can be thought of as a specialization of a Python dictionary. A DataFrame is a structure which maps a column name to a Series of column data while a dictionary is a structure that maps arbitrary keys to a set of arbitrary values. For certain operations, the structure of a Pandas DataFrame improves the efficiency compared to that of a Python dictionary."
   ]
  },
  {
   "cell_type": "markdown",
   "metadata": {},
   "source": [
    "Besides the first example, where a dictionary was created from a dictionary of Series, it is possible to create a DataFrame directly from dictionaries."
   ]
  },
  {
   "cell_type": "code",
   "execution_count": 11,
   "metadata": {},
   "outputs": [
    {
     "name": "stdout",
     "output_type": "stream",
     "text": [
      "   California   Florida  New York     Texas\n",
      "0    38332521  19552860  19651127  26448193\n",
      "1      423967    170312    141297    695662\n"
     ]
    }
   ],
   "source": [
    "# Create the first dictionary\n",
    "population = {'California': 38332521, 'Texas': 26448193, 'New York': 19651127, \n",
    "              'Florida': 19552860}\n",
    "\n",
    "# Create the second dictionary\n",
    "area = {'California': 423967, 'Texas': 695662, 'New York': 141297, \n",
    "        'Florida': 170312}\n",
    "\n",
    "# Create a DataFrame from two dictionaries\n",
    "d2 = pd.DataFrame([population, area])\n",
    "print(d2)"
   ]
  }
 ],
 "metadata": {
  "kernelspec": {
   "display_name": "Python 3",
   "language": "python",
   "name": "python3"
  },
  "language_info": {
   "codemirror_mode": {
    "name": "ipython",
    "version": 3
   },
   "file_extension": ".py",
   "mimetype": "text/x-python",
   "name": "python",
   "nbconvert_exporter": "python",
   "pygments_lexer": "ipython3",
   "version": "3.7.3"
  }
 },
 "nbformat": 4,
 "nbformat_minor": 2
}
