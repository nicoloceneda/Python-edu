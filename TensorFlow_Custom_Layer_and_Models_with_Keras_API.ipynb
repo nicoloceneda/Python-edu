{
  "nbformat": 4,
  "nbformat_minor": 0,
  "metadata": {
    "colab": {
      "name": "TensorFlow - Custom Layer and Models with Keras API.ipynb",
      "provenance": [],
      "collapsed_sections": [],
      "authorship_tag": "ABX9TyN6hWjDtg5Ty4H0CzHO9sNI",
      "include_colab_link": true
    },
    "kernelspec": {
      "name": "python3",
      "display_name": "Python 3"
    }
  },
  "cells": [
    {
      "cell_type": "markdown",
      "metadata": {
        "id": "view-in-github",
        "colab_type": "text"
      },
      "source": [
        "<a href=\"https://colab.research.google.com/github/nicoloceneda/Python-edu/blob/master/TensorFlow_Custom_Layer_and_Models_with_Keras_API.ipynb\" target=\"_parent\"><img src=\"https://colab.research.google.com/assets/colab-badge.svg\" alt=\"Open In Colab\"/></a>"
      ]
    },
    {
      "cell_type": "markdown",
      "metadata": {
        "id": "nymC9IcIKlEs",
        "colab_type": "text"
      },
      "source": [
        "# TensorFlow - Custom Layer and Models with Keras API \n",
        "---\n",
        "\n"
      ]
    },
    {
      "cell_type": "code",
      "metadata": {
        "id": "IiPmKn1GKTMI",
        "colab_type": "code",
        "colab": {}
      },
      "source": [
        "import tensorflow as tf\n",
        "from tensorflow.keras import layers"
      ],
      "execution_count": 0,
      "outputs": []
    },
    {
      "cell_type": "markdown",
      "metadata": {
        "id": "YNEv7jz0NALh",
        "colab_type": "text"
      },
      "source": [
        "## Adding weights\n",
        "A Layer is the main data structure that encapsulates a state (the weights w and b) and a transformation from inputs to outputs (the forward pass defined in call). \n",
        "\n",
        "**Add trainable weights** to a layer `manually` or using `add_weight` in the `__init__` method."
      ]
    },
    {
      "cell_type": "code",
      "metadata": {
        "id": "g_T1n-nzPBND",
        "colab_type": "code",
        "outputId": "1660d05e-b626-4c8e-f65d-67d7a94b7191",
        "colab": {
          "base_uri": "https://localhost:8080/",
          "height": 51
        }
      },
      "source": [
        "# Add trainable weights manually\n",
        "class Linear(layers.Layer):\n",
        "\n",
        "  def __init__(self, units=32, input_dim=32):\n",
        "    super(Linear, self).__init__()\n",
        "    w_init = tf.random_normal_initializer()\n",
        "    self.w = tf.Variable(initial_value=w_init(shape=(input_dim, units), dtype='float32'), trainable=True)\n",
        "    b_init = tf.zeros_initializer()\n",
        "    self.b = tf.Variable(initial_value=b_init(shape=(units, ), dtype='float32'), trainable=True)\n",
        "\n",
        "  def call(self, inputs):\n",
        "    return tf.linalg.matmul(inputs, self.w) + self.b\n",
        "\n",
        "x = tf.ones((2, 2))\n",
        "\n",
        "linear_layer = Linear(units=4, input_dim=2)\n",
        "y = linear_layer(inputs=x)\n",
        "print(y.numpy())"
      ],
      "execution_count": 0,
      "outputs": [
        {
          "output_type": "stream",
          "text": [
            "[[0.01778614 0.00810714 0.11528654 0.02348447]\n",
            " [0.01778614 0.00810714 0.11528654 0.02348447]]\n"
          ],
          "name": "stdout"
        }
      ]
    },
    {
      "cell_type": "code",
      "metadata": {
        "id": "wkDw24ne7CXn",
        "colab_type": "code",
        "outputId": "f0fc84aa-c53d-43a4-a5a4-7ff9b9a6416b",
        "colab": {
          "base_uri": "https://localhost:8080/",
          "height": 51
        }
      },
      "source": [
        "# Add trainable weights using add_weight in the __init__ method\n",
        "class Linear(layers.Layer):\n",
        "\n",
        "  def __init__(self, units=32, input_dim=32):\n",
        "    super(Linear, self).__init__()\n",
        "    self.w = self.add_weight(shape=(input_dim, units), initializer='random_normal', trainable=True)\n",
        "    self.b = self.add_weight(shape=(units, ), initializer='zeros', trainable=True)\n",
        "\n",
        "  def call(self, inputs):\n",
        "    return tf.linalg.matmul(inputs, self.w) + self.b\n",
        "\n",
        "  x = tf.ones((2, 2))\n",
        "\n",
        "  linear_layer = Linear(units=4, input_dim=2)\n",
        "  y = linear_layer(inputs=x)\n",
        "  print(y.numpy())"
      ],
      "execution_count": 0,
      "outputs": [
        {
          "output_type": "stream",
          "text": [
            "[[ 0.02587924  0.14166737 -0.03810942 -0.06730217]\n",
            " [ 0.02587924  0.14166737 -0.03810942 -0.06730217]]\n"
          ],
          "name": "stdout"
        }
      ]
    },
    {
      "cell_type": "markdown",
      "metadata": {
        "id": "KTiPyiAB_Dbv",
        "colab_type": "text"
      },
      "source": [
        "**Add non-trainable weights** (which are meant not to be taken into account during the backpropagation process of training) to a Layer `manually`. "
      ]
    },
    {
      "cell_type": "code",
      "metadata": {
        "id": "wZCjV9oC_bVe",
        "colab_type": "code",
        "outputId": "a9a4a3ee-4e5a-46a0-928c-a1e001b7bce2",
        "colab": {
          "base_uri": "https://localhost:8080/",
          "height": 51
        }
      },
      "source": [
        "class ComputeSum(layers.Layer):\n",
        "\n",
        "  def __init__(self, input_dim=32):\n",
        "    super(ComputeSum, self).__init__()\n",
        "    self.total = tf.Variable(initial_value=tf.zeros((input_dim, )), trainable=False)\n",
        "\n",
        "  def call(self, inputs):\n",
        "    self.total.assign_add(tf.reduce_sum(inputs, axis=0))\n",
        "    return self.total\n",
        "\n",
        "x = tf.ones((2, 2))\n",
        "\n",
        "my_sum = ComputeSum(input_dim=2)\n",
        "y = my_sum(inputs=x)\n",
        "print(y.numpy())\n",
        "y = my_sum(inputs=x)\n",
        "print(y.numpy())"
      ],
      "execution_count": 0,
      "outputs": [
        {
          "output_type": "stream",
          "text": [
            "[2. 2.]\n",
            "[4. 4.]\n"
          ],
          "name": "stdout"
        }
      ]
    },
    {
      "cell_type": "markdown",
      "metadata": {
        "id": "hXdSMcBeE-Oz",
        "colab_type": "text"
      },
      "source": [
        "**Defer weight creation** until the shape of the inputs is known using `add_weight` in the `build` method. Doing so, the weights are created dynamically the first time the layer is called. This is the best practice as in many cases the size of the inputs is not known in advance."
      ]
    },
    {
      "cell_type": "code",
      "metadata": {
        "id": "Ft5lWBDDOZh4",
        "colab_type": "code",
        "outputId": "29283922-4aa7-4a99-b62c-3da809eb1dd8",
        "colab": {
          "base_uri": "https://localhost:8080/",
          "height": 68
        }
      },
      "source": [
        "class Linear(layers.Layer):\n",
        "\n",
        "  def __init__(self, units=32):\n",
        "    super(Linear, self).__init__()\n",
        "    self.units = units\n",
        "\n",
        "  def build(self, input_shape=32):\n",
        "    self.w = self.add_weight(shape=(input_shape[-1], self.units), initializer='random_normal', trainable=True)\n",
        "    self.b = self.add_weight(shape=(self.units, ), initializer='zeros', trainable=True)\n",
        "  \n",
        "  def call(self, inputs):\n",
        "    return tf.matmul(inputs, self.w) + self.b\n",
        "\n",
        "x = tf.ones((2, 2))\n",
        "\n",
        "linear_layer = Linear(units=4)\n",
        "y = linear_layer(inputs=x)\n",
        "print(y.numpy())"
      ],
      "execution_count": 0,
      "outputs": [
        {
          "output_type": "stream",
          "text": [
            "(2, 3) 3\n",
            "[[ 0.10048345  0.10018738 -0.03829457 -0.0474291 ]\n",
            " [ 0.10048345  0.10018738 -0.03829457 -0.0474291 ]]\n"
          ],
          "name": "stdout"
        }
      ]
    },
    {
      "cell_type": "markdown",
      "metadata": {
        "id": "wXGGPuHVmzwr",
        "colab_type": "text"
      },
      "source": [
        "Define **layers recursively** (a layer instance is assigned as attribute of another layer) by `instantiating` them in the `__init__` method."
      ]
    },
    {
      "cell_type": "code",
      "metadata": {
        "id": "K8M8aDosg7mE",
        "colab_type": "code",
        "outputId": "89fd5116-ed76-4cdc-fdc2-2fdf92c05fce",
        "colab": {
          "base_uri": "https://localhost:8080/",
          "height": 68
        }
      },
      "source": [
        "class Linear(layers.Layer):\n",
        "\n",
        "  def __init__(self, units=32):\n",
        "    super(Linear, self).__init__()\n",
        "    self.units = units\n",
        "\n",
        "  def build(self, input_shape):\n",
        "    self.w = self.add_weight(shape=(input_shape[-1], self.units), initializer='random_normal', trainable=True)\n",
        "    self.b = self.add_weight(shape=(self.units, ), initializer='zeros', trainable=True)\n",
        "\n",
        "  def call(self, inputs):\n",
        "    return tf.matmul(inputs, self.w) + self.b\n",
        "\n",
        "class MLPBlock(layers.Layer):\n",
        "\n",
        "  def __init__(self):\n",
        "    super(MLPBlock, self).__init__()\n",
        "    self.linear_1 = Linear(units=32)\n",
        "    self.linear_2 = Linear(units=32)\n",
        "    self.linear_3 = Linear(units=1)\n",
        "\n",
        "  def call(self, inputs):\n",
        "    x = self.linear_1(inputs)\n",
        "    x = tf.nn.relu(x)\n",
        "    x = self.linear_2(x)\n",
        "    x = tf.nn.relu(x)\n",
        "    return self.linear_3(x)\n",
        "\n",
        "x = tf.ones(shape=(3, 64))\n",
        "\n",
        "mlp = MLPBlock()\n",
        "y = mlp(inputs=x)\n",
        "print(y.numpy())"
      ],
      "execution_count": 0,
      "outputs": [
        {
          "output_type": "stream",
          "text": [
            "[[0.01054588]\n",
            " [0.01054588]\n",
            " [0.01054588]]\n"
          ],
          "name": "stdout"
        }
      ]
    },
    {
      "cell_type": "markdown",
      "metadata": {
        "id": "2J98Avj9d9jH",
        "colab_type": "text"
      },
      "source": [
        "## Adding losses"
      ]
    },
    {
      "cell_type": "markdown",
      "metadata": {
        "id": "hYMKNwW6iKjn",
        "colab_type": "text"
      },
      "source": [
        "**Add a loss** tensor using `add_loss(value)` in the `call` method"
      ]
    },
    {
      "cell_type": "code",
      "metadata": {
        "id": "RMbWs_SECJcw",
        "colab_type": "code",
        "colab": {}
      },
      "source": [
        "class ActivityRegularizationLayer(layers.Layer):\n",
        "\n",
        "  def __init__(self, rate=1e-2):\n",
        "    super(ActivityRegularizationLayer, self).__init__()\n",
        "    self.rate = rate \n",
        "\n",
        "  def call(self, inputs):\n",
        "    self.add_loss(self.rate * tf.math.reduce_sum(inputs))\n",
        "    return inputs"
      ],
      "execution_count": 0,
      "outputs": []
    },
    {
      "cell_type": "markdown",
      "metadata": {
        "id": "tcDxS-18qIHQ",
        "colab_type": "text"
      },
      "source": [
        "**Retrieve the loss** using `layer.losses` (this property is reset at the start of every call to the top-level layer, so that it always contains the loss created during the last forward pass). "
      ]
    },
    {
      "cell_type": "code",
      "metadata": {
        "id": "mlX24d54nDTA",
        "colab_type": "code",
        "outputId": "fb31eb12-42ee-488f-d629-4779df37b3d7",
        "colab": {
          "base_uri": "https://localhost:8080/",
          "height": 51
        }
      },
      "source": [
        "class ActivityRegularizationLayer(layers.Layer):\n",
        "\n",
        "  def __init__(self, rate=1e-2):\n",
        "    super(ActivityRegularizationLayer, self).__init__()\n",
        "    self.rate = rate \n",
        "\n",
        "  def call(self, inputs):\n",
        "    self.add_loss(self.rate * tf.math.reduce_sum(inputs))\n",
        "    return inputs\n",
        "\n",
        "class OuterLayer(layers.Layer):\n",
        "\n",
        "  def __init__(self):\n",
        "    super(OuterLayer, self).__init__()\n",
        "    self.activity_reg = ActivityRegularizationLayer(rate=1e-2)\n",
        "\n",
        "  def call(self, inputs):\n",
        "    return self.activity_reg(inputs)\n",
        "\n",
        "x = tf.zeros(1, 1)\n",
        "\n",
        "layer = OuterLayer()\n",
        "assert len(layer.losses) == 0  # No losses yet since the layer has never been called\n",
        "_ = layer(x)\n",
        "assert len(layer.losses) == 1  # We created one loss value\n",
        "_ = layer(x)\n",
        "assert len(layer.losses) == 1  # This is the loss created during the call above"
      ],
      "execution_count": 0,
      "outputs": [
        {
          "output_type": "stream",
          "text": [
            "tf.Tensor([0.], shape=(1,), dtype=float32)\n",
            "tf.Tensor([0.], shape=(1,), dtype=float32)\n"
          ],
          "name": "stdout"
        }
      ]
    },
    {
      "cell_type": "markdown",
      "metadata": {
        "id": "D-27qfHg9P0e",
        "colab_type": "text"
      },
      "source": [
        "## Serializing layers\n",
        "**Serialize layers** (recreate a layer from its configuration, as part of a functional model) using `get_config`."
      ]
    },
    {
      "cell_type": "code",
      "metadata": {
        "id": "SmPhYliz9ssa",
        "colab_type": "code",
        "colab": {}
      },
      "source": [
        "class Linear(layers.Layer):\n",
        "\n",
        "  def __init__(self, units=32):\n",
        "    super(Linear, self).__init__()\n",
        "    self.units = units\n",
        "\n",
        "  def build(self, input_shape):\n",
        "    self.w = self.add_weight(shape=(input_shape[-1], self.units), initializer='random_normal', trainable=True)\n",
        "    self.b = self.add_weight(shape=(self.units, ), initializer='zeros', traibale=True)\n",
        "\n",
        "  def call(self, inputs):\n",
        "    return tf.linalg.matmul(inputs, self.w) + self.build\n",
        "\n",
        "  def get_config(self):\n",
        "    return {'units': self.units}\n",
        "\n",
        "layer = Linear(units=64)\n",
        "config = layer.get_config()\n",
        "print(config)\n",
        "\n",
        "new_layer = Linear.from_config(config)"
      ],
      "execution_count": 0,
      "outputs": []
    },
    {
      "cell_type": "markdown",
      "metadata": {
        "id": "FTF69AWyFkG5",
        "colab_type": "text"
      },
      "source": [
        "The `__init__` method of the base Layer class takes some keyword arguments, in particular a `name` and a `dtype`. It is best practuce to pass these **keyword arguments** to the parent class in `__init__` and include them in the layer config."
      ]
    },
    {
      "cell_type": "code",
      "metadata": {
        "id": "YkDAkHjBHhr0",
        "colab_type": "code",
        "outputId": "0ba247ed-8e42-493c-95c3-e0a874ca7b49",
        "colab": {
          "base_uri": "https://localhost:8080/",
          "height": 34
        }
      },
      "source": [
        "class Linear(layers.Layer):\n",
        "\n",
        "  def __init__(self, units=32, **kwargs):\n",
        "    super(Linear, self).__init__(**kwargs)\n",
        "    self.units = units\n",
        "\n",
        "  def build(self, input_shape):\n",
        "    self.w = self.add_weight(shape=(input_shape[-1], self.units), initializer='random_normal', trainable=True)\n",
        "    self.b = self.add_weight(shape=(self.units, ), initializer='random_normal', trainable=True)\n",
        "\n",
        "  def call(self, inputs):\n",
        "    return tf.matmul(inputs, self.w) + self.b\n",
        "\n",
        "  def get_config(self):\n",
        "    config = super(Linear, self).get_config()\n",
        "    config.update({'units': self.units})\n",
        "    return config\n",
        "\n",
        "\n",
        "layer = Linear(64)\n",
        "config = layer.get_config()\n",
        "print(config)\n",
        "new_layer = Linear.from_config(config)"
      ],
      "execution_count": 0,
      "outputs": [
        {
          "output_type": "stream",
          "text": [
            "{'name': 'linear_20', 'trainable': True, 'dtype': 'float32', 'units': 64}\n"
          ],
          "name": "stdout"
        }
      ]
    },
    {
      "cell_type": "markdown",
      "metadata": {
        "id": "vmr1D3p0vveY",
        "colab_type": "text"
      },
      "source": [
        "## Model class\n",
        "To summarize the Layer class:\n",
        "* A Layer encapsulates a state and some computation\n",
        "* Layers can be recursively nested to create bigger computation blocks\n",
        "* Layers can create and track losses\n",
        "\n",
        "While the Layer class is used to define inner computation blocks, the Model class is used to define the outer model, i.e. the object to be trained. The Model class has the same API as Layer, with the following differences:\n",
        "* It exposes built-in training (`model.fit`), evaluation (`model.evaluate`), and predicion loops (`model.predict`)\n",
        "* It exposes the list of its inner layers (`model.layers`)\n",
        "* It exposes saving (`model.save_weights`) and serialization APIs"
      ]
    }
  ]
}