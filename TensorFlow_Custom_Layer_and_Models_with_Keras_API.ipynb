{
  "nbformat": 4,
  "nbformat_minor": 0,
  "metadata": {
    "colab": {
      "name": "TensorFlow - Custom Layer and Models with Keras API.ipynb",
      "provenance": [],
      "collapsed_sections": [],
      "authorship_tag": "ABX9TyNixZpxBQ0gOH8oNCouAG3l",
      "include_colab_link": true
    },
    "kernelspec": {
      "name": "python3",
      "display_name": "Python 3"
    }
  },
  "cells": [
    {
      "cell_type": "markdown",
      "metadata": {
        "id": "view-in-github",
        "colab_type": "text"
      },
      "source": [
        "<a href=\"https://colab.research.google.com/github/nicoloceneda/Python-edu/blob/master/TensorFlow_Custom_Layer_and_Models_with_Keras_API.ipynb\" target=\"_parent\"><img src=\"https://colab.research.google.com/assets/colab-badge.svg\" alt=\"Open In Colab\"/></a>"
      ]
    },
    {
      "cell_type": "markdown",
      "metadata": {
        "id": "nymC9IcIKlEs",
        "colab_type": "text"
      },
      "source": [
        "# TensorFlow - Custom Architectures with Keras API \n",
        "---\n",
        "\n"
      ]
    },
    {
      "cell_type": "code",
      "metadata": {
        "id": "IiPmKn1GKTMI",
        "colab_type": "code",
        "colab": {}
      },
      "source": [
        "import numpy as np\n",
        "import matplotlib.pyplot as plt\n",
        "import tensorflow as tf\n",
        "from mlxtend.plotting import plot_decision_regions"
      ],
      "execution_count": 0,
      "outputs": []
    },
    {
      "cell_type": "markdown",
      "metadata": {
        "id": "hPbeBQe8HqgF",
        "colab_type": "text"
      },
      "source": [
        "## Data creation"
      ]
    },
    {
      "cell_type": "markdown",
      "metadata": {
        "id": "dQ5wlc-EJTI_",
        "colab_type": "text"
      },
      "source": [
        "## Keras model class\n",
        "Besides allowing to build neural networks with common architectures, the Keras API also allows to build more complex and customized models. This is shown by re-running the **XOR classification task** presented in the subsection \"Example of Keras object oriented API\" of the module \"TensorFlow - Common Architectures with Keras API\"\n",
        "\n",
        "We start by recreating the dataset."
      ]
    },
    {
      "cell_type": "code",
      "metadata": {
        "id": "rKscIpWgEsMc",
        "colab_type": "code",
        "colab": {}
      },
      "source": [
        "tf.random.set_seed(seed=1)\n",
        "np.random.seed(seed=1)\n",
        "\n",
        "# Generating the features\n",
        "x = np.random.uniform(low=-1, high=1, size=(200, 2))\n",
        "\n",
        "# Generating the class labels  \n",
        "y = np.ones(len(x))\n",
        "y[x[:, 0] * x[:, 1] < 0] = 0\n",
        "\n",
        "# Splitting into training and validation datasets\n",
        "x_train = x[:100, :]\n",
        "y_train = y[:100]\n",
        "x_valid = x[100:, :]\n",
        "y_valid = y[100:]\n",
        "\n",
        "# Plotting the dataset\n",
        "fig = plt.figure(figsize=(6, 6))\n",
        "plt.plot(x[y==0, 0], x[y==0, 1], 'o', alpha=0.75, markersize=10)\n",
        "plt.plot(x[y==1, 0], x[y==1, 1], 'o', alpha=0.75, markersize=10)\n",
        "plt.xlabel('$x_0$', size=15)\n",
        "plt.ylabel('$x_1$', size=15)\n",
        "plt.show()"
      ],
      "execution_count": 0,
      "outputs": []
    },
    {
      "cell_type": "markdown",
      "metadata": {
        "id": "Wu6BlYQYOIvK",
        "colab_type": "text"
      },
      "source": [
        "1. We can **build a customized model**, by subclassing the `tf.keras.Model` class\n",
        "2. We can **create the layers**, in the constructor `__init__` method:\n",
        "3. We can **create the forward pass**, using the `call` method"
      ]
    },
    {
      "cell_type": "code",
      "metadata": {
        "id": "6D-8cVnYJ9Ne",
        "colab_type": "code",
        "colab": {}
      },
      "source": [
        "class MyModel(tf.keras.Model):\n",
        "\n",
        "  def __init__(self):\n",
        "    super(MyModel, self).__init__()\n",
        "    self.hidden_1 = tf.keras.layers.Dense(units=4, activation='relu')\n",
        "    self.hidden_2 = tf.keras.layers.Dense(units=4, activation='relu')\n",
        "    self.hidden_3 = tf.keras.layers.Dense(units=4, activation='relu')\n",
        "    self.output_layer = tf.keras.layers.Dense(units=1, activation='sigmoid')\n",
        "    \n",
        "  def call(self, inputs):\n",
        "    h = self.hidden_1(inputs)\n",
        "    h = self.hidden_2(h)\n",
        "    h = self.hidden_3(h)\n",
        "    return self.output_layer(h)"
      ],
      "execution_count": 0,
      "outputs": []
    },
    {
      "cell_type": "markdown",
      "metadata": {
        "id": "v7GHYihGP_YE",
        "colab_type": "text"
      },
      "source": [
        "4. We can **create an instance** of the medel\n",
        "5. We can **create the variables**, using the `build` method "
      ]
    },
    {
      "cell_type": "code",
      "metadata": {
        "id": "-qEIs4tFGne6",
        "colab_type": "code",
        "colab": {}
      },
      "source": [
        "model = MyModel()\n",
        "\n",
        "model.build(input_shape=(None, 2))\n",
        "model.summary()"
      ],
      "execution_count": 0,
      "outputs": []
    },
    {
      "cell_type": "markdown",
      "metadata": {
        "id": "fttmuAYpHgLy",
        "colab_type": "text"
      },
      "source": [
        "6. We **configure the model** when we compile it, using `tf.keras.optimizers`, `tf.keras.losses`, `tf.keras.metrics`\n"
      ]
    },
    {
      "cell_type": "code",
      "metadata": {
        "id": "h0cHKqXDLwD9",
        "colab_type": "code",
        "colab": {}
      },
      "source": [
        "model.compile(optimizer=tf.keras.optimizers.SGD(),\n",
        "              loss=tf.keras.losses.BinaryCrossentropy(),\n",
        "              metrics=[tf.keras.metrics.BinaryAccuracy()])"
      ],
      "execution_count": 0,
      "outputs": []
    },
    {
      "cell_type": "markdown",
      "metadata": {
        "id": "x5u9D2KKLwmV",
        "colab_type": "text"
      },
      "source": [
        "7. We **train the model** for 200 epochs with a batch size of 2, using the `fit` method"
      ]
    },
    {
      "cell_type": "code",
      "metadata": {
        "id": "S2Rpxd3EQTgN",
        "colab_type": "code",
        "outputId": "1e600f37-a2d2-4478-94c4-2db4f9493416",
        "colab": {
          "base_uri": "https://localhost:8080/",
          "height": 289
        }
      },
      "source": [
        "hist = model.fit(x_train, y_train,\n",
        "                 validation_data=(x_valid, y_valid),\n",
        "                 epochs=200, batch_size=2, verbose=0)"
      ],
      "execution_count": 0,
      "outputs": [
        {
          "output_type": "stream",
          "text": [
            "Model: \"my_model\"\n",
            "_________________________________________________________________\n",
            "Layer (type)                 Output Shape              Param #   \n",
            "=================================================================\n",
            "dense (Dense)                multiple                  12        \n",
            "_________________________________________________________________\n",
            "dense_1 (Dense)              multiple                  20        \n",
            "_________________________________________________________________\n",
            "dense_2 (Dense)              multiple                  20        \n",
            "_________________________________________________________________\n",
            "dense_3 (Dense)              multiple                  5         \n",
            "=================================================================\n",
            "Total params: 57\n",
            "Trainable params: 57\n",
            "Non-trainable params: 0\n",
            "_________________________________________________________________\n"
          ],
          "name": "stdout"
        }
      ]
    },
    {
      "cell_type": "markdown",
      "metadata": {
        "id": "Uykwue28VhqD",
        "colab_type": "text"
      },
      "source": [
        "## Keras layer class\n",
        "If we want to define a new layer that is not already supported by Keras, we can define a new class by subclassing the `tf.keras.layers.Layer` class. This is especially useful when designing a new layer or customizing an existing layer. \n",
        "\n",
        "Imagine we want to define a new linear layer that computes $w(x + \\epsilon) + b$ where $\\epsilon$ is a random noise.\n",
        "\n",
        "1. We create the `__init__` method: here, we define **required tensors** other than variables (if any)\n",
        "2. We create the `build` method: here, we define the **variables** (late variable ceation)\n",
        "3. We create the `call` method: here, we define the **forward pass** of the neural network.\n",
        "4. We create the `get_config` method: this is used for **serialization** and allows to save and load a model using the defined custom layers"
      ]
    },
    {
      "cell_type": "code",
      "metadata": {
        "id": "8VfOFqoywBsq",
        "colab_type": "code",
        "colab": {}
      },
      "source": [
        "class NoisyLinear(tf.keras.layers.Layer):\n",
        "\n",
        "  def __init__(self, output_dim, noise_stddev, **kwargs):\n",
        "    super(NoisyLinear, self).__init__(**kwargs)\n",
        "    self.output_dim = output_dim\n",
        "    self.noise_stddev = noise_stddev\n",
        "  \n",
        "  def build(self, input_shape):\n",
        "    self.w = self.add_weight(shape=(input_shape[1], self.output_dim),initializer='random_normal', trainable=True)\n",
        "    self.b = self.add_weight(shape=(self.output_dim, ), initializer='zeros', trainable=True)\n",
        "\n",
        "  def call(self, inputs, training=False):\n",
        "    if training:\n",
        "      batch = tf.shape(inputs)[0]\n",
        "      dim = tf.shape(inputs)[1]\n",
        "      noise = tf.random.normal(shape=(batch, dim), mean=0.0, stddev=self.noise_stddev)\n",
        "      noisy_inputs = tf.add(inputs, noise)\n",
        "    else:\n",
        "      noisy_inputs = inputs\n",
        "    z = tf.matmul(noisy_inputs, self.w) + self.b\n",
        "    return tf.keras.activations.relu(z)\n",
        "\n",
        "  def get_config(self):\n",
        "    config = super(NoisyLinear, self).get_config()\n",
        "    config.update({'output_dim': self.output_dim, 'noise_stddev': self.noise_stddev})\n",
        "    return config\n",
        "    "
      ],
      "execution_count": 0,
      "outputs": []
    },
    {
      "cell_type": "markdown",
      "metadata": {
        "id": "nL2f1RQJC6hY",
        "colab_type": "text"
      },
      "source": [
        "Before using the custom layer in a model, let's test in in a simple example"
      ]
    },
    {
      "cell_type": "code",
      "metadata": {
        "id": "6lx0aIZn481g",
        "colab_type": "code",
        "outputId": "b924cd82-a0ed-40cf-ed09-b3d11c506568",
        "colab": {
          "base_uri": "https://localhost:8080/",
          "height": 34
        }
      },
      "source": [
        "tf.random.set_seed(seed=1)\n",
        "\n",
        "x = tf.zeros(shape=(1, 4))\n",
        "\n",
        "# We define a new instance of the layer\n",
        "noisy_layer = NoisyLinear(output_dim=4, noise_stddev=0.1)\n",
        "# We initialize the instance\n",
        "noisy_layer.build(input_shape=(None, 4))\n",
        "# We execute the instance on an input tensor\n",
        "tf.print(noisy_layer(x, training=True))"
      ],
      "execution_count": 0,
      "outputs": [
        {
          "output_type": "stream",
          "text": [
            "[[0 0.00821428 0 0]]\n"
          ],
          "name": "stdout"
        }
      ]
    },
    {
      "cell_type": "code",
      "metadata": {
        "id": "INaNPH3E6ZTZ",
        "colab_type": "code",
        "outputId": "b74f691e-0e27-4859-8600-5cc434df0621",
        "colab": {
          "base_uri": "https://localhost:8080/",
          "height": 34
        }
      },
      "source": [
        "# We serialize the instance \n",
        "config = noisy_layer.get_config()\n",
        "# We restore the serialized object \n",
        "new_layer = NoisyLinear.from_config(config)\n",
        "# # We execute the instance on an input tensor\n",
        "tf.print(new_layer(x, training=True))"
      ],
      "execution_count": 0,
      "outputs": [
        {
          "output_type": "stream",
          "text": [
            "[[0 0.0108502861 0 0]]\n"
          ],
          "name": "stdout"
        }
      ]
    },
    {
      "cell_type": "markdown",
      "metadata": {
        "id": "2-JrtlFyAihR",
        "colab_type": "text"
      },
      "source": [
        "We create a new model for solving a XOR classification task: we still use the Sequential class but with the newly created NoisyLinear layer."
      ]
    },
    {
      "cell_type": "code",
      "metadata": {
        "id": "nUP9b9i6Ah5m",
        "colab_type": "code",
        "outputId": "aaa2eb8b-4766-46c6-d26a-8cfcfbc18885",
        "colab": {
          "base_uri": "https://localhost:8080/",
          "height": 289
        }
      },
      "source": [
        "tf.random.set_seed(seed=1)\n",
        "\n",
        "model = tf.keras.Sequential()\n",
        "model.add(NoisyLinear(output_dim=4, noise_stddev=0.1))\n",
        "model.add(tf.keras.layers.Dense(units=4, activation='relu'))\n",
        "model.add(tf.keras.layers.Dense(units=4, activation='relu'))\n",
        "model.add(tf.keras.layers.Dense(units=1, activation='sigmoid'))\n",
        "\n",
        "model.build(input_shape=(None, 2))\n",
        "model.summary()"
      ],
      "execution_count": 0,
      "outputs": [
        {
          "output_type": "stream",
          "text": [
            "Model: \"sequential\"\n",
            "_________________________________________________________________\n",
            "Layer (type)                 Output Shape              Param #   \n",
            "=================================================================\n",
            "noisy_linear_1 (NoisyLinear) multiple                  12        \n",
            "_________________________________________________________________\n",
            "dense_4 (Dense)              multiple                  20        \n",
            "_________________________________________________________________\n",
            "dense_5 (Dense)              multiple                  20        \n",
            "_________________________________________________________________\n",
            "dense_6 (Dense)              multiple                  5         \n",
            "=================================================================\n",
            "Total params: 57\n",
            "Trainable params: 57\n",
            "Non-trainable params: 0\n",
            "_________________________________________________________________\n"
          ],
          "name": "stdout"
        }
      ]
    },
    {
      "cell_type": "code",
      "metadata": {
        "id": "ATMsmmp9DeTY",
        "colab_type": "code",
        "colab": {}
      },
      "source": [
        "# We compile the model\n",
        "model.compile(optimizer=tf.keras.optimizers.SGD(),\n",
        "              loss=tf.keras.losses.BinaryCrossentropy(),\n",
        "              metrics=[tf.keras.metrics.BinaryAccuracy()])\n",
        "\n",
        "# We train the model\n",
        "hist = model.fit(x_train, y_train,\n",
        "                 validation_data=(x_valid, y_valid),\n",
        "                 epochs=200, batch_size=2, verbose=0)"
      ],
      "execution_count": 0,
      "outputs": []
    },
    {
      "cell_type": "code",
      "metadata": {
        "id": "98rpC-CYEXA0",
        "colab_type": "code",
        "outputId": "c7555a40-65c5-4039-8ee1-a745d79ea7e2",
        "colab": {
          "base_uri": "https://localhost:8080/",
          "height": 319
        }
      },
      "source": [
        "# Plotting\n",
        "history = hist.history\n",
        "\n",
        "fig = plt.figure(figsize=(16, 4))\n",
        "\n",
        "ax = fig.add_subplot(1, 3, 1)\n",
        "plt.plot(history['loss'])\n",
        "plt.plot(history['val_loss'])\n",
        "plt.legend(['Train loss', 'Validation loss'])\n",
        "ax.set_xlabel('Epochs')\n",
        "\n",
        "ax = fig.add_subplot(1, 3, 2)\n",
        "plt.plot(history['binary_accuracy'])\n",
        "plt.plot(history['val_binary_accuracy'])\n",
        "plt.legend(['Train Acc.', 'Validation Acc.'])\n",
        "ax.set_xlabel('Epochs')\n",
        "\n",
        "ax = fig.add_subplot(1, 3, 3)\n",
        "plot_decision_regions(X=x_valid, y=y_valid.astype(np.integer), clf=model)\n",
        "ax.set_xlabel('$x_0$')\n",
        "ax.xaxis.set_label_coords(1, -0.025)\n",
        "ax.set_ylabel('$x_1$')\n",
        "ax.yaxis.set_label_coords(-0.025, 1)\n",
        "plt.show()"
      ],
      "execution_count": 0,
      "outputs": [
        {
          "output_type": "stream",
          "text": [
            "/usr/local/lib/python3.6/dist-packages/mlxtend/plotting/decision_regions.py:244: MatplotlibDeprecationWarning: Passing unsupported keyword arguments to axis() will raise a TypeError in 3.3.\n",
            "  ax.axis(xmin=xx.min(), xmax=xx.max(), y_min=yy.min(), y_max=yy.max())\n"
          ],
          "name": "stderr"
        },
        {
          "output_type": "display_data",
          "data": {
            "image/png": "[encoded data removed]",
            "text/plain": [
              "<Figure size 1152x288 with 3 Axes>"
            ]
          },
          "metadata": {
            "tags": []
          }
        }
      ]
    },
    {
      "cell_type": "markdown",
      "metadata": {
        "id": "IaZUwswt3X0C",
        "colab_type": "text"
      },
      "source": [
        "### Call method\n",
        "The call method can take the additional argument `training`, which is a special Boolean argument that distinguishes whether a model or layer is used during training (via `fit()`) or only for prediction (via `predict()`). The main difference between training and prediction is that, during the latter, we do not require gradients. Moreover, there are certain methods that behave differently in training and prediction models. "
      ]
    },
    {
      "cell_type": "markdown",
      "metadata": {
        "id": "YNEv7jz0NALh",
        "colab_type": "text"
      },
      "source": [
        "### Adding weights\n",
        "**Add trainable weights** to a layer `manually` or using `add_weight` in the `__init__` method"
      ]
    },
    {
      "cell_type": "code",
      "metadata": {
        "id": "wkDw24ne7CXn",
        "colab_type": "code",
        "outputId": "8d84b21e-3590-4f40-a23b-2cfb46ad777f",
        "colab": {
          "base_uri": "https://localhost:8080/",
          "height": 232
        }
      },
      "source": [
        "# Using add_weight (preferred)\n",
        "class Linear(layers.Layer):\n",
        "\n",
        "  def __init__(self, units=32, input_dim=32):\n",
        "    super(Linear, self).__init__()\n",
        "    self.w = self.add_weight(shape=(input_dim, units), initializer='random_normal', trainable=True)\n",
        "    self.b = self.add_weight(shape=(units, ), initializer='zeros', trainable=True)\n",
        "\n",
        "  def call(self, inputs):\n",
        "    return tf.linalg.matmul(inputs, self.w) + self.b\n",
        "\n",
        "  x = tf.ones((2, 2))\n",
        "\n",
        "  linear_layer = Linear(units=4, input_dim=2)\n",
        "  y = linear_layer(inputs=x)\n",
        "  tf.print(y)"
      ],
      "execution_count": 0,
      "outputs": [
        {
          "output_type": "error",
          "ename": "NameError",
          "evalue": "ignored",
          "traceback": [
            "\u001b[0;31m---------------------------------------------------------------------------\u001b[0m",
            "\u001b[0;31mNameError\u001b[0m                                 Traceback (most recent call last)",
            "\u001b[0;32m<ipython-input-11-2e76e7c9f12f>\u001b[0m in \u001b[0;36m<module>\u001b[0;34m()\u001b[0m\n\u001b[0;32m----> 1\u001b[0;31m \u001b[0;32mclass\u001b[0m \u001b[0mLinear\u001b[0m\u001b[0;34m(\u001b[0m\u001b[0mlayers\u001b[0m\u001b[0;34m.\u001b[0m\u001b[0mLayer\u001b[0m\u001b[0;34m)\u001b[0m\u001b[0;34m:\u001b[0m\u001b[0;34m\u001b[0m\u001b[0;34m\u001b[0m\u001b[0m\n\u001b[0m\u001b[1;32m      2\u001b[0m \u001b[0;34m\u001b[0m\u001b[0m\n\u001b[1;32m      3\u001b[0m   \u001b[0;32mdef\u001b[0m \u001b[0m__init__\u001b[0m\u001b[0;34m(\u001b[0m\u001b[0mself\u001b[0m\u001b[0;34m,\u001b[0m \u001b[0munits\u001b[0m\u001b[0;34m=\u001b[0m\u001b[0;36m32\u001b[0m\u001b[0;34m,\u001b[0m \u001b[0minput_dim\u001b[0m\u001b[0;34m=\u001b[0m\u001b[0;36m32\u001b[0m\u001b[0;34m)\u001b[0m\u001b[0;34m:\u001b[0m\u001b[0;34m\u001b[0m\u001b[0;34m\u001b[0m\u001b[0m\n\u001b[1;32m      4\u001b[0m     \u001b[0msuper\u001b[0m\u001b[0;34m(\u001b[0m\u001b[0mLinear\u001b[0m\u001b[0;34m,\u001b[0m \u001b[0mself\u001b[0m\u001b[0;34m)\u001b[0m\u001b[0;34m.\u001b[0m\u001b[0m__init__\u001b[0m\u001b[0;34m(\u001b[0m\u001b[0;34m)\u001b[0m\u001b[0;34m\u001b[0m\u001b[0;34m\u001b[0m\u001b[0m\n\u001b[1;32m      5\u001b[0m     \u001b[0mself\u001b[0m\u001b[0;34m.\u001b[0m\u001b[0mw\u001b[0m \u001b[0;34m=\u001b[0m \u001b[0mself\u001b[0m\u001b[0;34m.\u001b[0m\u001b[0madd_weight\u001b[0m\u001b[0;34m(\u001b[0m\u001b[0mshape\u001b[0m\u001b[0;34m=\u001b[0m\u001b[0;34m(\u001b[0m\u001b[0minput_dim\u001b[0m\u001b[0;34m,\u001b[0m \u001b[0munits\u001b[0m\u001b[0;34m)\u001b[0m\u001b[0;34m,\u001b[0m \u001b[0minitializer\u001b[0m\u001b[0;34m=\u001b[0m\u001b[0;34m'random_normal'\u001b[0m\u001b[0;34m,\u001b[0m \u001b[0mtrainable\u001b[0m\u001b[0;34m=\u001b[0m\u001b[0;32mTrue\u001b[0m\u001b[0;34m)\u001b[0m\u001b[0;34m\u001b[0m\u001b[0;34m\u001b[0m\u001b[0m\n",
            "\u001b[0;31mNameError\u001b[0m: name 'layers' is not defined"
          ]
        }
      ]
    },
    {
      "cell_type": "code",
      "metadata": {
        "id": "g_T1n-nzPBND",
        "colab_type": "code",
        "colab": {}
      },
      "source": [
        "# Manually\n",
        "class Linear(layers.Layer):\n",
        "\n",
        "  def __init__(self, units=32, input_dim=32):\n",
        "    super(Linear, self).__init__()\n",
        "    w_init = tf.random_normal_initializer()\n",
        "    self.w = tf.Variable(initial_value=w_init(shape=(input_dim, units), dtype='float32'), trainable=True)\n",
        "    b_init = tf.zeros_initializer()\n",
        "    self.b = tf.Variable(initial_value=b_init(shape=(units, ), dtype='float32'), trainable=True)\n",
        "\n",
        "  def call(self, inputs):\n",
        "    return tf.matmul(inputs, self.w) + self.b\n",
        "\n",
        "x = tf.ones((2, 2))\n",
        "\n",
        "linear_layer = Linear(units=4, input_dim=2)\n",
        "y = linear_layer(inputs=x)\n",
        "tf.print(y)"
      ],
      "execution_count": 0,
      "outputs": []
    },
    {
      "cell_type": "markdown",
      "metadata": {
        "id": "KTiPyiAB_Dbv",
        "colab_type": "text"
      },
      "source": [
        "**Add non-trainable weights** (which are meant not to be taken into account during the backpropagation process of training) to a Layer `manually`. "
      ]
    },
    {
      "cell_type": "code",
      "metadata": {
        "id": "wZCjV9oC_bVe",
        "colab_type": "code",
        "colab": {}
      },
      "source": [
        "class ComputeSum(layers.Layer):\n",
        "\n",
        "  def __init__(self, input_dim=32):\n",
        "    super(ComputeSum, self).__init__()\n",
        "    self.total = tf.Variable(initial_value=tf.zeros((input_dim, )), trainable=False)\n",
        "\n",
        "  def call(self, inputs):\n",
        "    self.total.assign_add(tf.reduce_sum(inputs, axis=0))\n",
        "    return self.total\n",
        "\n",
        "x = tf.ones((2, 2))\n",
        "\n",
        "my_sum = ComputeSum(input_dim=2)\n",
        "y = my_sum(inputs=x)\n",
        "tf.print(y)\n",
        "y = my_sum(inputs=x)\n",
        "tf.print(y)"
      ],
      "execution_count": 0,
      "outputs": []
    },
    {
      "cell_type": "markdown",
      "metadata": {
        "id": "hXdSMcBeE-Oz",
        "colab_type": "text"
      },
      "source": [
        "**variables** if the `input_shape` is given; if we do not know the input shape upfront, we must do late variable ceation, i.e. initialize the variable in the build method \n",
        "\n",
        "**Defer weight creation** until the shape of the inputs is known using `add_weight` in the `build` method. Doing so, the weights are created dynamically the first time the layer is called. This is the best practice as in many cases the size of the inputs is not known in advance."
      ]
    },
    {
      "cell_type": "code",
      "metadata": {
        "id": "Ft5lWBDDOZh4",
        "colab_type": "code",
        "colab": {}
      },
      "source": [
        "class Linear(layers.Layer):\n",
        "\n",
        "  def __init__(self, units=32):\n",
        "    super(Linear, self).__init__()\n",
        "    self.units = units\n",
        "\n",
        "  def build(self, input_shape=32):\n",
        "    self.w = self.add_weight(shape=(input_shape[-1], self.units), initializer='random_normal', trainable=True)\n",
        "    self.b = self.add_weight(shape=(self.units, ), initializer='zeros', trainable=True)\n",
        "  \n",
        "  def call(self, inputs):\n",
        "    return tf.matmul(inputs, self.w) + self.b\n",
        "\n",
        "x = tf.ones((2, 2))\n",
        "\n",
        "linear_layer = Linear(units=4)\n",
        "y = linear_layer(inputs=x)\n",
        "tf.print(y)"
      ],
      "execution_count": 0,
      "outputs": []
    },
    {
      "cell_type": "markdown",
      "metadata": {
        "id": "wXGGPuHVmzwr",
        "colab_type": "text"
      },
      "source": [
        "Define **layers recursively** (a layer instance is assigned as attribute of another layer) by instantiating them in the `__init__` method."
      ]
    },
    {
      "cell_type": "code",
      "metadata": {
        "id": "K8M8aDosg7mE",
        "colab_type": "code",
        "colab": {}
      },
      "source": [
        "class Linear(layers.Layer):\n",
        "\n",
        "  def __init__(self, units=32):\n",
        "    super(Linear, self).__init__()\n",
        "    self.units = units\n",
        "\n",
        "  def build(self, input_shape):\n",
        "    self.w = self.add_weight(shape=(input_shape[-1], self.units), initializer='random_normal', trainable=True)\n",
        "    self.b = self.add_weight(shape=(self.units, ), initializer='zeros', trainable=True)\n",
        "\n",
        "  def call(self, inputs):\n",
        "    return tf.matmul(inputs, self.w) + self.b\n",
        "\n",
        "class MLPBlock(layers.Layer):\n",
        "\n",
        "  def __init__(self):\n",
        "    super(MLPBlock, self).__init__()\n",
        "    self.linear_1 = Linear(units=32)\n",
        "    self.linear_2 = Linear(units=32)\n",
        "    self.linear_3 = Linear(units=1)\n",
        "\n",
        "  def call(self, inputs):\n",
        "    x = self.linear_1(inputs)\n",
        "    x = tf.nn.relu(x)\n",
        "    x = self.linear_2(x)\n",
        "    x = tf.nn.relu(x)\n",
        "    return self.linear_3(x)\n",
        "\n",
        "x = tf.ones(shape=(3, 64))\n",
        "\n",
        "mlp = MLPBlock()\n",
        "y = mlp(inputs=x)\n",
        "tf.print(y)"
      ],
      "execution_count": 0,
      "outputs": []
    },
    {
      "cell_type": "markdown",
      "metadata": {
        "id": "2J98Avj9d9jH",
        "colab_type": "text"
      },
      "source": [
        "## Adding losses"
      ]
    },
    {
      "cell_type": "markdown",
      "metadata": {
        "id": "hYMKNwW6iKjn",
        "colab_type": "text"
      },
      "source": [
        "**Add a loss** tensor using `add_loss` in the `call` method"
      ]
    },
    {
      "cell_type": "code",
      "metadata": {
        "id": "RMbWs_SECJcw",
        "colab_type": "code",
        "colab": {}
      },
      "source": [
        "class ActivityRegularizationLayer(layers.Layer):\n",
        "\n",
        "  def __init__(self, rate=1e-2):\n",
        "    super(ActivityRegularizationLayer, self).__init__()\n",
        "    self.rate = rate \n",
        "\n",
        "  def call(self, inputs):\n",
        "    self.add_loss(self.rate * tf.math.reduce_sum(inputs))\n",
        "    return inputs"
      ],
      "execution_count": 0,
      "outputs": []
    },
    {
      "cell_type": "markdown",
      "metadata": {
        "id": "tcDxS-18qIHQ",
        "colab_type": "text"
      },
      "source": [
        "**Retrieve the loss** using `layer.losses` (this property is reset at the start of every call to the top-level layer, so that it always contains the loss created during the last forward pass). "
      ]
    },
    {
      "cell_type": "code",
      "metadata": {
        "id": "mlX24d54nDTA",
        "colab_type": "code",
        "colab": {}
      },
      "source": [
        "class ActivityRegularizationLayer(layers.Layer):\n",
        "\n",
        "  def __init__(self, rate=1e-2):\n",
        "    super(ActivityRegularizationLayer, self).__init__()\n",
        "    self.rate = rate \n",
        "\n",
        "  def call(self, inputs):\n",
        "    self.add_loss(self.rate * tf.math.reduce_sum(inputs))\n",
        "    return inputs\n",
        "\n",
        "class OuterLayer(layers.Layer):\n",
        "\n",
        "  def __init__(self):\n",
        "    super(OuterLayer, self).__init__()\n",
        "    self.activity_reg = ActivityRegularizationLayer(rate=1e-2)\n",
        "\n",
        "  def call(self, inputs):\n",
        "    return self.activity_reg(inputs)\n",
        "\n",
        "x = tf.zeros(1, 1)\n",
        "\n",
        "layer = OuterLayer()\n",
        "assert len(layer.losses) == 0  # No losses yet since the layer has never been called\n",
        "_ = layer(x)\n",
        "assert len(layer.losses) == 1  # We created one loss value\n",
        "_ = layer(x)\n",
        "assert len(layer.losses) == 1  # This is the loss created during the call above"
      ],
      "execution_count": 0,
      "outputs": []
    },
    {
      "cell_type": "markdown",
      "metadata": {
        "id": "D-27qfHg9P0e",
        "colab_type": "text"
      },
      "source": [
        "## Serializing layers\n",
        "**Serialize layers** (recreate a layer from its configuration, as part of a functional model) using `get_config`"
      ]
    },
    {
      "cell_type": "code",
      "metadata": {
        "id": "SmPhYliz9ssa",
        "colab_type": "code",
        "colab": {}
      },
      "source": [
        "class Linear(layers.Layer):\n",
        "\n",
        "  def __init__(self, units=32):\n",
        "    super(Linear, self).__init__()\n",
        "    self.units = units\n",
        "\n",
        "  def build(self, input_shape):\n",
        "    self.w = self.add_weight(shape=(input_shape[-1], self.units), initializer='random_normal', trainable=True)\n",
        "    self.b = self.add_weight(shape=(self.units, ), initializer='zeros', traibale=True)\n",
        "\n",
        "  def call(self, inputs):\n",
        "    return tf.linalg.matmul(inputs, self.w) + self.build\n",
        "\n",
        "  def get_config(self):\n",
        "    return {'units': self.units}\n",
        "\n",
        "layer = Linear(units=64)\n",
        "config = layer.get_config()\n",
        "print(config)\n",
        "\n",
        "new_layer = Linear.from_config(config)"
      ],
      "execution_count": 0,
      "outputs": []
    },
    {
      "cell_type": "markdown",
      "metadata": {
        "id": "FTF69AWyFkG5",
        "colab_type": "text"
      },
      "source": [
        "The `__init__` method of the base Layer class takes some keyword arguments, in particular a `name` and a `dtype`. It is best practuce to pass these **keyword arguments** to the parent class in `__init__` and include them in the layer config."
      ]
    },
    {
      "cell_type": "code",
      "metadata": {
        "id": "YkDAkHjBHhr0",
        "colab_type": "code",
        "colab": {}
      },
      "source": [
        "class Linear(layers.Layer):\n",
        "\n",
        "  def __init__(self, units=32, **kwargs):\n",
        "    super(Linear, self).__init__(**kwargs)\n",
        "    self.units = units\n",
        "\n",
        "  def build(self, input_shape):\n",
        "    self.w = self.add_weight(shape=(input_shape[-1], self.units), initializer='random_normal', trainable=True)\n",
        "    self.b = self.add_weight(shape=(self.units, ), initializer='random_normal', trainable=True)\n",
        "\n",
        "  def call(self, inputs):\n",
        "    return tf.matmul(inputs, self.w) + self.b\n",
        "\n",
        "  def get_config(self):\n",
        "    config = super(Linear, self).get_config()\n",
        "    config.update({'units': self.units})\n",
        "    return config\n",
        "\n",
        "\n",
        "layer = Linear(64)\n",
        "config = layer.get_config()\n",
        "print(config)\n",
        "new_layer = Linear.from_config(config)"
      ],
      "execution_count": 0,
      "outputs": []
    },
    {
      "cell_type": "markdown",
      "metadata": {
        "id": "vmr1D3p0vveY",
        "colab_type": "text"
      },
      "source": [
        "## Model class\n",
        "To summarize the Layer class:\n",
        "* A Layer encapsulates a state (in the `build` method) and some computation (in the `call` method)\n",
        "* Layers can create (in the `call` method) and track losses\n",
        "* Layers can be recursively nested to create bigger computation blocks\n",
        "\n",
        "\n",
        "While the Layer class is used to define inner computation blocks, the Model class is used to define the outer model, i.e. the object to be trained. The Model class has the same API as Layer, with the following differences:\n",
        "* It exposes built-in training (`model.fit`), evaluation (`model.evaluate`), and predicion loops (`model.predict`)\n",
        "* It exposes the list of its inner layers (`model.layers`)\n",
        "* It exposes saving (`model.save_weights`) and serialization APIs"
      ]
    }
  ]
}