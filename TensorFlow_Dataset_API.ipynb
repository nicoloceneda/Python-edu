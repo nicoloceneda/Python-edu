{
  "nbformat": 4,
  "nbformat_minor": 0,
  "metadata": {
    "colab": {
      "name": "TensorFlow - Dataset API.ipynb",
      "provenance": [],
      "collapsed_sections": [],
      "mount_file_id": "1j_OgEIDYcnzd0EdPl-t5g8Dg428ZTO4q",
      "authorship_tag": "ABX9TyNbXxcPXxnyT+0cpzwRZey1",
      "include_colab_link": true
    },
    "kernelspec": {
      "name": "python3",
      "display_name": "Python 3"
    }
  },
  "cells": [
    {
      "cell_type": "markdown",
      "metadata": {
        "id": "view-in-github",
        "colab_type": "text"
      },
      "source": [
        "<a href=\"https://colab.research.google.com/github/nicoloceneda/Python-edu/blob/master/TensorFlow_Dataset_API.ipynb\" target=\"_parent\"><img src=\"https://colab.research.google.com/assets/colab-badge.svg\" alt=\"Open In Colab\"/></a>"
      ]
    },
    {
      "cell_type": "markdown",
      "metadata": {
        "id": "Ulcwvc0MgOLb",
        "colab_type": "text"
      },
      "source": [
        "# TensorFlow - Dataset API\n",
        "\n",
        "---\n",
        "\n"
      ]
    },
    {
      "cell_type": "code",
      "metadata": {
        "id": "gTd0ii4lfqoW",
        "colab_type": "code",
        "colab": {}
      },
      "source": [
        "import numpy as np\n",
        "import tensorflow as tf\n",
        "import pathlib"
      ],
      "execution_count": 0,
      "outputs": []
    },
    {
      "cell_type": "markdown",
      "metadata": {
        "id": "V2JTnYLvgaPa",
        "colab_type": "text"
      },
      "source": [
        "## Creating a TensorFlow Dataset\n",
        "Create a dataset from a **list**, a **Numpy array** or a **tensor** using `tf.data.Dataset.from_tensor_slices`"
      ]
    },
    {
      "cell_type": "code",
      "metadata": {
        "id": "YGsqxXuJraSu",
        "colab_type": "code",
        "colab": {
          "base_uri": "https://localhost:8080/",
          "height": 68
        },
        "outputId": "d9ef9f89-5f72-44d5-940a-a8f69b2309fc"
      },
      "source": [
        "a = [1, 2, 3]\n",
        "dataset_a = tf.data.Dataset.from_tensor_slices(a)\n",
        "print(dataset_a)\n",
        "\n",
        "b = np.array([4, 5, 6])\n",
        "dataset_b = tf.data.Dataset.from_tensor_slices(b)\n",
        "print(dataset_b)\n",
        "\n",
        "c = tf.constant([7, 8, 9])\n",
        "dataset_c = tf.data.Dataset.from_tensor_slices(c)\n",
        "print(dataset_c)"
      ],
      "execution_count": 3,
      "outputs": [
        {
          "output_type": "stream",
          "text": [
            "<TensorSliceDataset shapes: (), types: tf.int32>\n",
            "<TensorSliceDataset shapes: (), types: tf.int64>\n",
            "<TensorSliceDataset shapes: (), types: tf.int32>\n"
          ],
          "name": "stdout"
        }
      ]
    },
    {
      "cell_type": "markdown",
      "metadata": {
        "id": "JRVOcqYCsmke",
        "colab_type": "text"
      },
      "source": [
        "## Iterating through a dataset\n",
        "Iterate **entry by entry** through a dataset using `for ... in`"
      ]
    },
    {
      "cell_type": "code",
      "metadata": {
        "id": "AEPhU0nHsyrn",
        "colab_type": "code",
        "colab": {
          "base_uri": "https://localhost:8080/",
          "height": 68
        },
        "outputId": "26253448-5028-47a5-a0f1-6e21d1262156"
      },
      "source": [
        "a = [1, 2, 3]\n",
        "dataset_a = tf.data.Dataset.from_tensor_slices(a)\n",
        "\n",
        "for pos, item in enumerate(dataset_a):\n",
        "  print('item {}'.format(pos), item)"
      ],
      "execution_count": 6,
      "outputs": [
        {
          "output_type": "stream",
          "text": [
            "item 0 tf.Tensor(1, shape=(), dtype=int32)\n",
            "item 1 tf.Tensor(2, shape=(), dtype=int32)\n",
            "item 2 tf.Tensor(3, shape=(), dtype=int32)\n"
          ],
          "name": "stdout"
        }
      ]
    },
    {
      "cell_type": "markdown",
      "metadata": {
        "id": "oiwWnifFuscv",
        "colab_type": "text"
      },
      "source": [
        "## Combining two tensors into a joint dataset\n",
        "Create a **joint dataset** (to create a one-to-one correspondence between the elements of two tensors) using `tf.data.Dataset.zip` or `tf.data.Dataset.from_tensor_slices`\n"
      ]
    },
    {
      "cell_type": "code",
      "metadata": {
        "id": "U7nb5-FgvQQH",
        "colab_type": "code",
        "colab": {
          "base_uri": "https://localhost:8080/",
          "height": 85
        },
        "outputId": "ea2e1107-b936-4381-c89c-34422b31faa2"
      },
      "source": [
        "# First create two separate datasets, then join them (zip)\n",
        "tensor_a = tf.random.uniform(shape=(4, 2), minval=0, maxval=1, dtype=tf.float64)\n",
        "dataset_a = tf.data.Dataset.from_tensor_slices(tensor_a)\n",
        "\n",
        "tensor_b = tf.random.uniform(shape=(4, ), minval=0, maxval=10, dtype=tf.int64)\n",
        "dataset_b = tf.data.Dataset.from_tensor_slices(tensor_b)\n",
        "\n",
        "dataset_c = tf.data.Dataset.zip((dataset_a, dataset_b))\n",
        "\n",
        "for item in dataset_c:\n",
        "  print('x:', item[0].numpy(), 'y:', item[1].numpy())"
      ],
      "execution_count": 51,
      "outputs": [
        {
          "output_type": "stream",
          "text": [
            "x: [0.01112921 0.5495263 ] y: 1\n",
            "x: [0.92323786 0.33196753] y: 0\n",
            "x: [0.26064636 0.52114432] y: 1\n",
            "x: [0.92387295 0.1034112 ] y: 2\n"
          ],
          "name": "stdout"
        }
      ]
    },
    {
      "cell_type": "code",
      "metadata": {
        "id": "PVp3-Nh5zUzf",
        "colab_type": "code",
        "colab": {
          "base_uri": "https://localhost:8080/",
          "height": 85
        },
        "outputId": "41f79d2d-65b2-431b-b940-0205b056bc3f"
      },
      "source": [
        "# Directly create a joint dataset (from_tensor_slices)\n",
        "tensor_a = tf.random.uniform(shape=(4, 2), minval=0, maxval=1, dtype=tf.float64)\n",
        "tensor_b = tf.random.uniform(shape=(4, ), minval=0, maxval=10, dtype=tf.int64)\n",
        "\n",
        "dataset_c = tf.data.Dataset.from_tensor_slices((tensor_a, tensor_b))\n",
        "\n",
        "for item in dataset_c:\n",
        "  print('x:', item[0].numpy(), 'y:', item[1].numpy())"
      ],
      "execution_count": 52,
      "outputs": [
        {
          "output_type": "stream",
          "text": [
            "x: [0.54302028 0.05592273] y: 0\n",
            "x: [0.89410873 0.9297669 ] y: 1\n",
            "x: [0.80005524 0.88403599] y: 3\n",
            "x: [0.50147179 0.41842   ] y: 3\n"
          ],
          "name": "stdout"
        }
      ]
    },
    {
      "cell_type": "markdown",
      "metadata": {
        "id": "yCjtnn7d3xWU",
        "colab_type": "text"
      },
      "source": [
        "Apply **feature scaling** to scale the values to the range [-1, +1] using `map`\n",
        "\n"
      ]
    },
    {
      "cell_type": "code",
      "metadata": {
        "id": "0D1uOTiu3-YL",
        "colab_type": "code",
        "colab": {
          "base_uri": "https://localhost:8080/",
          "height": 85
        },
        "outputId": "47bd1ea5-e459-4827-e379-9f977a131524"
      },
      "source": [
        "tensor_a = tf.random.uniform(shape=(4, 2), minval=0, maxval=1, dtype=tf.float64)\n",
        "tensor_b = tf.random.uniform(shape=(4, ), minval=0, maxval=10, dtype=tf.int64)\n",
        "\n",
        "dataset_c = tf.data.Dataset.from_tensor_slices((tensor_a, tensor_b))\n",
        "\n",
        "dataset_c2 = dataset_c.map(lambda x, y: (x*2 - 1.0, y))\n",
        "\n",
        "for item in dataset_c2:\n",
        "  print('x:', item[0].numpy(), 'y:', item[1].numpy())"
      ],
      "execution_count": 54,
      "outputs": [
        {
          "output_type": "stream",
          "text": [
            "x: [0.64641501 0.06121631] y: 2\n",
            "x: [-0.22722884 -0.87722895] y: 0\n",
            "x: [-0.42201164 -0.00991235] y: 2\n",
            "x: [-0.30142208  0.95123297] y: 2\n"
          ],
          "name": "stdout"
        }
      ]
    },
    {
      "cell_type": "markdown",
      "metadata": {
        "id": "hCvpxBAO-_W2",
        "colab_type": "text"
      },
      "source": [
        "## Shuffling the dataset, creating batches and repeating\n",
        "**Shuffle** the elements of a dataset (keeping the one-to-one correspondence between the elements of the two tensors) using `shuffle`\n"
      ]
    },
    {
      "cell_type": "code",
      "metadata": {
        "id": "WKb0MM65BPy5",
        "colab_type": "code",
        "colab": {
          "base_uri": "https://localhost:8080/",
          "height": 170
        },
        "outputId": "6d311320-daa2-4bf8-a787-75db3727a3c8"
      },
      "source": [
        "tensor_a = tf.random.uniform(shape=(4, 2), minval=0, maxval=1, dtype=tf.float64)\n",
        "tensor_b = tf.random.uniform(shape=(4, ), minval=0, maxval=10, dtype=tf.int64)\n",
        "\n",
        "dataset_c = tf.data.Dataset.from_tensor_slices((tensor_a, tensor_b))\n",
        "\n",
        "for item in dataset_c:\n",
        "  print('x:', item[0].numpy(), 'y:', item[1].numpy())\n",
        "\n",
        "print('-'*32)\n",
        "\n",
        "dataset_c2 = dataset_c.shuffle(buffer_size=len(tensor_b))\n",
        "\n",
        "for item in dataset_c2:\n",
        "  print('x:', item[0].numpy(), 'y:', item[1].numpy())"
      ],
      "execution_count": 56,
      "outputs": [
        {
          "output_type": "stream",
          "text": [
            "x: [0.42108145 0.17728118] y: 0\n",
            "x: [0.3176818  0.27524818] y: 3\n",
            "x: [0.6453228  0.82277006] y: 0\n",
            "x: [0.19365721 0.99243814] y: 0\n",
            "--------------------------------\n",
            "x: [0.42108145 0.17728118] y: 0\n",
            "x: [0.3176818  0.27524818] y: 3\n",
            "x: [0.6453228  0.82277006] y: 0\n",
            "x: [0.19365721 0.99243814] y: 0\n"
          ],
          "name": "stdout"
        }
      ]
    },
    {
      "cell_type": "markdown",
      "metadata": {
        "id": "hLCOYQZYBNzC",
        "colab_type": "text"
      },
      "source": [
        "Create **batches** from a dataset using `batch`\n"
      ]
    },
    {
      "cell_type": "code",
      "metadata": {
        "id": "QDxGvMnWtmD-",
        "colab_type": "code",
        "colab": {
          "base_uri": "https://localhost:8080/",
          "height": 272
        },
        "outputId": "634fe0be-3fb5-4bb2-c068-df1d17fc96f1"
      },
      "source": [
        "tensor_a = tf.random.uniform(shape=(4, 2), minval=0, maxval=1, dtype=tf.float64)\n",
        "tensor_b = tf.random.uniform(shape=(4, ), minval=0, maxval=10, dtype=tf.int64)\n",
        "\n",
        "dataset_c = tf.data.Dataset.from_tensor_slices((tensor_a, tensor_b))\n",
        "\n",
        "for item in dataset_c:\n",
        "  print('x:', item[0].numpy(), 'y:', item[1].numpy())\n",
        "\n",
        "print('-'*42)\n",
        "\n",
        "dataset_d = dataset_c.batch(batch_size=2)\n",
        "\n",
        "for pos, batch in enumerate(dataset_d):\n",
        "  print('{}) X:\\n'.format(pos), batch[0].numpy(), '\\n   Y:\\n', batch[1].numpy())\n",
        "\n"
      ],
      "execution_count": 42,
      "outputs": [
        {
          "output_type": "stream",
          "text": [
            "x: [0.06993291 0.77727807 0.56011085] y: 1\n",
            "x: [0.24436876 0.18717293 0.10313125] y: 1\n",
            "x: [0.08745759 0.75249465 0.70536724] y: 0\n",
            "x: [0.38577196 0.06446177 0.57855689] y: 0\n",
            "------------------------------------------\n",
            "0) X:\n",
            " [[0.06993291 0.77727807 0.56011085]\n",
            " [0.24436876 0.18717293 0.10313125]] \n",
            "   Y:\n",
            " [1 1]\n",
            "1) X:\n",
            " [[0.08745759 0.75249465 0.70536724]\n",
            " [0.38577196 0.06446177 0.57855689]] \n",
            "   Y:\n",
            " [0 0]\n"
          ],
          "name": "stdout"
        }
      ]
    },
    {
      "cell_type": "markdown",
      "metadata": {
        "id": "u0p-Qf25MI_k",
        "colab_type": "text"
      },
      "source": [
        "**Repeat** the operations using `repeat`\n",
        "\n",
        "\n",
        "\n",
        "\n"
      ]
    },
    {
      "cell_type": "code",
      "metadata": {
        "id": "lxAxflg9MUB5",
        "colab_type": "code",
        "colab": {
          "base_uri": "https://localhost:8080/",
          "height": 442
        },
        "outputId": "341d0f3d-27b7-491a-ce5f-db2ff9e2590a"
      },
      "source": [
        "tensor_a = tf.random.uniform(shape=(4, 2), minval=0, maxval=1, dtype=tf.float64)\n",
        "tensor_b = tf.random.uniform(shape=(4, ), minval=0, maxval=10, dtype=tf.int64)\n",
        "\n",
        "dataset_c = tf.data.Dataset.from_tensor_slices((tensor_a, tensor_b))\n",
        "\n",
        "for item in dataset_c:\n",
        "  print('x:', item[0].numpy(), 'y:', item[1].numpy())\n",
        "\n",
        "print('-'*42)\n",
        "\n",
        "dataset_d = dataset_c.shuffle(buffer_size=len(tensor_b)).batch(batch_size=2).repeat(count=2)\n",
        "\n",
        "for pos, batch in enumerate(dataset_d):\n",
        "  print('{}) X:\\n'.format(pos), batch[0].numpy(), '\\n   Y:\\n', batch[1].numpy())"
      ],
      "execution_count": 68,
      "outputs": [
        {
          "output_type": "stream",
          "text": [
            "x: [0.83327353 0.09604491] y: 6\n",
            "x: [0.85598053 0.29396247] y: 8\n",
            "x: [0.34457544 0.0239543 ] y: 6\n",
            "x: [0.42568612 0.57547804] y: 2\n",
            "------------------------------------------\n",
            "0) X:\n",
            " [[0.34457544 0.0239543 ]\n",
            " [0.83327353 0.09604491]] \n",
            "   Y:\n",
            " [6 6]\n",
            "1) X:\n",
            " [[0.85598053 0.29396247]\n",
            " [0.42568612 0.57547804]] \n",
            "   Y:\n",
            " [8 2]\n",
            "2) X:\n",
            " [[0.83327353 0.09604491]\n",
            " [0.34457544 0.0239543 ]] \n",
            "   Y:\n",
            " [6 6]\n",
            "3) X:\n",
            " [[0.42568612 0.57547804]\n",
            " [0.85598053 0.29396247]] \n",
            "   Y:\n",
            " [2 8]\n"
          ],
          "name": "stdout"
        }
      ]
    }
  ]
}