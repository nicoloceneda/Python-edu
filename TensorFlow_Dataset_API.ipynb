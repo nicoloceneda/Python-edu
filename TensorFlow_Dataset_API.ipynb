{
  "nbformat": 4,
  "nbformat_minor": 0,
  "metadata": {
    "colab": {
      "name": "TensorFlow - Dataset API.ipynb",
      "provenance": [],
      "collapsed_sections": [],
      "mount_file_id": "1j_OgEIDYcnzd0EdPl-t5g8Dg428ZTO4q",
      "authorship_tag": "ABX9TyP4Q75MqpKNnWWTJxEbFGYi",
      "include_colab_link": true
    },
    "kernelspec": {
      "name": "python3",
      "display_name": "Python 3"
    },
    "widgets": {
      "application/vnd.jupyter.widget-state+json": {
        "67efe92c5e9d43098fe8dcdadf61a106": {
          "model_module": "@jupyter-widgets/controls",
          "model_name": "HBoxModel",
          "state": {
            "_view_name": "HBoxView",
            "_dom_classes": [],
            "_model_name": "HBoxModel",
            "_view_module": "@jupyter-widgets/controls",
            "_model_module_version": "1.5.0",
            "_view_count": null,
            "_view_module_version": "1.5.0",
            "box_style": "",
            "layout": "IPY_MODEL_0f28244a167c48ef901c69e75a627caf",
            "_model_module": "@jupyter-widgets/controls",
            "children": [
              "IPY_MODEL_e5ef0f789f264d8d96d81c05504d0fe0",
              "IPY_MODEL_fa9871f86a0c4c8aa5be5902b0156cf0"
            ]
          }
        },
        "0f28244a167c48ef901c69e75a627caf": {
          "model_module": "@jupyter-widgets/base",
          "model_name": "LayoutModel",
          "state": {
            "_view_name": "LayoutView",
            "grid_template_rows": null,
            "right": null,
            "justify_content": null,
            "_view_module": "@jupyter-widgets/base",
            "overflow": null,
            "_model_module_version": "1.2.0",
            "_view_count": null,
            "flex_flow": null,
            "width": null,
            "min_width": null,
            "border": null,
            "align_items": null,
            "bottom": null,
            "_model_module": "@jupyter-widgets/base",
            "top": null,
            "grid_column": null,
            "overflow_y": null,
            "overflow_x": null,
            "grid_auto_flow": null,
            "grid_area": null,
            "grid_template_columns": null,
            "flex": null,
            "_model_name": "LayoutModel",
            "justify_items": null,
            "grid_row": null,
            "max_height": null,
            "align_content": null,
            "visibility": null,
            "align_self": null,
            "height": null,
            "min_height": null,
            "padding": null,
            "grid_auto_rows": null,
            "grid_gap": null,
            "max_width": null,
            "order": null,
            "_view_module_version": "1.2.0",
            "grid_template_areas": null,
            "object_position": null,
            "object_fit": null,
            "grid_auto_columns": null,
            "margin": null,
            "display": null,
            "left": null
          }
        },
        "e5ef0f789f264d8d96d81c05504d0fe0": {
          "model_module": "@jupyter-widgets/controls",
          "model_name": "IntProgressModel",
          "state": {
            "_view_name": "ProgressView",
            "style": "IPY_MODEL_ab031aff3edd4908a5509fd535afb4d0",
            "_dom_classes": [],
            "description": "Dl Completed...: 100%",
            "_model_name": "IntProgressModel",
            "bar_style": "success",
            "max": 4,
            "_view_module": "@jupyter-widgets/controls",
            "_model_module_version": "1.5.0",
            "value": 4,
            "_view_count": null,
            "_view_module_version": "1.5.0",
            "orientation": "horizontal",
            "min": 0,
            "description_tooltip": null,
            "_model_module": "@jupyter-widgets/controls",
            "layout": "IPY_MODEL_ba81fb87218946f6852077ec4656005f"
          }
        },
        "fa9871f86a0c4c8aa5be5902b0156cf0": {
          "model_module": "@jupyter-widgets/controls",
          "model_name": "HTMLModel",
          "state": {
            "_view_name": "HTMLView",
            "style": "IPY_MODEL_c09070ffc1014c2498c50de0f220b3f7",
            "_dom_classes": [],
            "description": "",
            "_model_name": "HTMLModel",
            "placeholder": "​",
            "_view_module": "@jupyter-widgets/controls",
            "_model_module_version": "1.5.0",
            "value": " 4/4 [00:00&lt;00:00,  5.73 file/s]",
            "_view_count": null,
            "_view_module_version": "1.5.0",
            "description_tooltip": null,
            "_model_module": "@jupyter-widgets/controls",
            "layout": "IPY_MODEL_744c66c92ea246c088bc8df83b74fd38"
          }
        },
        "ab031aff3edd4908a5509fd535afb4d0": {
          "model_module": "@jupyter-widgets/controls",
          "model_name": "ProgressStyleModel",
          "state": {
            "_view_name": "StyleView",
            "_model_name": "ProgressStyleModel",
            "description_width": "initial",
            "_view_module": "@jupyter-widgets/base",
            "_model_module_version": "1.5.0",
            "_view_count": null,
            "_view_module_version": "1.2.0",
            "bar_color": null,
            "_model_module": "@jupyter-widgets/controls"
          }
        },
        "ba81fb87218946f6852077ec4656005f": {
          "model_module": "@jupyter-widgets/base",
          "model_name": "LayoutModel",
          "state": {
            "_view_name": "LayoutView",
            "grid_template_rows": null,
            "right": null,
            "justify_content": null,
            "_view_module": "@jupyter-widgets/base",
            "overflow": null,
            "_model_module_version": "1.2.0",
            "_view_count": null,
            "flex_flow": null,
            "width": null,
            "min_width": null,
            "border": null,
            "align_items": null,
            "bottom": null,
            "_model_module": "@jupyter-widgets/base",
            "top": null,
            "grid_column": null,
            "overflow_y": null,
            "overflow_x": null,
            "grid_auto_flow": null,
            "grid_area": null,
            "grid_template_columns": null,
            "flex": null,
            "_model_name": "LayoutModel",
            "justify_items": null,
            "grid_row": null,
            "max_height": null,
            "align_content": null,
            "visibility": null,
            "align_self": null,
            "height": null,
            "min_height": null,
            "padding": null,
            "grid_auto_rows": null,
            "grid_gap": null,
            "max_width": null,
            "order": null,
            "_view_module_version": "1.2.0",
            "grid_template_areas": null,
            "object_position": null,
            "object_fit": null,
            "grid_auto_columns": null,
            "margin": null,
            "display": null,
            "left": null
          }
        },
        "c09070ffc1014c2498c50de0f220b3f7": {
          "model_module": "@jupyter-widgets/controls",
          "model_name": "DescriptionStyleModel",
          "state": {
            "_view_name": "StyleView",
            "_model_name": "DescriptionStyleModel",
            "description_width": "",
            "_view_module": "@jupyter-widgets/base",
            "_model_module_version": "1.5.0",
            "_view_count": null,
            "_view_module_version": "1.2.0",
            "_model_module": "@jupyter-widgets/controls"
          }
        },
        "744c66c92ea246c088bc8df83b74fd38": {
          "model_module": "@jupyter-widgets/base",
          "model_name": "LayoutModel",
          "state": {
            "_view_name": "LayoutView",
            "grid_template_rows": null,
            "right": null,
            "justify_content": null,
            "_view_module": "@jupyter-widgets/base",
            "overflow": null,
            "_model_module_version": "1.2.0",
            "_view_count": null,
            "flex_flow": null,
            "width": null,
            "min_width": null,
            "border": null,
            "align_items": null,
            "bottom": null,
            "_model_module": "@jupyter-widgets/base",
            "top": null,
            "grid_column": null,
            "overflow_y": null,
            "overflow_x": null,
            "grid_auto_flow": null,
            "grid_area": null,
            "grid_template_columns": null,
            "flex": null,
            "_model_name": "LayoutModel",
            "justify_items": null,
            "grid_row": null,
            "max_height": null,
            "align_content": null,
            "visibility": null,
            "align_self": null,
            "height": null,
            "min_height": null,
            "padding": null,
            "grid_auto_rows": null,
            "grid_gap": null,
            "max_width": null,
            "order": null,
            "_view_module_version": "1.2.0",
            "grid_template_areas": null,
            "object_position": null,
            "object_fit": null,
            "grid_auto_columns": null,
            "margin": null,
            "display": null,
            "left": null
          }
        }
      }
    }
  },
  "cells": [
    {
      "cell_type": "markdown",
      "metadata": {
        "id": "view-in-github",
        "colab_type": "text"
      },
      "source": [
        "<a href=\"https://colab.research.google.com/github/nicoloceneda/Python-edu/blob/master/TensorFlow_Dataset_API.ipynb\" target=\"_parent\"><img src=\"https://colab.research.google.com/assets/colab-badge.svg\" alt=\"Open In Colab\"/></a>"
      ]
    },
    {
      "cell_type": "markdown",
      "metadata": {
        "id": "Ulcwvc0MgOLb",
        "colab_type": "text"
      },
      "source": [
        "# TensorFlow - Dataset API\n",
        "\n",
        "---\n",
        "\n"
      ]
    },
    {
      "cell_type": "code",
      "metadata": {
        "id": "gTd0ii4lfqoW",
        "colab_type": "code",
        "colab": {}
      },
      "source": [
        "import numpy as np\n",
        "import matplotlib.pyplot as plt\n",
        "import tensorflow as tf\n",
        "import tensorflow_datasets as tfds"
      ],
      "execution_count": 0,
      "outputs": []
    },
    {
      "cell_type": "markdown",
      "metadata": {
        "id": "V2JTnYLvgaPa",
        "colab_type": "text"
      },
      "source": [
        "## Creating a dataset\n",
        "Create a dataset from a **list**, a **Numpy array** or a **tensor** using `tf.data.Dataset.from_tensor_slices`"
      ]
    },
    {
      "cell_type": "code",
      "metadata": {
        "id": "YGsqxXuJraSu",
        "colab_type": "code",
        "outputId": "78eb97e5-6993-4164-a779-3e0a6c25473b",
        "colab": {
          "base_uri": "https://localhost:8080/",
          "height": 68
        }
      },
      "source": [
        "a = [1, 2, 3]\n",
        "dataset_a = tf.data.Dataset.from_tensor_slices(a)\n",
        "print(dataset_a)\n",
        "\n",
        "b = np.array([4, 5, 6])\n",
        "dataset_b = tf.data.Dataset.from_tensor_slices(b)\n",
        "print(dataset_b)\n",
        "\n",
        "c = tf.constant([7, 8, 9])\n",
        "dataset_c = tf.data.Dataset.from_tensor_slices(c)\n",
        "print(dataset_c)"
      ],
      "execution_count": 0,
      "outputs": [
        {
          "output_type": "stream",
          "text": [
            "<TensorSliceDataset shapes: (), types: tf.int32>\n",
            "<TensorSliceDataset shapes: (), types: tf.int64>\n",
            "<TensorSliceDataset shapes: (), types: tf.int32>\n"
          ],
          "name": "stdout"
        }
      ]
    },
    {
      "cell_type": "markdown",
      "metadata": {
        "id": "JRVOcqYCsmke",
        "colab_type": "text"
      },
      "source": [
        "## Iterating through a dataset\n",
        "Iterate **entry by entry** through a dataset using `for ... in`"
      ]
    },
    {
      "cell_type": "code",
      "metadata": {
        "id": "AEPhU0nHsyrn",
        "colab_type": "code",
        "outputId": "6ffa3485-a7ff-49d7-9b91-0862abf275e0",
        "colab": {
          "base_uri": "https://localhost:8080/",
          "height": 68
        }
      },
      "source": [
        "a = [1, 2, 3]\n",
        "dataset_a = tf.data.Dataset.from_tensor_slices(a)\n",
        "\n",
        "for pos, item in enumerate(dataset_a):\n",
        "  print('item {}'.format(pos), item)"
      ],
      "execution_count": 0,
      "outputs": [
        {
          "output_type": "stream",
          "text": [
            "item 0 tf.Tensor(1, shape=(), dtype=int32)\n",
            "item 1 tf.Tensor(2, shape=(), dtype=int32)\n",
            "item 2 tf.Tensor(3, shape=(), dtype=int32)\n"
          ],
          "name": "stdout"
        }
      ]
    },
    {
      "cell_type": "markdown",
      "metadata": {
        "id": "oiwWnifFuscv",
        "colab_type": "text"
      },
      "source": [
        "## Combining two tensors into a joint dataset\n",
        "Create a **joint dataset** (to create a one-to-one correspondence between the elements of two tensors) using `tf.data.Dataset.zip` or `tf.data.Dataset.from_tensor_slices`\n"
      ]
    },
    {
      "cell_type": "code",
      "metadata": {
        "id": "U7nb5-FgvQQH",
        "colab_type": "code",
        "outputId": "a3c57a6b-b896-4434-ef07-fb2c5d740a92",
        "colab": {
          "base_uri": "https://localhost:8080/",
          "height": 85
        }
      },
      "source": [
        "# First create two separate datasets, then join them (zip)\n",
        "tensor_a = tf.random.uniform(shape=(4, 2), minval=0, maxval=1, dtype=tf.float64)\n",
        "dataset_a = tf.data.Dataset.from_tensor_slices(tensor_a)\n",
        "\n",
        "tensor_b = tf.random.uniform(shape=(4, ), minval=0, maxval=10, dtype=tf.int64)\n",
        "dataset_b = tf.data.Dataset.from_tensor_slices(tensor_b)\n",
        "\n",
        "dataset_c = tf.data.Dataset.zip((dataset_a, dataset_b))\n",
        "\n",
        "for item in dataset_c:\n",
        "  print('x:', item[0].numpy(), 'y:', item[1].numpy())"
      ],
      "execution_count": 0,
      "outputs": [
        {
          "output_type": "stream",
          "text": [
            "x: [0.96985216 0.75988859] y: 0\n",
            "x: [0.81050961 0.45757526] y: 8\n",
            "x: [0.9127962  0.75371072] y: 3\n",
            "x: [0.81402251 0.4272198 ] y: 3\n"
          ],
          "name": "stdout"
        }
      ]
    },
    {
      "cell_type": "code",
      "metadata": {
        "id": "PVp3-Nh5zUzf",
        "colab_type": "code",
        "outputId": "18c5c578-02d5-4dd3-dbea-d058861b0505",
        "colab": {
          "base_uri": "https://localhost:8080/",
          "height": 85
        }
      },
      "source": [
        "# Directly create a joint dataset (from_tensor_slices)\n",
        "tensor_a = tf.random.uniform(shape=(4, 2), minval=0, maxval=1, dtype=tf.float64)\n",
        "tensor_b = tf.random.uniform(shape=(4, ), minval=0, maxval=10, dtype=tf.int64)\n",
        "\n",
        "dataset_c = tf.data.Dataset.from_tensor_slices((tensor_a, tensor_b))\n",
        "\n",
        "for item in dataset_c:\n",
        "  print('x:', item[0].numpy(), 'y:', item[1].numpy())"
      ],
      "execution_count": 0,
      "outputs": [
        {
          "output_type": "stream",
          "text": [
            "x: [0.78171521 0.19035466] y: 0\n",
            "x: [0.0664793  0.43959009] y: 1\n",
            "x: [0.08275566 0.18065258] y: 0\n",
            "x: [0.59546455 0.99160054] y: 4\n"
          ],
          "name": "stdout"
        }
      ]
    },
    {
      "cell_type": "markdown",
      "metadata": {
        "id": "yCjtnn7d3xWU",
        "colab_type": "text"
      },
      "source": [
        "Apply **feature scaling** to scale the values to the range [-1, +1] using `map`\n",
        "\n"
      ]
    },
    {
      "cell_type": "code",
      "metadata": {
        "id": "0D1uOTiu3-YL",
        "colab_type": "code",
        "outputId": "2f2c30a7-4bd9-41b9-a5af-f952c6bb07f0",
        "colab": {
          "base_uri": "https://localhost:8080/",
          "height": 85
        }
      },
      "source": [
        "tensor_a = tf.random.uniform(shape=(4, 2), minval=0, maxval=1, dtype=tf.float64)\n",
        "tensor_b = tf.random.uniform(shape=(4, ), minval=0, maxval=10, dtype=tf.int64)\n",
        "\n",
        "dataset_c = tf.data.Dataset.from_tensor_slices((tensor_a, tensor_b))\n",
        "\n",
        "dataset_c2 = dataset_c.map(lambda x, y: (x*2 - 1.0, y))\n",
        "\n",
        "for item in dataset_c2:\n",
        "  print('x:', item[0].numpy(), 'y:', item[1].numpy())"
      ],
      "execution_count": 0,
      "outputs": [
        {
          "output_type": "stream",
          "text": [
            "x: [ 0.22946583 -0.9972768 ] y: 3\n",
            "x: [0.08877882 0.90430657] y: 2\n",
            "x: [ 0.33940236 -0.59089703] y: 5\n",
            "x: [-0.13124375  0.5426809 ] y: 8\n"
          ],
          "name": "stdout"
        }
      ]
    },
    {
      "cell_type": "markdown",
      "metadata": {
        "id": "hCvpxBAO-_W2",
        "colab_type": "text"
      },
      "source": [
        "## Shuffling the dataset, creating batches and repeating\n",
        "**Shuffle** the elements of a dataset (keeping the one-to-one correspondence between the elements of the two tensors) using `shuffle`\n"
      ]
    },
    {
      "cell_type": "code",
      "metadata": {
        "id": "WKb0MM65BPy5",
        "colab_type": "code",
        "outputId": "dd2eef32-adc6-4cd3-eb3a-7f517183b3c3",
        "colab": {
          "base_uri": "https://localhost:8080/",
          "height": 170
        }
      },
      "source": [
        "tensor_a = tf.random.uniform(shape=(4, 2), minval=0, maxval=1, dtype=tf.float64)\n",
        "tensor_b = tf.random.uniform(shape=(4, ), minval=0, maxval=10, dtype=tf.int64)\n",
        "\n",
        "dataset_c = tf.data.Dataset.from_tensor_slices((tensor_a, tensor_b))\n",
        "\n",
        "for item in dataset_c:\n",
        "  print('x:', item[0].numpy(), 'y:', item[1].numpy())\n",
        "\n",
        "print('-'*32)\n",
        "\n",
        "dataset_c2 = dataset_c.shuffle(buffer_size=len(tensor_b))\n",
        "\n",
        "for item in dataset_c2:\n",
        "  print('x:', item[0].numpy(), 'y:', item[1].numpy())"
      ],
      "execution_count": 0,
      "outputs": [
        {
          "output_type": "stream",
          "text": [
            "x: [0.29464301 0.96874203] y: 7\n",
            "x: [0.6388146  0.47713994] y: 4\n",
            "x: [0.66656143 0.87581707] y: 0\n",
            "x: [0.67103885 0.69502945] y: 1\n",
            "--------------------------------\n",
            "x: [0.67103885 0.69502945] y: 1\n",
            "x: [0.29464301 0.96874203] y: 7\n",
            "x: [0.6388146  0.47713994] y: 4\n",
            "x: [0.66656143 0.87581707] y: 0\n"
          ],
          "name": "stdout"
        }
      ]
    },
    {
      "cell_type": "markdown",
      "metadata": {
        "id": "hLCOYQZYBNzC",
        "colab_type": "text"
      },
      "source": [
        "Create **batches** from a dataset using `batch`\n"
      ]
    },
    {
      "cell_type": "code",
      "metadata": {
        "id": "QDxGvMnWtmD-",
        "colab_type": "code",
        "outputId": "0f96d70a-05c5-486c-8fd1-21d98f6d5821",
        "colab": {
          "base_uri": "https://localhost:8080/",
          "height": 272
        }
      },
      "source": [
        "tensor_a = tf.random.uniform(shape=(4, 2), minval=0, maxval=1, dtype=tf.float64)\n",
        "tensor_b = tf.random.uniform(shape=(4, ), minval=0, maxval=10, dtype=tf.int64)\n",
        "\n",
        "dataset_c = tf.data.Dataset.from_tensor_slices((tensor_a, tensor_b))\n",
        "\n",
        "for item in dataset_c:\n",
        "  print('x:', item[0].numpy(), 'y:', item[1].numpy())\n",
        "\n",
        "print('-'*42)\n",
        "\n",
        "dataset_d = dataset_c.batch(batch_size=2)\n",
        "\n",
        "for pos, batch in enumerate(dataset_d):\n",
        "  print('{}) X:\\n'.format(pos), batch[0].numpy(), '\\n   Y:\\n', batch[1].numpy())\n",
        "\n"
      ],
      "execution_count": 0,
      "outputs": [
        {
          "output_type": "stream",
          "text": [
            "x: [0.22052963 0.69238093] y: 6\n",
            "x: [0.75565791 0.19530456] y: 7\n",
            "x: [0.3935238  0.52977417] y: 1\n",
            "x: [0.94437602 0.90580297] y: 8\n",
            "------------------------------------------\n",
            "0) X:\n",
            " [[0.22052963 0.69238093]\n",
            " [0.75565791 0.19530456]] \n",
            "   Y:\n",
            " [6 7]\n",
            "1) X:\n",
            " [[0.3935238  0.52977417]\n",
            " [0.94437602 0.90580297]] \n",
            "   Y:\n",
            " [1 8]\n"
          ],
          "name": "stdout"
        }
      ]
    },
    {
      "cell_type": "markdown",
      "metadata": {
        "id": "u0p-Qf25MI_k",
        "colab_type": "text"
      },
      "source": [
        "**Repeat** the operations using `repeat`\n",
        "\n",
        "\n",
        "\n",
        "\n"
      ]
    },
    {
      "cell_type": "code",
      "metadata": {
        "id": "lxAxflg9MUB5",
        "colab_type": "code",
        "outputId": "9d2acf3d-5f37-4d6b-befa-37c00fc51d0f",
        "colab": {
          "base_uri": "https://localhost:8080/",
          "height": 442
        }
      },
      "source": [
        "tensor_a = tf.random.uniform(shape=(4, 2), minval=0, maxval=1, dtype=tf.float64)\n",
        "tensor_b = tf.random.uniform(shape=(4, ), minval=0, maxval=10, dtype=tf.int64)\n",
        "\n",
        "dataset_c = tf.data.Dataset.from_tensor_slices((tensor_a, tensor_b))\n",
        "\n",
        "for item in dataset_c:\n",
        "  print('x:', item[0].numpy(), 'y:', item[1].numpy())\n",
        "\n",
        "print('-'*42)\n",
        "\n",
        "dataset_d = dataset_c.shuffle(buffer_size=len(tensor_b)).batch(batch_size=2).repeat(count=2)\n",
        "\n",
        "for pos, batch in enumerate(dataset_d):\n",
        "  print('{}) X:\\n'.format(pos), batch[0].numpy(), '\\n   Y:\\n', batch[1].numpy())"
      ],
      "execution_count": 0,
      "outputs": [
        {
          "output_type": "stream",
          "text": [
            "x: [0.80451993 0.05432703] y: 7\n",
            "x: [0.08385523 0.39924724] y: 7\n",
            "x: [0.60273752 0.44267349] y: 8\n",
            "x: [0.58375675 0.64127321] y: 0\n",
            "------------------------------------------\n",
            "0) X:\n",
            " [[0.58375675 0.64127321]\n",
            " [0.60273752 0.44267349]] \n",
            "   Y:\n",
            " [0 8]\n",
            "1) X:\n",
            " [[0.80451993 0.05432703]\n",
            " [0.08385523 0.39924724]] \n",
            "   Y:\n",
            " [7 7]\n",
            "2) X:\n",
            " [[0.60273752 0.44267349]\n",
            " [0.58375675 0.64127321]] \n",
            "   Y:\n",
            " [8 0]\n",
            "3) X:\n",
            " [[0.08385523 0.39924724]\n",
            " [0.80451993 0.05432703]] \n",
            "   Y:\n",
            " [7 7]\n"
          ],
          "name": "stdout"
        }
      ]
    },
    {
      "cell_type": "markdown",
      "metadata": {
        "id": "EZXi7kWlCKgM",
        "colab_type": "text"
      },
      "source": [
        "## Fetching available datasets from the tensorflow_datasets library\n",
        "A **collection of datasets** for training and evaluation of deep learning models is available through the `tensorflow_datasets` library. These datasets are ready to use as `tf.data.Dataset` objects, which means that all the functions introduced above apply. Moreover, they come with informative descriptions, such as the type and dimensionality of features and labels, and the citation in BibTex format of the original paper.\n"
      ]
    },
    {
      "cell_type": "code",
      "metadata": {
        "id": "CflspSSdMeP9",
        "colab_type": "code",
        "outputId": "9be49dd1-e4b1-40ef-ec51-545f4a149fd0",
        "colab": {
          "base_uri": "https://localhost:8080/",
          "height": 51
        }
      },
      "source": [
        "print('Number of datasets:', len(tfds.list_builders()))\n",
        "print('List of the first three datasets:', tfds.list_builders()[:3])"
      ],
      "execution_count": 0,
      "outputs": [
        {
          "output_type": "stream",
          "text": [
            "Number of datasets: 155\n",
            "List of the first three datasets: ['abstract_reasoning', 'aeslc', 'aflw2k3d']\n"
          ],
          "name": "stdout"
        }
      ]
    },
    {
      "cell_type": "markdown",
      "metadata": {
        "id": "DaYB3dFAQtQW",
        "colab_type": "text"
      },
      "source": [
        "**Fetch a dataset** (Mnist) using `tfds.load`\n",
        "\n"
      ]
    },
    {
      "cell_type": "code",
      "metadata": {
        "id": "y2QLLcMDMuLG",
        "colab_type": "code",
        "outputId": "e4e736c6-ca96-4701-f927-c1096397ed97",
        "colab": {
          "base_uri": "https://localhost:8080/",
          "height": 202,
          "referenced_widgets": [
            "67efe92c5e9d43098fe8dcdadf61a106",
            "0f28244a167c48ef901c69e75a627caf",
            "e5ef0f789f264d8d96d81c05504d0fe0",
            "fa9871f86a0c4c8aa5be5902b0156cf0",
            "ab031aff3edd4908a5509fd535afb4d0",
            "ba81fb87218946f6852077ec4656005f",
            "c09070ffc1014c2498c50de0f220b3f7",
            "744c66c92ea246c088bc8df83b74fd38"
          ]
        }
      },
      "source": [
        "mnist, mnist_info = tfds.load('mnist', with_info=True, shuffle_files=False)"
      ],
      "execution_count": 0,
      "outputs": [
        {
          "output_type": "stream",
          "text": [
            "WARNING:absl:Dataset mnist is hosted on GCS. It will automatically be downloaded to your\n",
            "local data directory. If you'd instead prefer to read directly from our public\n",
            "GCS bucket (recommended if you're running on GCP), you can instead set\n",
            "data_dir=gs://tfds-data/datasets.\n",
            "\n"
          ],
          "name": "stderr"
        },
        {
          "output_type": "stream",
          "text": [
            "\u001b[1mDownloading and preparing dataset mnist/3.0.0 (download: 11.06 MiB, generated: Unknown size, total: 11.06 MiB) to /root/tensorflow_datasets/mnist/3.0.0...\u001b[0m\n"
          ],
          "name": "stdout"
        },
        {
          "output_type": "display_data",
          "data": {
            "application/vnd.jupyter.widget-view+json": {
              "model_id": "67efe92c5e9d43098fe8dcdadf61a106",
              "version_minor": 0,
              "version_major": 2
            },
            "text/plain": [
              "HBox(children=(IntProgress(value=0, description='Dl Completed...', max=4, style=ProgressStyle(description_widt…"
            ]
          },
          "metadata": {
            "tags": []
          }
        },
        {
          "output_type": "stream",
          "text": [
            "\n",
            "\n",
            "\u001b[1mDataset mnist downloaded and prepared to /root/tensorflow_datasets/mnist/3.0.0. Subsequent calls will reuse this data.\u001b[0m\n"
          ],
          "name": "stdout"
        }
      ]
    },
    {
      "cell_type": "markdown",
      "metadata": {
        "id": "9gLU9nGflqiA",
        "colab_type": "text"
      },
      "source": [
        "**Explore the dataset** "
      ]
    },
    {
      "cell_type": "code",
      "metadata": {
        "id": "eq4OJnYflgZ2",
        "colab_type": "code",
        "outputId": "d8ed70c4-2936-41e5-c1b8-4bfd063cdbcd",
        "colab": {
          "base_uri": "https://localhost:8080/",
          "height": 476
        }
      },
      "source": [
        "print(mnist.keys())\n",
        "\n",
        "print('-'*30)\n",
        "\n",
        "print(mnist_info)"
      ],
      "execution_count": 0,
      "outputs": [
        {
          "output_type": "stream",
          "text": [
            "dict_keys(['test', 'train'])\n",
            "------------------------------\n",
            "tfds.core.DatasetInfo(\n",
            "    name='mnist',\n",
            "    version=3.0.0,\n",
            "    description='The MNIST database of handwritten digits.',\n",
            "    homepage='http://yann.lecun.com/exdb/mnist/',\n",
            "    features=FeaturesDict({\n",
            "        'image': Image(shape=(28, 28, 1), dtype=tf.uint8),\n",
            "        'label': ClassLabel(shape=(), dtype=tf.int64, num_classes=10),\n",
            "    }),\n",
            "    total_num_examples=70000,\n",
            "    splits={\n",
            "        'test': 10000,\n",
            "        'train': 60000,\n",
            "    },\n",
            "    supervised_keys=('image', 'label'),\n",
            "    citation=\"\"\"@article{lecun2010mnist,\n",
            "      title={MNIST handwritten digit database},\n",
            "      author={LeCun, Yann and Cortes, Corinna and Burges, CJ},\n",
            "      journal={ATT Labs [Online]. Available: http://yann. lecun. com/exdb/mnist},\n",
            "      volume={2},\n",
            "      year={2010}\n",
            "    }\"\"\",\n",
            "    redistribution_info=,\n",
            ")\n",
            "\n"
          ],
          "name": "stdout"
        }
      ]
    },
    {
      "cell_type": "markdown",
      "metadata": {
        "id": "izXydQgDmBtq",
        "colab_type": "text"
      },
      "source": [
        "**Apply a transformation** to the train subset to convert the elements from a dictionary to a tuple"
      ]
    },
    {
      "cell_type": "code",
      "metadata": {
        "id": "mbYVVvN5md1E",
        "colab_type": "code",
        "outputId": "9143778e-8dba-46ef-8e99-f0129dd92a82",
        "colab": {
          "base_uri": "https://localhost:8080/",
          "height": 34
        }
      },
      "source": [
        "ds_train = mnist['train']\n",
        "ds_train = ds_train.map(lambda item: (item['image'], item['label']))\n",
        "\n",
        "print(ds_train)"
      ],
      "execution_count": 0,
      "outputs": [
        {
          "output_type": "stream",
          "text": [
            "<DatasetV1Adapter shapes: ((28, 28, 1), ()), types: (tf.uint8, tf.int64)>\n"
          ],
          "name": "stdout"
        }
      ]
    },
    {
      "cell_type": "markdown",
      "metadata": {
        "id": "BEUPE4SqncsA",
        "colab_type": "text"
      },
      "source": [
        "**Create batches**"
      ]
    },
    {
      "cell_type": "code",
      "metadata": {
        "id": "NgFPmYBdndFG",
        "colab_type": "code",
        "outputId": "476687f4-4612-4c2d-a62f-02db6e2b7c2d",
        "colab": {
          "base_uri": "https://localhost:8080/",
          "height": 34
        }
      },
      "source": [
        "ds_train = ds_train.batch(batch_size=10)\n",
        "batch = next(iter(ds_train))\n",
        "\n",
        "print(batch[0].shape, batch[1])"
      ],
      "execution_count": 0,
      "outputs": [
        {
          "output_type": "stream",
          "text": [
            "(10, 28, 28, 1) tf.Tensor([4 1 0 7 8 1 2 7 1 6], shape=(10,), dtype=int64)\n"
          ],
          "name": "stdout"
        }
      ]
    },
    {
      "cell_type": "markdown",
      "metadata": {
        "id": "tiaokcdtm5UG",
        "colab_type": "text"
      },
      "source": [
        "**Visualize** 10 examples."
      ]
    },
    {
      "cell_type": "code",
      "metadata": {
        "id": "oLo2BT2tm4t3",
        "colab_type": "code",
        "outputId": "d5c4c4c3-002a-4be7-e057-1a476bded265",
        "colab": {
          "base_uri": "https://localhost:8080/",
          "height": 375
        }
      },
      "source": [
        "fig = plt.figure(figsize=(15, 6))\n",
        "\n",
        "for i,(image,label) in enumerate(zip(batch[0], batch[1])):\n",
        "  ax = fig.add_subplot(2, 5, i+1)\n",
        "  ax.set_xticks([]); ax.set_yticks([])\n",
        "  ax.imshow(image[:, :, 0], cmap='gray_r')\n",
        "  ax.set_title('{}'.format(label), size=15)\n",
        "\n",
        "plt.show()"
      ],
      "execution_count": 0,
      "outputs": [
        {
          "output_type": "display_data",
          "data": {
            "image/png": "[encoded data removed]",
            "text/plain": [
              "<Figure size 1080x432 with 10 Axes>"
            ]
          },
          "metadata": {
            "tags": []
          }
        }
      ]
    }
  ]
}