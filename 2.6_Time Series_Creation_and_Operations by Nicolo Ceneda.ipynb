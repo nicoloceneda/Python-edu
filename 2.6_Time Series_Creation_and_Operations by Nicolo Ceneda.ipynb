{
 "cells": [
  {
   "cell_type": "markdown",
   "metadata": {},
   "source": [
    "## Import Pandas"
   ]
  },
  {
   "cell_type": "markdown",
   "metadata": {},
   "source": [
    "Import `Pandas` with the alias `pd` and the `Pyplot` module from the Matplotlib library with the alias `plt`."
   ]
  },
  {
   "cell_type": "code",
   "execution_count": 1,
   "metadata": {},
   "outputs": [],
   "source": [
    "import pandas as pd\n",
    "import matplotlib.pyplot as plt"
   ]
  },
  {
   "cell_type": "markdown",
   "metadata": {},
   "source": [
    "# Time Series"
   ]
  },
  {
   "cell_type": "markdown",
   "metadata": {},
   "source": [
    "Pandas captures four general time related concepts: \\\n",
    "- **`Date times`**: references to a specific date and time. \\\n",
    "- **`Time spans`**: references to a span of time defined by a point in time and its associated frequency. \\\n",
    "- **`Time deltas`**: references to an absolute time duration. \\\n",
    "- **`Date offsets`**: references to a relative time duration that respects calendar arithmetic. \\\n",
    "\\\n",
    "Pandas provides the following data structures to handle time series data: \\\n",
    "- For **`Date times`**, it provides the scalar class **`Timestamp`** and the array class **`DatetimeIndex`**. \\\n",
    "- For **`Time spans`**, it provides the scalar class **`Period`** and the array class **`PeriodIndex`**. \\\n",
    "- For **`Time deltas`**, it provides the scalar class **`Timedelta`** and the array class **`TimedeltaIndex`**. \\\n",
    "- For **`Date offsets`**, it provides the scalar class **`DateOffset`** but no array class. \\\n",
    "\\\n",
    "Pandas provides the following functions to handle time series data:\\\n",
    "- For **`Date times`**, it provides **`Timestamp`** / **`to_datetime`** and **`date_range`**. \\\n",
    "- For **`Time spans`**, it provides **`Period`** / **`to_period`** and **`period_range`**. \\\n",
    "- For **`Time deltas`**, it provides standard subtraction / **`to_timedelta`** and **`timedelta_range`**. \\\n",
    "- For **`Date offsets`**, it provides **`DateOffset`**. \\"
   ]
  },
  {
   "cell_type": "markdown",
   "metadata": {},
   "source": [
    "## Date times"
   ]
  },
  {
   "cell_type": "markdown",
   "metadata": {},
   "source": [
    "**`Date times`** data is the most basic type of time series data that associates values with points in time. **`Timestamp`** and **`DatetimeIndex`** objects can be created directly."
   ]
  },
  {
   "cell_type": "code",
   "execution_count": 2,
   "metadata": {},
   "outputs": [
    {
     "data": {
      "text/plain": [
       "Timestamp('1995-10-05 00:00:00')"
      ]
     },
     "execution_count": 2,
     "metadata": {},
     "output_type": "execute_result"
    }
   ],
   "source": [
    "# Create a Timestamp object directly\n",
    "pd.Timestamp('10-05-1995')"
   ]
  },
  {
   "cell_type": "code",
   "execution_count": 3,
   "metadata": {},
   "outputs": [
    {
     "data": {
      "text/plain": [
       "DatetimeIndex(['1995-10-05', '1995-10-06'], dtype='datetime64[ns]', freq=None)"
      ]
     },
     "execution_count": 3,
     "metadata": {},
     "output_type": "execute_result"
    }
   ],
   "source": [
    "# Create a DatetimeIndex object directly\n",
    "pd.DatetimeIndex(['10-05-1995', '10-06-1995'])"
   ]
  },
  {
   "cell_type": "markdown",
   "metadata": {},
   "source": [
    "Alternatively to the direct creation method, **`Timestamp`** and **`DatetimeIndex`** objects can also be created by converting date-like objects with the function **`pd.to_datetime()`**, which can parse a wide variety of formats and which turns a single date into a Timestamp and a series of dates into a DatetimeIndex."
   ]
  },
  {
   "cell_type": "code",
   "execution_count": 4,
   "metadata": {},
   "outputs": [
    {
     "data": {
      "text/plain": [
       "Timestamp('1995-10-05 00:00:00')"
      ]
     },
     "execution_count": 4,
     "metadata": {},
     "output_type": "execute_result"
    }
   ],
   "source": [
    "# Create a Timestamp object with the function pd.to_datetime()\n",
    "string = '10-05-1995'\n",
    "pd.to_datetime(string)"
   ]
  },
  {
   "cell_type": "markdown",
   "metadata": {},
   "source": [
    "When passed a list, the function returns a DateTime index"
   ]
  },
  {
   "cell_type": "code",
   "execution_count": 5,
   "metadata": {
    "scrolled": false
   },
   "outputs": [
    {
     "data": {
      "text/plain": [
       "DatetimeIndex(['1995-10-05', '1995-10-06'], dtype='datetime64[ns]', freq=None)"
      ]
     },
     "execution_count": 5,
     "metadata": {},
     "output_type": "execute_result"
    }
   ],
   "source": [
    "# Create a DatetimeIndex object with the function pd.to_datetime()\n",
    "list = ['10-05-1995', '10-06-1995']\n",
    "pd.to_datetime(list)"
   ]
  },
  {
   "cell_type": "markdown",
   "metadata": {},
   "source": [
    "When passed a series, the function returns a series"
   ]
  },
  {
   "cell_type": "code",
   "execution_count": 6,
   "metadata": {
    "scrolled": true
   },
   "outputs": [
    {
     "data": {
      "text/plain": [
       "0   1995-10-05\n",
       "1   1995-10-06\n",
       "dtype: datetime64[ns]"
      ]
     },
     "execution_count": 6,
     "metadata": {},
     "output_type": "execute_result"
    }
   ],
   "source": [
    "# Create a DatetimeIndex object with the function pd.to_datetime()\n",
    "series = pd.Series(['10-05-1995', '10-06-1995'])\n",
    "pd.to_datetime(series)"
   ]
  },
  {
   "cell_type": "markdown",
   "metadata": {},
   "source": [
    "When a very long index is required, manually typing all the elements becomes cumbersone. For this reason, it is more convenint to use **`pd.date_range()`** whenever timestamps with a regular frequency are needed."
   ]
  },
  {
   "cell_type": "code",
   "execution_count": 7,
   "metadata": {
    "scrolled": true
   },
   "outputs": [
    {
     "data": {
      "text/plain": [
       "DatetimeIndex(['1995-10-05', '1995-10-06', '1995-10-07', '1995-10-08',\n",
       "               '1995-10-09', '1995-10-10', '1995-10-11', '1995-10-12'],\n",
       "              dtype='datetime64[ns]', freq='D')"
      ]
     },
     "execution_count": 7,
     "metadata": {},
     "output_type": "execute_result"
    }
   ],
   "source": [
    "# Create a DatetimeIndex object\n",
    "pd.date_range(start='10-05-1995', end='10-12-1995')"
   ]
  },
  {
   "cell_type": "code",
   "execution_count": 8,
   "metadata": {},
   "outputs": [
    {
     "data": {
      "text/plain": [
       "DatetimeIndex(['1995-10-05', '1995-10-06', '1995-10-09', '1995-10-10',\n",
       "               '1995-10-11', '1995-10-12'],\n",
       "              dtype='datetime64[ns]', freq='B')"
      ]
     },
     "execution_count": 8,
     "metadata": {},
     "output_type": "execute_result"
    }
   ],
   "source": [
    "# Create a DatetimeIndex object\n",
    "pd.date_range(start='10-05-1995', end='10-12-1995', freq='B')"
   ]
  },
  {
   "cell_type": "code",
   "execution_count": 9,
   "metadata": {},
   "outputs": [
    {
     "data": {
      "text/plain": [
       "DatetimeIndex(['1995-10-05', '1995-10-06', '1995-10-07', '1995-10-08',\n",
       "               '1995-10-09', '1995-10-10', '1995-10-11', '1995-10-12'],\n",
       "              dtype='datetime64[ns]', freq='D')"
      ]
     },
     "execution_count": 9,
     "metadata": {},
     "output_type": "execute_result"
    }
   ],
   "source": [
    "# Create a DatetimeIndex object\n",
    "pd.date_range('10-05-1995', periods=8, freq='D')"
   ]
  },
  {
   "cell_type": "markdown",
   "metadata": {},
   "source": [
    "## Time Spans"
   ]
  },
  {
   "cell_type": "markdown",
   "metadata": {},
   "source": [
    "**`Time spans`** are more often associated with variable changes. The **`Period`** and **`PeriodIndex`** classes can be called directly."
   ]
  },
  {
   "cell_type": "code",
   "execution_count": 10,
   "metadata": {},
   "outputs": [
    {
     "data": {
      "text/plain": [
       "Period('1995-10-05', 'D')"
      ]
     },
     "execution_count": 10,
     "metadata": {},
     "output_type": "execute_result"
    }
   ],
   "source": [
    "# Create a Period object directly\n",
    "pd.Period('5 of October 1995')"
   ]
  },
  {
   "cell_type": "code",
   "execution_count": 11,
   "metadata": {},
   "outputs": [
    {
     "data": {
      "text/plain": [
       "PeriodIndex(['1995-10-05', '1995-10-06'], dtype='period[D]', freq='D')"
      ]
     },
     "execution_count": 11,
     "metadata": {},
     "output_type": "execute_result"
    }
   ],
   "source": [
    "# Create a PeriodIndex object directly\n",
    "pd.PeriodIndex(['5 of October 1995', 'October 6, 1995'], freq='D')"
   ]
  },
  {
   "cell_type": "markdown",
   "metadata": {},
   "source": [
    "Alternatively to the direct creation method, **`Period`** and **`PeriodIndex`** objects can also be created by converting Timestamp and DatetimeIndex objects with the function **`Timestamp.period()`** or **`DatetimeIndex.period()`**, which turns the former into a Period and the latter into a Period Index."
   ]
  },
  {
   "cell_type": "code",
   "execution_count": 12,
   "metadata": {},
   "outputs": [
    {
     "data": {
      "text/plain": [
       "Period('1995-10-05', 'D')"
      ]
     },
     "execution_count": 12,
     "metadata": {},
     "output_type": "execute_result"
    }
   ],
   "source": [
    "# Create a Period object with the function Timestamp.to_period()\n",
    "ts = pd.Timestamp('5 of October 1995')\n",
    "ts.to_period(freq='D')"
   ]
  },
  {
   "cell_type": "code",
   "execution_count": 13,
   "metadata": {},
   "outputs": [
    {
     "data": {
      "text/plain": [
       "PeriodIndex(['1995-10-05', '1995-10-06'], dtype='period[D]', freq='D')"
      ]
     },
     "execution_count": 13,
     "metadata": {},
     "output_type": "execute_result"
    }
   ],
   "source": [
    "# Create a PeriodIndex object with the function DatetimeIndex.to_period()\n",
    "dti = pd.DatetimeIndex(['5 of October 1995', 'October 6, 1995'])\n",
    "dti.to_period(freq='D')"
   ]
  },
  {
   "cell_type": "markdown",
   "metadata": {},
   "source": [
    "The function **`pd.period_range()`** works similarly to its equivalent for Date times."
   ]
  },
  {
   "cell_type": "markdown",
   "metadata": {},
   "source": [
    "## Time deltas"
   ]
  },
  {
   "cell_type": "markdown",
   "metadata": {},
   "source": [
    "**`Time deltas`** are the results of subtractions between date times. A **`Timedelta objet`** is created from the difference of two Timestamp objects;  a **`TimedeltaIndex`** objet is created from the difference of two DatetimeIndex objects"
   ]
  },
  {
   "cell_type": "code",
   "execution_count": 14,
   "metadata": {},
   "outputs": [
    {
     "data": {
      "text/plain": [
       "Timedelta('1 days 00:00:00')"
      ]
     },
     "execution_count": 14,
     "metadata": {},
     "output_type": "execute_result"
    }
   ],
   "source": [
    "# Create a Timedelta object\n",
    "ts1 = pd.Timestamp('10-05-1995') \n",
    "ts2 = pd.Timestamp('10-06-1995')\n",
    "ts2 - ts1"
   ]
  },
  {
   "cell_type": "code",
   "execution_count": 15,
   "metadata": {},
   "outputs": [
    {
     "data": {
      "text/plain": [
       "TimedeltaIndex(['2 days', '2 days'], dtype='timedelta64[ns]', freq=None)"
      ]
     },
     "execution_count": 15,
     "metadata": {},
     "output_type": "execute_result"
    }
   ],
   "source": [
    "dti1 = pd.DatetimeIndex(['10-05-1995', '10-06-1995'])\n",
    "dti2 = pd.DatetimeIndex(['10-07-1995', '10-08-1995']) \n",
    "dti2 - dti1"
   ]
  },
  {
   "cell_type": "markdown",
   "metadata": {},
   "source": [
    "The function **`pd.timedelta_range()`** works similarly to its equivalent for Date times."
   ]
  },
  {
   "cell_type": "markdown",
   "metadata": {},
   "source": [
    "## Frequencies"
   ]
  },
  {
   "cell_type": "markdown",
   "metadata": {},
   "source": [
    "Generalizing on the frequencies mentioned above, the following codes allow to specify any desired frequency spacing: **`D`**: day, **`W`**: Week, **`M`**: Month end, **`Q`**: Quarter end, **`A`**: Year end, **`H`**: Hours, **`T`**: Minutes, **`S`**: Seconds, **`L`**: Milliseonds, **`U`**: Microseconds, **`N`**: Nanoseconds, **`B`**: Business day, **`BM`**: Business month end, **`BQ`**: Business quarter end, **`BA`**: Business year end, **`BH`**: Business hours.\\\n",
    "\n",
    "Since the monthly, quarterly and annual frequencies are marked at the end of the period, to have them marked at the beginning of the period, it is necessary to add an `S` suffix: **`MS`** Month start, **`QS`** Quarter start, **`AS`** Year start, **`BMS`** Business month start, **`BQS`** Business quarter start, **`BAS`** Business year start.\\\n",
    "\n",
    "To change the month used to mark any quarterly or annual code, it is necessary to add a three-letter month code as a suffix : **`Q-JAN`**, **`BQ-FEB`**, **`QS-MAR`**, **`BQS-APR`**, etc..., **`A-JAN`**, **`BA-FEB`**, **`AS-MAR`**, **`BAS-APR`**, etc...\\\n",
    "\n",
    "To change the split-point of the weekly frequency, it is necessary to add a three-letter weekday code: **`W-SUN`**, **`W-MON`**, **`W-TUE`**, **`W-WED`**, etc...\\\n",
    "\n",
    "Codes can be combined with numbers to specify other frequencies. For example, a frequency of 4 hours 20 minutesis given by the combination: **`4H20T`**\\"
   ]
  },
  {
   "cell_type": "markdown",
   "metadata": {},
   "source": [
    "## Offsets"
   ]
  },
  {
   "cell_type": "markdown",
   "metadata": {},
   "source": [
    "In the preceding sections, frequency strings (e.g. 'D') were used to specify a frequency that defined: \\\n",
    "- how the date times in DatetimeIndex were spaced when using `pd.date_range()` \\\n",
    "- the frequency of a Period or PeriodIndex \\ \n",
    "\n",
    "These frequency are instances of Pandas **`DateOffset`**, which is similar to a Timedelta that represents a duration of time but follows specific calendar duration rules. For example, a Timedelta day will always increment datetimes by 24 hours, while a DateOffset day will increment datetimes to the same time the next day whether a day represents 23, 24 or 25 hours due to daylight savings time. However, all DateOffset subclasses that are an hour or smaller (Hour, Minute, Second, Milli, Micro, Nano) behave like Timedelta and respect absolute time."
   ]
  },
  {
   "cell_type": "markdown",
   "metadata": {},
   "source": [
    "# Downloading Stock Prices"
   ]
  },
  {
   "cell_type": "markdown",
   "metadata": {},
   "source": [
    "Since `Pandas` was developed mainly for financial application, the **`pandas_datareader`** library extracts data from various Internet sources into a `Pandas` DataFrame.\\\n",
    "\n",
    "Load the price history of Apple Inc from Yahoo Finance."
   ]
  },
  {
   "cell_type": "code",
   "execution_count": 16,
   "metadata": {},
   "outputs": [
    {
     "name": "stdout",
     "output_type": "stream",
     "text": [
      "                 High        Low       Open      Close       Volume  Adj Close\n",
      "Date                                                                          \n",
      "2009-01-02  13.005714  12.165714  12.268572  12.964286  186503800.0   8.611461\n",
      "2009-01-05  13.740000  13.244286  13.310000  13.511429  295402100.0   8.974896\n",
      "2009-01-06  13.881429  13.198571  13.707143  13.288571  322327600.0   8.826868\n",
      "2009-01-07  13.214286  12.894286  13.115714  13.001429  188262200.0   8.636136\n",
      "2009-01-08  13.307143  12.862857  12.918571  13.242857  168375200.0   8.796504\n"
     ]
    }
   ],
   "source": [
    "# Import data\n",
    "from pandas_datareader import data \n",
    "\n",
    "# Download the stock price\n",
    "apple = data.DataReader('AAPL', data_source='yahoo', start='2009', \n",
    "                        end='2018')\n",
    "print(apple.head())"
   ]
  },
  {
   "cell_type": "markdown",
   "metadata": {},
   "source": [
    "Plot the closing price."
   ]
  },
  {
   "cell_type": "code",
   "execution_count": 17,
   "metadata": {
    "scrolled": false
   },
   "outputs": [
    {
     "data": {
      "text/plain": [
       "<matplotlib.axes._subplots.AxesSubplot at 0x1148c9d30>"
      ]
     },
     "execution_count": 17,
     "metadata": {},
     "output_type": "execute_result"
    },
    {
     "data": {
      "image/png": "[encoded data removed]",
      "text/plain": [
       "<Figure size 432x288 with 1 Axes>"
      ]
     },
     "metadata": {
      "needs_background": "light"
     },
     "output_type": "display_data"
    }
   ],
   "source": [
    "apple = apple['Close']\n",
    "apple.plot()"
   ]
  },
  {
   "cell_type": "markdown",
   "metadata": {},
   "source": [
    "# Operations"
   ]
  },
  {
   "cell_type": "markdown",
   "metadata": {},
   "source": [
    "## Resampling and Converting Frequencies"
   ]
  },
  {
   "cell_type": "markdown",
   "metadata": {},
   "source": [
    "One frequent need in time series studies is resampling at higher or lower frequencies. This can be done using the method **`resample()`** or the method **`asfreq()`**. The difference between the two is that the former is a data aggregation while the latter is a data selection. \\\n",
    "\n",
    "Resample at the end of business year, using `resample()` to plot the average of the previous year and `asfreq()` to plot the value at the end of the year."
   ]
  },
  {
   "cell_type": "code",
   "execution_count": 18,
   "metadata": {},
   "outputs": [
    {
     "data": {
      "image/png": "[encoded data removed]",
      "text/plain": [
       "<Figure size 432x288 with 1 Axes>"
      ]
     },
     "metadata": {
      "needs_background": "light"
     },
     "output_type": "display_data"
    }
   ],
   "source": [
    "# Plot the closing price\n",
    "apple.plot(style='-', color='red')\n",
    "\n",
    "# Plot the resample from resample\n",
    "apple.resample('BA').mean().plot(color='green')\n",
    "\n",
    "# Plot the resample from asfred\n",
    "apple.asfreq('BA').plot(color='purple');\n",
    "\n",
    "# Add a legend\n",
    "plt.legend(['input', 'resample', 'asfreq'], loc='upper left');"
   ]
  },
  {
   "cell_type": "markdown",
   "metadata": {},
   "source": [
    "The two methods also allow to resample the business date data at daily frequency, including the weekends.\\\n",
    "\n",
    "Resample at the beginning of the calendar day: in the top sub-plot, non-business days are left as NA; in the bottom subplot, non-business days are filled with a forward-filling and backward-filling approach. "
   ]
  },
  {
   "cell_type": "code",
   "execution_count": 19,
   "metadata": {},
   "outputs": [
    {
     "data": {
      "image/png": "[encoded data removed]",
      "text/plain": [
       "<Figure size 432x288 with 2 Axes>"
      ]
     },
     "metadata": {
      "needs_background": "light"
     },
     "output_type": "display_data"
    }
   ],
   "source": [
    "# Create the two subplots\n",
    "fig, ax = plt.subplots(2, sharex=True)\n",
    "\n",
    "# Select only the first 10 days\n",
    "first_days = apple.iloc[:10]\n",
    "\n",
    "# First subplot\n",
    "first_days.asfreq('D').plot(ax=ax[0], marker='o', color='red')\n",
    "\n",
    "# Second subplot\n",
    "first_days.asfreq('D',method='bfill').plot(ax=ax[1],marker='o',color='green')\n",
    "first_days.asfreq('D',method='ffill').plot(ax=ax[1],marker='o',color='purple')\n",
    "\n",
    "# Plot the legend \n",
    "ax[1].legend([\"back-fill\", \"forward-fill\"]);"
   ]
  },
  {
   "cell_type": "markdown",
   "metadata": {},
   "source": [
    "## Time Shifts"
   ]
  },
  {
   "cell_type": "markdown",
   "metadata": {},
   "source": [
    "Another frequent need in time series studies is shifting data in time. This can be done using the method **`shift()`** or the method **`tshift()`**. The difference between the two is that the former shifts the data while the latter shifts the index. In both cases, the shift is specified as a multiple of the frequency. Apply a shift of 900 days."
   ]
  },
  {
   "cell_type": "code",
   "execution_count": 20,
   "metadata": {},
   "outputs": [
    {
     "data": {
      "image/png": "[encoded data removed]",
      "text/plain": [
       "<Figure size 432x288 with 3 Axes>"
      ]
     },
     "metadata": {
      "needs_background": "light"
     },
     "output_type": "display_data"
    }
   ],
   "source": [
    "# Create the three subplots\n",
    "fig, ax = plt.subplots(3, sharey=True)\n",
    "fig.tight_layout()\n",
    "\n",
    "# Apply a frequency to the data\n",
    "apple = apple.asfreq('D', method='pad')\n",
    "\n",
    "# Plot the series\n",
    "apple.plot(ax=ax[0])\n",
    "apple.shift(900).plot(ax=ax[1])\n",
    "apple.tshift(900).plot(ax=ax[2])\n",
    "\n",
    "# Plot the legends and annotations\n",
    "local_max = pd.to_datetime('2007-11-05')\n",
    "offset = pd.Timedelta(900, 'D')\n",
    "\n",
    "ax[0].legend(['input'], loc='lower right')\n",
    "ax[0].get_xticklabels()[2].set(weight='heavy', color='red')\n",
    "ax[0].axvline(local_max, color='red')\n",
    "\n",
    "ax[1].legend(['shift(900)'], loc='lower right')\n",
    "ax[1].get_xticklabels()[2].set(weight='heavy', color='red')\n",
    "ax[1].axvline(local_max + offset, color='red')\n",
    "\n",
    "ax[2].legend(['tshift(900)'], loc='lower right')\n",
    "ax[2].get_xticklabels()[1].set(weight='heavy', color='red')\n",
    "ax[2].axvline(local_max + offset, color='red');"
   ]
  },
  {
   "cell_type": "markdown",
   "metadata": {},
   "source": [
    "## Rolling Windows"
   ]
  },
  {
   "cell_type": "markdown",
   "metadata": {},
   "source": [
    "Another frequent need in time series studies is rolling statistics. This can be done using the **`rolling()`** attribute of Series and DataFrames. Compute the one-year centered rolling mean and standard deviation."
   ]
  },
  {
   "cell_type": "code",
   "execution_count": 21,
   "metadata": {},
   "outputs": [
    {
     "data": {
      "image/png": "[encoded data removed]",
      "text/plain": [
       "<Figure size 432x288 with 1 Axes>"
      ]
     },
     "metadata": {
      "needs_background": "light"
     },
     "output_type": "display_data"
    }
   ],
   "source": [
    "rolling = apple.rolling(365, center=True)\n",
    "data = pd.DataFrame({'input': apple, 'one-year rolling_mean': rolling.mean(), \n",
    "                     'one-year rolling_std': rolling.std()})\n",
    "ax = data.plot(style=['-', '--', ':'])"
   ]
  }
 ],
 "metadata": {
  "kernelspec": {
   "display_name": "Python 3",
   "language": "python",
   "name": "python3"
  },
  "language_info": {
   "codemirror_mode": {
    "name": "ipython",
    "version": 3
   },
   "file_extension": ".py",
   "mimetype": "text/x-python",
   "name": "python",
   "nbconvert_exporter": "python",
   "pygments_lexer": "ipython3",
   "version": "3.7.3"
  }
 },
 "nbformat": 4,
 "nbformat_minor": 2
}
