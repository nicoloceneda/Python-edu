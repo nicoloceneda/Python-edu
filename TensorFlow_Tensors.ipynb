{
  "nbformat": 4,
  "nbformat_minor": 0,
  "metadata": {
    "colab": {
      "name": "TensorFlow - Tensors.ipynb",
      "provenance": [],
      "collapsed_sections": [],
      "authorship_tag": "ABX9TyPraHONSHwHunpK+U9+DPKH",
      "include_colab_link": true
    },
    "kernelspec": {
      "name": "python3",
      "display_name": "Python 3"
    }
  },
  "cells": [
    {
      "cell_type": "markdown",
      "metadata": {
        "id": "view-in-github",
        "colab_type": "text"
      },
      "source": [
        "<a href=\"https://colab.research.google.com/github/nicoloceneda/Python-edu/blob/master/TensorFlow_Tensors.ipynb\" target=\"_parent\"><img src=\"https://colab.research.google.com/assets/colab-badge.svg\" alt=\"Open In Colab\"/></a>"
      ]
    },
    {
      "cell_type": "markdown",
      "metadata": {
        "id": "SPuCfBWpT8Qc",
        "colab_type": "text"
      },
      "source": [
        "# TensorFlow - Tensors\n",
        "\n",
        "---"
      ]
    },
    {
      "cell_type": "code",
      "metadata": {
        "id": "AFL_KQDnVYBc",
        "colab_type": "code",
        "colab": {}
      },
      "source": [
        "import numpy as np\n",
        "import tensorflow as tf"
      ],
      "execution_count": 0,
      "outputs": []
    },
    {
      "cell_type": "markdown",
      "metadata": {
        "id": "tx7mKXDnTyB9",
        "colab_type": "text"
      },
      "source": [
        "## Creating tensors \n",
        "Create a tensor of **constant values** from a list or a NumPy array using `tf.convert_to_tensor` or `tf.constant`\n",
        "\n",
        "\n"
      ]
    },
    {
      "cell_type": "code",
      "metadata": {
        "id": "S1_YmL0kBC28",
        "colab_type": "code",
        "outputId": "6ee73cc0-6c66-4db3-8a0c-87a23f30b0ee",
        "colab": {
          "base_uri": "https://localhost:8080/",
          "height": 51
        }
      },
      "source": [
        "# Using tf.convert_to_tensor\n",
        "tensor_a = tf.convert_to_tensor([1, 2, 3], dtype=tf.int64)\n",
        "print(tensor_a)\n",
        "\n",
        "tensor_b = tf.convert_to_tensor(np.array([4, 5, 6]), dtype=tf.int64)\n",
        "print(tensor_b)"
      ],
      "execution_count": 2,
      "outputs": [
        {
          "output_type": "stream",
          "text": [
            "tf.Tensor([1 2 3], shape=(3,), dtype=int64)\n",
            "tf.Tensor([4 5 6], shape=(3,), dtype=int64)\n"
          ],
          "name": "stdout"
        }
      ]
    },
    {
      "cell_type": "code",
      "metadata": {
        "id": "M7WcEdKXYPWJ",
        "colab_type": "code",
        "outputId": "4c651f61-fe47-403e-f952-09f2fb7903d8",
        "colab": {
          "base_uri": "https://localhost:8080/",
          "height": 51
        }
      },
      "source": [
        "# Using tf.constant\n",
        "tensor_a = tf.constant([1, 2, 3], dtype=tf.int64)\n",
        "print(tensor_a)\n",
        "\n",
        "tensor_b = tf.constant(np.array([4, 5, 6]), dtype=tf.int64)\n",
        "print(tensor_b)"
      ],
      "execution_count": 3,
      "outputs": [
        {
          "output_type": "stream",
          "text": [
            "tf.Tensor([1 2 3], shape=(3,), dtype=int64)\n",
            "tf.Tensor([4 5 6], shape=(3,), dtype=int64)\n"
          ],
          "name": "stdout"
        }
      ]
    },
    {
      "cell_type": "markdown",
      "metadata": {
        "id": "xe1JxVvpcnJu",
        "colab_type": "text"
      },
      "source": [
        "Create a tensor of **zeros** using `tf.zeros`"
      ]
    },
    {
      "cell_type": "code",
      "metadata": {
        "id": "8Npc8BL1c7wS",
        "colab_type": "code",
        "outputId": "0f209165-f50b-463b-c712-b861e1ca3613",
        "colab": {
          "base_uri": "https://localhost:8080/",
          "height": 34
        }
      },
      "source": [
        "tensor_a = tf.zeros(shape=(1, 3), dtype=tf.int64)\n",
        "print(tensor_a)"
      ],
      "execution_count": 4,
      "outputs": [
        {
          "output_type": "stream",
          "text": [
            "tf.Tensor([[0 0 0]], shape=(1, 3), dtype=int64)\n"
          ],
          "name": "stdout"
        }
      ]
    },
    {
      "cell_type": "markdown",
      "metadata": {
        "id": "GrWuey-ldHot",
        "colab_type": "text"
      },
      "source": [
        "Create a tensor of **ones** using `tf.ones`\n",
        "\n"
      ]
    },
    {
      "cell_type": "code",
      "metadata": {
        "id": "pSY7L_b_dMUE",
        "colab_type": "code",
        "outputId": "9e0cd860-8bac-4ed6-8026-037640e2eccb",
        "colab": {
          "base_uri": "https://localhost:8080/",
          "height": 34
        }
      },
      "source": [
        "tensor_a = tf.ones(shape=(1, 3), dtype=tf.int64)\n",
        "print(tensor_a)"
      ],
      "execution_count": 5,
      "outputs": [
        {
          "output_type": "stream",
          "text": [
            "tf.Tensor([[1 1 1]], shape=(1, 3), dtype=int64)\n"
          ],
          "name": "stdout"
        }
      ]
    },
    {
      "cell_type": "markdown",
      "metadata": {
        "id": "7CfPcoCidYd2",
        "colab_type": "text"
      },
      "source": [
        "Create a tensor of **random numbers** using `tf.random`"
      ]
    },
    {
      "cell_type": "code",
      "metadata": {
        "id": "FZGyehnqdkZk",
        "colab_type": "code",
        "outputId": "7056f4d7-70cd-4ef8-ef8a-4b6e418f7d7b",
        "colab": {
          "base_uri": "https://localhost:8080/",
          "height": 51
        }
      },
      "source": [
        "tf.random.set_seed(seed=1)\n",
        "\n",
        "tensor_a = tf.random.uniform(shape=(1, 3), minval=0, maxval=1, dtype=tf.float64)\n",
        "print(tensor_a)\n",
        "\n",
        "tensor_b = tf.random.normal(shape=(1, 3), mean=0.0, stddev=1.0, dtype=tf.float64)\n",
        "print(tensor_b)"
      ],
      "execution_count": 20,
      "outputs": [
        {
          "output_type": "stream",
          "text": [
            "tf.Tensor([[0.32104743 0.04779355 0.33551271]], shape=(1, 3), dtype=float64)\n",
            "tf.Tensor([[ 2.22804923 -0.25682397  0.08359474]], shape=(1, 3), dtype=float64)\n"
          ],
          "name": "stdout"
        }
      ]
    },
    {
      "cell_type": "markdown",
      "metadata": {
        "id": "deX5q4Hr0GR2",
        "colab_type": "text"
      },
      "source": [
        "## Accessing the values of a tensor\n",
        "**Access the values** of a tensor using `.numpy()`"
      ]
    },
    {
      "cell_type": "code",
      "metadata": {
        "id": "OV2mH11j0XKx",
        "colab_type": "code",
        "outputId": "2e9aaffe-9aba-4983-bca1-793da4848b09",
        "colab": {
          "base_uri": "https://localhost:8080/",
          "height": 34
        }
      },
      "source": [
        "tensor_a = tf.constant([1, 2, 3], dtype=tf.int64)\n",
        "print(tensor_a.numpy())"
      ],
      "execution_count": 7,
      "outputs": [
        {
          "output_type": "stream",
          "text": [
            "[1 2 3]\n"
          ],
          "name": "stdout"
        }
      ]
    },
    {
      "cell_type": "markdown",
      "metadata": {
        "id": "S3TPD4pg8pik",
        "colab_type": "text"
      },
      "source": [
        "**Print only the values** of a tensor using `tf.print`"
      ]
    },
    {
      "cell_type": "code",
      "metadata": {
        "id": "RTmrn12b80zI",
        "colab_type": "code",
        "colab": {
          "base_uri": "https://localhost:8080/",
          "height": 34
        },
        "outputId": "3b14dee5-9582-483b-b8be-c86801219f12"
      },
      "source": [
        "tensor_a = tf.constant([1, 2, 3], dtype=tf.int64)\n",
        "tf.print(tensor_a)"
      ],
      "execution_count": 21,
      "outputs": [
        {
          "output_type": "stream",
          "text": [
            "[1 2 3]\n"
          ],
          "name": "stdout"
        }
      ]
    },
    {
      "cell_type": "markdown",
      "metadata": {
        "id": "9dAwTtd2ZAzh",
        "colab_type": "text"
      },
      "source": [
        "## Manipulating the data type of a tensor\n",
        "Change the **data type** of a tensor using `tf.cast`"
      ]
    },
    {
      "cell_type": "code",
      "metadata": {
        "id": "2sVs7VxZZ_ui",
        "colab_type": "code",
        "outputId": "f3be33ad-eae2-4b6f-9414-cc66b734648e",
        "colab": {
          "base_uri": "https://localhost:8080/",
          "height": 51
        }
      },
      "source": [
        "tensor_a1 = tf.constant([1, 2, 3], dtype=tf.int64)\n",
        "print(tensor_a1)\n",
        "\n",
        "tensor_a2 = tf.cast(tensor_a1, dtype=tf.float64)\n",
        "print(tensor_a2)"
      ],
      "execution_count": 8,
      "outputs": [
        {
          "output_type": "stream",
          "text": [
            "tf.Tensor([1 2 3], shape=(3,), dtype=int64)\n",
            "tf.Tensor([1. 2. 3.], shape=(3,), dtype=float64)\n"
          ],
          "name": "stdout"
        }
      ]
    },
    {
      "cell_type": "markdown",
      "metadata": {
        "id": "2mfklz9NBlnz",
        "colab_type": "text"
      },
      "source": [
        "## Manipulating the shape of a tensor\n",
        "**Transpose** a tensor using `tf.transpose`"
      ]
    },
    {
      "cell_type": "code",
      "metadata": {
        "id": "qzddVGTxa_20",
        "colab_type": "code",
        "outputId": "9419c989-6119-4a30-d0bb-4ec685f7aa55",
        "colab": {
          "base_uri": "https://localhost:8080/",
          "height": 34
        }
      },
      "source": [
        "tensor_a1 = tf.random.uniform(shape=(1, 3), dtype=tf.float64)\n",
        "tensor_a2 = tf.transpose(tensor_a1)\n",
        "\n",
        "print('shape: ', tensor_a1.shape, '-->', tensor_a2.shape)"
      ],
      "execution_count": 9,
      "outputs": [
        {
          "output_type": "stream",
          "text": [
            "shape:  (1, 3) --> (3, 1)\n"
          ],
          "name": "stdout"
        }
      ]
    },
    {
      "cell_type": "markdown",
      "metadata": {
        "id": "lsgr5qOlcLr0",
        "colab_type": "text"
      },
      "source": [
        "**Reshape** a tensor using `tf.reshape`"
      ]
    },
    {
      "cell_type": "code",
      "metadata": {
        "id": "5wNCsxvhcXIX",
        "colab_type": "code",
        "outputId": "3beeb19a-a689-42ce-b122-2564e8dca38f",
        "colab": {
          "base_uri": "https://localhost:8080/",
          "height": 34
        }
      },
      "source": [
        "tensor_a1 = tf.random.uniform(shape=(2, 3), dtype=tf.float64)\n",
        "tensor_a2 = tf.reshape(tensor_a1, shape=(1, 6))\n",
        "\n",
        "print('shape: ', tensor_a1.shape, '-->', tensor_a2.shape)"
      ],
      "execution_count": 10,
      "outputs": [
        {
          "output_type": "stream",
          "text": [
            "shape:  (2, 3) --> (1, 6)\n"
          ],
          "name": "stdout"
        }
      ]
    },
    {
      "cell_type": "markdown",
      "metadata": {
        "id": "mOCmsyCXPokR",
        "colab_type": "text"
      },
      "source": [
        "**Split** a tensor into a list of equally sized tensors using `tf.split`"
      ]
    },
    {
      "cell_type": "code",
      "metadata": {
        "id": "nNWfuYJpP4Pc",
        "colab_type": "code",
        "outputId": "a067008b-2d87-41d6-8864-b67e5c72e63c",
        "colab": {
          "base_uri": "https://localhost:8080/",
          "height": 51
        }
      },
      "source": [
        "# Providing the number of splits (total size of input tensor must be divisible by desired number of splits):\n",
        "tensor_a = tf.random.uniform(shape=(6, ), minval=0, maxval=10, dtype=tf.int64)\n",
        "print(tensor_a)\n",
        "\n",
        "split_list_a = tf.split(tensor_a, num_or_size_splits=3)\n",
        "tf.print([item for item in split_list_a])"
      ],
      "execution_count": 22,
      "outputs": [
        {
          "output_type": "stream",
          "text": [
            "tf.Tensor([3 2 8 8 7 6], shape=(6,), dtype=int64)\n",
            "[[3 2], [8 8], [7 6]]\n"
          ],
          "name": "stdout"
        }
      ]
    },
    {
      "cell_type": "code",
      "metadata": {
        "id": "ts_Pf4UPRb82",
        "colab_type": "code",
        "outputId": "375e0567-4737-40a3-b668-92a3eda558b8",
        "colab": {
          "base_uri": "https://localhost:8080/",
          "height": 51
        }
      },
      "source": [
        "# Providing the sizes of different splits:\n",
        "tensor_a = tf.random.uniform(shape=(6, ), minval=0, maxval=10, dtype=tf.int64)\n",
        "print(tensor_a)\n",
        "\n",
        "split_list_a = tf.split(tensor_a, num_or_size_splits=[3, 2, 1])\n",
        "tf.print([item for item in split_list_a])"
      ],
      "execution_count": 23,
      "outputs": [
        {
          "output_type": "stream",
          "text": [
            "tf.Tensor([6 1 6 7 8 4], shape=(6,), dtype=int64)\n",
            "[[6 1 6], [7 8], [4]]\n"
          ],
          "name": "stdout"
        }
      ]
    },
    {
      "cell_type": "markdown",
      "metadata": {
        "id": "ysARI2LaRwLm",
        "colab_type": "text"
      },
      "source": [
        "**Concatenate** tensors into a single tensor using `tf.concat`"
      ]
    },
    {
      "cell_type": "code",
      "metadata": {
        "id": "-VKs_n-4aHtW",
        "colab_type": "code",
        "outputId": "d2c820a1-4d6b-4814-8d5e-61c65dd7ae82",
        "colab": {
          "base_uri": "https://localhost:8080/",
          "height": 68
        }
      },
      "source": [
        "tensor_a = tf.random.uniform(shape=(3, ), minval=0, maxval=10, dtype=tf.int64)\n",
        "print(tensor_a)\n",
        "\n",
        "tensor_b = tf.random.uniform(shape=(3, ), minval=0, maxval=10, dtype=tf.int64)\n",
        "print(tensor_b)\n",
        "\n",
        "tensor_c = tf.concat([tensor_a, tensor_b], axis=0)\n",
        "print(tensor_c)"
      ],
      "execution_count": 13,
      "outputs": [
        {
          "output_type": "stream",
          "text": [
            "tf.Tensor([1 7 4], shape=(3,), dtype=int64)\n",
            "tf.Tensor([2 2 3], shape=(3,), dtype=int64)\n",
            "tf.Tensor([1 7 4 2 2 3], shape=(6,), dtype=int64)\n"
          ],
          "name": "stdout"
        }
      ]
    },
    {
      "cell_type": "markdown",
      "metadata": {
        "id": "1jPPUSsOeFA3",
        "colab_type": "text"
      },
      "source": [
        "**Stack** tensors into a single tensor using `tf.stack`"
      ]
    },
    {
      "cell_type": "code",
      "metadata": {
        "id": "E9Pxa5t2eIm8",
        "colab_type": "code",
        "outputId": "3c2ef6aa-01fe-431a-fe01-75cfb174f942",
        "colab": {
          "base_uri": "https://localhost:8080/",
          "height": 85
        }
      },
      "source": [
        "tensor_a = tf.random.uniform(shape=(3, ), minval=0, maxval=10, dtype=tf.int64)\n",
        "print(tensor_a)\n",
        "\n",
        "tensor_b = tf.random.uniform(shape=(3, ), minval=0, maxval=10, dtype=tf.int64)\n",
        "print(tensor_b)\n",
        "\n",
        "tensor_c = tf.stack([tensor_a, tensor_b], axis=0)\n",
        "tf.print(tensor_c)"
      ],
      "execution_count": 24,
      "outputs": [
        {
          "output_type": "stream",
          "text": [
            "tf.Tensor([8 1 1], shape=(3,), dtype=int64)\n",
            "tf.Tensor([5 5 0], shape=(3,), dtype=int64)\n",
            "[[8 1 1]\n",
            " [5 5 0]]\n"
          ],
          "name": "stdout"
        }
      ]
    },
    {
      "cell_type": "markdown",
      "metadata": {
        "id": "GAXIN_6erDnk",
        "colab_type": "text"
      },
      "source": [
        "## Applying mathematical operations to tensors\n",
        "Compute the **sum** of a tensor using `tf.math.reduce_sum`\n",
        "\n"
      ]
    },
    {
      "cell_type": "code",
      "metadata": {
        "id": "gJBj7mf08dp2",
        "colab_type": "code",
        "outputId": "8af75a30-14ca-4a37-9a77-cd7470f66e52",
        "colab": {
          "base_uri": "https://localhost:8080/",
          "height": 51
        }
      },
      "source": [
        "tensor_a = tf.random.uniform(shape=(1, 3), minval=0, maxval=10, dtype=tf.float64)\n",
        "print(tensor_a)\n",
        "\n",
        "tensor_b = tf.math.reduce_sum(tensor_a, axis=1)\n",
        "print(tensor_b)"
      ],
      "execution_count": 15,
      "outputs": [
        {
          "output_type": "stream",
          "text": [
            "tf.Tensor([[1.16573154 4.64325697 6.97952886]], shape=(1, 3), dtype=float64)\n",
            "tf.Tensor([12.78851737], shape=(1,), dtype=float64)\n"
          ],
          "name": "stdout"
        }
      ]
    },
    {
      "cell_type": "markdown",
      "metadata": {
        "id": "fgGeiuDu8Qm7",
        "colab_type": "text"
      },
      "source": [
        "Compute the **mean** of a tensor using `tf.math.reduce_mean`\n"
      ]
    },
    {
      "cell_type": "code",
      "metadata": {
        "id": "6SMZoPtnxprs",
        "colab_type": "code",
        "outputId": "67ead090-17d9-4a33-f5d4-fa9a826422ca",
        "colab": {
          "base_uri": "https://localhost:8080/",
          "height": 51
        }
      },
      "source": [
        "tensor_a = tf.random.uniform(shape=(1, 3), minval=0, maxval=10, dtype=tf.float64)\n",
        "print(tensor_a)\n",
        "\n",
        "tensor_b = tf.math.reduce_mean(tensor_a, axis=1)\n",
        "print(tensor_b)"
      ],
      "execution_count": 16,
      "outputs": [
        {
          "output_type": "stream",
          "text": [
            "tf.Tensor([[0.84824379 5.16680894 8.03574486]], shape=(1, 3), dtype=float64)\n",
            "tf.Tensor([4.6835992], shape=(1,), dtype=float64)\n"
          ],
          "name": "stdout"
        }
      ]
    },
    {
      "cell_type": "markdown",
      "metadata": {
        "id": "q3frtddX-Bz9",
        "colab_type": "text"
      },
      "source": [
        "Compute the **standard deviation** of a tensor using `tf.math.reduce_std`\n"
      ]
    },
    {
      "cell_type": "code",
      "metadata": {
        "id": "MssaDdnq-JYS",
        "colab_type": "code",
        "outputId": "e0875e81-e248-4d79-8f53-16109170e199",
        "colab": {
          "base_uri": "https://localhost:8080/",
          "height": 51
        }
      },
      "source": [
        "tensor_a = tf.random.uniform(shape=(1, 3), minval=0, maxval=10, dtype=tf.float64)\n",
        "print(tensor_a)\n",
        "\n",
        "tensor_b = tf.math.reduce_std(tensor_a, axis=1)\n",
        "print(tensor_b)"
      ],
      "execution_count": 17,
      "outputs": [
        {
          "output_type": "stream",
          "text": [
            "tf.Tensor([[5.3086428  0.97600044 0.29497175]], shape=(1, 3), dtype=float64)\n",
            "tf.Tensor([2.22042256], shape=(1,), dtype=float64)\n"
          ],
          "name": "stdout"
        }
      ]
    },
    {
      "cell_type": "markdown",
      "metadata": {
        "id": "qfYH7FO3xT9u",
        "colab_type": "text"
      },
      "source": [
        "Compute the **element-wise multiplication** of two tensors using `tf.math.multiply`"
      ]
    },
    {
      "cell_type": "code",
      "metadata": {
        "id": "Ed_BMzaJrmS8",
        "colab_type": "code",
        "outputId": "23d068f5-bb2a-447c-86c1-d6b7fccbb53a",
        "colab": {
          "base_uri": "https://localhost:8080/",
          "height": 68
        }
      },
      "source": [
        "tensor_a = tf.random.uniform(shape=(1, 3), minval=0, maxval=1, dtype=tf.float64)\n",
        "print(tensor_a)\n",
        "\n",
        "tensor_b = tf.random.normal(shape=(1, 3), mean=0, stddev=1, dtype=tf.float64)\n",
        "print(tensor_b)\n",
        "\n",
        "tensor_c = tf.math.multiply(tensor_a, tensor_b)\n",
        "print(tensor_c)"
      ],
      "execution_count": 18,
      "outputs": [
        {
          "output_type": "stream",
          "text": [
            "tf.Tensor([[0.34950163 0.81343061 0.51107586]], shape=(1, 3), dtype=float64)\n",
            "tf.Tensor([[ 0.63808905 -1.85002     1.73337818]], shape=(1, 3), dtype=float64)\n",
            "tf.Tensor([[ 0.22301316 -1.50486291  0.88588775]], shape=(1, 3), dtype=float64)\n"
          ],
          "name": "stdout"
        }
      ]
    },
    {
      "cell_type": "markdown",
      "metadata": {
        "id": "tmdywQBd-ayN",
        "colab_type": "text"
      },
      "source": [
        "Compute the **matrix multiplication** of two tensors using `tf.linalg.matmul`"
      ]
    },
    {
      "cell_type": "code",
      "metadata": {
        "id": "X1NXfEFE-9rY",
        "colab_type": "code",
        "outputId": "be84b8f4-91f9-4ac1-c891-d586b3d96133",
        "colab": {
          "base_uri": "https://localhost:8080/",
          "height": 34
        }
      },
      "source": [
        "tensor_a = tf.random.uniform(shape=(1, 3), minval=0, maxval=10, dtype=tf.float64)\n",
        "tensor_b = tf.random.uniform(shape=(2, 3), minval=0, maxval=10, dtype=tf.float64)\n",
        "tensor_c = tf.linalg.matmul(tensor_a, tensor_b, transpose_b=True)\n",
        "\n",
        "print('shape: ', tensor_a.shape, '*', tensor_b.shape, 'T -->', tensor_c.shape)"
      ],
      "execution_count": 19,
      "outputs": [
        {
          "output_type": "stream",
          "text": [
            "shape:  (1, 3) * (2, 3) T --> (1, 2)\n"
          ],
          "name": "stdout"
        }
      ]
    }
  ]
}