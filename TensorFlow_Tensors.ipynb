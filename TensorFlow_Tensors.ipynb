{
  "nbformat": 4,
  "nbformat_minor": 0,
  "metadata": {
    "colab": {
      "name": "TensorFlow - Tensors.ipynb",
      "provenance": [],
      "collapsed_sections": [],
      "authorship_tag": "ABX9TyMUSAQptZwkcrIYyQmHaf31",
      "include_colab_link": true
    },
    "kernelspec": {
      "name": "python3",
      "display_name": "Python 3"
    }
  },
  "cells": [
    {
      "cell_type": "markdown",
      "metadata": {
        "id": "view-in-github",
        "colab_type": "text"
      },
      "source": [
        "<a href=\"https://colab.research.google.com/github/nicoloceneda/Python-edu/blob/master/TensorFlow_Tensors.ipynb\" target=\"_parent\"><img src=\"https://colab.research.google.com/assets/colab-badge.svg\" alt=\"Open In Colab\"/></a>"
      ]
    },
    {
      "cell_type": "markdown",
      "metadata": {
        "id": "SPuCfBWpT8Qc",
        "colab_type": "text"
      },
      "source": [
        "# TensorFlow - Tensors\n",
        "\n",
        "---"
      ]
    },
    {
      "cell_type": "code",
      "metadata": {
        "id": "AFL_KQDnVYBc",
        "colab_type": "code",
        "colab": {}
      },
      "source": [
        "import numpy as np\n",
        "import tensorflow as tf"
      ],
      "execution_count": 0,
      "outputs": []
    },
    {
      "cell_type": "markdown",
      "metadata": {
        "id": "tx7mKXDnTyB9",
        "colab_type": "text"
      },
      "source": [
        "## Creating tensors \n",
        "Create a tensor from a **list** or a **NumPy array** using `tf.convert_to_tensor`\n",
        "\n",
        "\n"
      ]
    },
    {
      "cell_type": "code",
      "metadata": {
        "id": "S1_YmL0kBC28",
        "colab_type": "code",
        "outputId": "7223329e-f879-48db-ac88-10e1cb211335",
        "colab": {
          "base_uri": "https://localhost:8080/",
          "height": 51
        }
      },
      "source": [
        "a = [1, 2, 3]\n",
        "tensor_a = tf.convert_to_tensor(a, dtype=tf.int64)\n",
        "print(tensor_a)\n",
        "\n",
        "b = np.array([4, 5, 6])\n",
        "tensor_b = tf.convert_to_tensor(b, dtype=tf.int64)\n",
        "print(tensor_b)"
      ],
      "execution_count": 0,
      "outputs": [
        {
          "output_type": "stream",
          "text": [
            "tf.Tensor([1 2 3], shape=(3,), dtype=int64)\n",
            "tf.Tensor([4 5 6], shape=(3,), dtype=int64)\n"
          ],
          "name": "stdout"
        }
      ]
    },
    {
      "cell_type": "markdown",
      "metadata": {
        "id": "AyLI8oEwXO6a",
        "colab_type": "text"
      },
      "source": [
        "Create a tensor of **constant** values using `tf.constant`\n",
        "\n"
      ]
    },
    {
      "cell_type": "code",
      "metadata": {
        "id": "M7WcEdKXYPWJ",
        "colab_type": "code",
        "outputId": "994f2047-d354-41c7-97ab-e36a98073ef1",
        "colab": {
          "base_uri": "https://localhost:8080/",
          "height": 34
        }
      },
      "source": [
        "tensor_a = tf.constant([7, 8.0, 9.2], dtype=tf.float64)\n",
        "print(tensor_a)"
      ],
      "execution_count": 0,
      "outputs": [
        {
          "output_type": "stream",
          "text": [
            "tf.Tensor([7.  8.  9.2], shape=(3,), dtype=float64)\n"
          ],
          "name": "stdout"
        }
      ]
    },
    {
      "cell_type": "markdown",
      "metadata": {
        "id": "xe1JxVvpcnJu",
        "colab_type": "text"
      },
      "source": [
        "Create a tensor of **zeros** using `tf.zeros`"
      ]
    },
    {
      "cell_type": "code",
      "metadata": {
        "id": "8Npc8BL1c7wS",
        "colab_type": "code",
        "outputId": "e7fc7cf8-65ab-429b-f1ec-58cd1f0ce881",
        "colab": {
          "base_uri": "https://localhost:8080/",
          "height": 34
        }
      },
      "source": [
        "tensor_a = tf.zeros(shape=(1, 3), dtype=tf.int64)\n",
        "print(tensor_a)"
      ],
      "execution_count": 0,
      "outputs": [
        {
          "output_type": "stream",
          "text": [
            "tf.Tensor([[0 0 0]], shape=(1, 3), dtype=int64)\n"
          ],
          "name": "stdout"
        }
      ]
    },
    {
      "cell_type": "markdown",
      "metadata": {
        "id": "GrWuey-ldHot",
        "colab_type": "text"
      },
      "source": [
        "Create a tensor of **ones** using `tf.ones`"
      ]
    },
    {
      "cell_type": "code",
      "metadata": {
        "id": "pSY7L_b_dMUE",
        "colab_type": "code",
        "outputId": "dae7e3a5-33b1-43ac-fc79-7df20bf4a02f",
        "colab": {
          "base_uri": "https://localhost:8080/",
          "height": 34
        }
      },
      "source": [
        "tensor_a = tf.ones(shape=(1, 3), dtype=tf.int64)\n",
        "print(tensor_a)"
      ],
      "execution_count": 0,
      "outputs": [
        {
          "output_type": "stream",
          "text": [
            "tf.Tensor([[1 1 1]], shape=(1, 3), dtype=int64)\n"
          ],
          "name": "stdout"
        }
      ]
    },
    {
      "cell_type": "markdown",
      "metadata": {
        "id": "7CfPcoCidYd2",
        "colab_type": "text"
      },
      "source": [
        "Create a tensor of **uniformely distributed random** numbers using `tf.random.uniform`"
      ]
    },
    {
      "cell_type": "code",
      "metadata": {
        "id": "FZGyehnqdkZk",
        "colab_type": "code",
        "outputId": "08e64af0-24bb-4265-b903-494bc03bcfe8",
        "colab": {
          "base_uri": "https://localhost:8080/",
          "height": 34
        }
      },
      "source": [
        "tensor_a = tf.random.uniform(shape=(1, 3), minval=0, maxval=1, dtype=tf.float64)\n",
        "print(tensor_a)"
      ],
      "execution_count": 0,
      "outputs": [
        {
          "output_type": "stream",
          "text": [
            "tf.Tensor([[0.66893056 0.77203925 0.94050977]], shape=(1, 3), dtype=float64)\n"
          ],
          "name": "stdout"
        }
      ]
    },
    {
      "cell_type": "markdown",
      "metadata": {
        "id": "zMPl0yzesGqM",
        "colab_type": "text"
      },
      "source": [
        "Create a tensor of **normally distributed random** numbers using `tf.random.normal`\n"
      ]
    },
    {
      "cell_type": "code",
      "metadata": {
        "id": "OvpXExJyuhWj",
        "colab_type": "code",
        "outputId": "8976c254-d04d-44d2-ed0f-340fe8c50a29",
        "colab": {
          "base_uri": "https://localhost:8080/",
          "height": 34
        }
      },
      "source": [
        "tensor_a = tf.random.normal(shape=(1, 3), mean=0.0, stddev=1.0, dtype=tf.float64)\n",
        "print(tensor_a)"
      ],
      "execution_count": 0,
      "outputs": [
        {
          "output_type": "stream",
          "text": [
            "tf.Tensor([[-1.02001261 -1.50807849  0.30072968]], shape=(1, 3), dtype=float64)\n"
          ],
          "name": "stdout"
        }
      ]
    },
    {
      "cell_type": "markdown",
      "metadata": {
        "id": "deX5q4Hr0GR2",
        "colab_type": "text"
      },
      "source": [
        "## Accessing the values of a tensor\n",
        "Access the **values** of a tensor using `.numpy()`"
      ]
    },
    {
      "cell_type": "code",
      "metadata": {
        "id": "OV2mH11j0XKx",
        "colab_type": "code",
        "outputId": "9d14490c-a0b8-4780-b48b-358b0810d6bd",
        "colab": {
          "base_uri": "https://localhost:8080/",
          "height": 34
        }
      },
      "source": [
        "tensor_a = tf.constant([1, 2, 3], dtype=tf.int64)\n",
        "print(tensor_a.numpy())"
      ],
      "execution_count": 0,
      "outputs": [
        {
          "output_type": "stream",
          "text": [
            "[1 2 3]\n"
          ],
          "name": "stdout"
        }
      ]
    },
    {
      "cell_type": "markdown",
      "metadata": {
        "id": "9dAwTtd2ZAzh",
        "colab_type": "text"
      },
      "source": [
        "## Manipulating the data type of a tensor\n",
        "Change the **data type** of a tensor using `tf.cast`"
      ]
    },
    {
      "cell_type": "code",
      "metadata": {
        "id": "2sVs7VxZZ_ui",
        "colab_type": "code",
        "outputId": "3aba9e5f-ff3b-43f8-fb3a-036008f2b7fa",
        "colab": {
          "base_uri": "https://localhost:8080/",
          "height": 51
        }
      },
      "source": [
        "tensor_a1 = tf.constant([1, 2, 3], dtype=tf.int64)\n",
        "print(tensor_a1)\n",
        "\n",
        "tensor_a2 = tf.cast(tensor_a1, dtype=tf.float64)\n",
        "print(tensor_a2)"
      ],
      "execution_count": 0,
      "outputs": [
        {
          "output_type": "stream",
          "text": [
            "tf.Tensor([1 2 3], shape=(3,), dtype=int64)\n",
            "tf.Tensor([1. 2. 3.], shape=(3,), dtype=float64)\n"
          ],
          "name": "stdout"
        }
      ]
    },
    {
      "cell_type": "markdown",
      "metadata": {
        "id": "2mfklz9NBlnz",
        "colab_type": "text"
      },
      "source": [
        "## Manipulating the shape of a tensor\n",
        "**Transpose** a tensor using `tf.transpose`"
      ]
    },
    {
      "cell_type": "code",
      "metadata": {
        "id": "qzddVGTxa_20",
        "colab_type": "code",
        "outputId": "6c888ec6-afb5-4a75-ca15-db2e3dbb196f",
        "colab": {
          "base_uri": "https://localhost:8080/",
          "height": 34
        }
      },
      "source": [
        "tensor_a1 = tf.random.uniform(shape=(1, 3), dtype=tf.float64)\n",
        "tensor_a2 = tf.transpose(tensor_a1)\n",
        "\n",
        "print('shape: ', tensor_a1.shape, '-->', tensor_a2.shape)"
      ],
      "execution_count": 0,
      "outputs": [
        {
          "output_type": "stream",
          "text": [
            "shape:  (1, 3) --> (3, 1)\n"
          ],
          "name": "stdout"
        }
      ]
    },
    {
      "cell_type": "markdown",
      "metadata": {
        "id": "lsgr5qOlcLr0",
        "colab_type": "text"
      },
      "source": [
        "**Reshape** a tensor using `tf.reshape`"
      ]
    },
    {
      "cell_type": "code",
      "metadata": {
        "id": "5wNCsxvhcXIX",
        "colab_type": "code",
        "outputId": "f4e07463-9786-4046-9b40-bdcb514fe699",
        "colab": {
          "base_uri": "https://localhost:8080/",
          "height": 34
        }
      },
      "source": [
        "tensor_a1 = tf.random.uniform(shape=(2, 3), dtype=tf.float64)\n",
        "tensor_a2 = tf.reshape(tensor_a1, shape=(1, 6))\n",
        "\n",
        "print('shape: ', tensor_a1.shape, '-->', tensor_a2.shape)"
      ],
      "execution_count": 0,
      "outputs": [
        {
          "output_type": "stream",
          "text": [
            "shape:  (2, 3) --> (1, 6)\n"
          ],
          "name": "stdout"
        }
      ]
    },
    {
      "cell_type": "markdown",
      "metadata": {
        "id": "mOCmsyCXPokR",
        "colab_type": "text"
      },
      "source": [
        "**Split** a tensor into a list of equally sized tensors using `tf.split`"
      ]
    },
    {
      "cell_type": "code",
      "metadata": {
        "id": "nNWfuYJpP4Pc",
        "colab_type": "code",
        "outputId": "2ba37ed7-cac5-4b2d-b07f-ab150c35cd90",
        "colab": {
          "base_uri": "https://localhost:8080/",
          "height": 51
        }
      },
      "source": [
        "# Providing the number of splits (total size of input tensor must be divisible by desired number of splits):\n",
        "tensor_a = tf.random.uniform(shape=(6, ), minval=0, maxval=10, dtype=tf.int64)\n",
        "print(tensor_a)\n",
        "\n",
        "split_list_a = tf.split(tensor_a, num_or_size_splits=3)\n",
        "print([item.numpy() for item in split_list_a])"
      ],
      "execution_count": 0,
      "outputs": [
        {
          "output_type": "stream",
          "text": [
            "tf.Tensor([0 3 6 6 6 0], shape=(6,), dtype=int64)\n",
            "[array([0, 3]), array([6, 6]), array([6, 0])]\n"
          ],
          "name": "stdout"
        }
      ]
    },
    {
      "cell_type": "code",
      "metadata": {
        "id": "ts_Pf4UPRb82",
        "colab_type": "code",
        "outputId": "e6517f0a-e719-4e3c-c559-4c95d0d33ba4",
        "colab": {
          "base_uri": "https://localhost:8080/",
          "height": 51
        }
      },
      "source": [
        "# Providing the sizes of different splits:\n",
        "tensor_a = tf.random.uniform(shape=(6, ), minval=0, maxval=10, dtype=tf.int64)\n",
        "print(tensor_a)\n",
        "\n",
        "split_list_a = tf.split(tensor_a, num_or_size_splits=[3, 2, 1])\n",
        "print([item.numpy() for item in split_list_a])"
      ],
      "execution_count": 0,
      "outputs": [
        {
          "output_type": "stream",
          "text": [
            "tf.Tensor([2 2 4 2 4 2], shape=(6,), dtype=int64)\n",
            "[array([2, 2, 4]), array([2, 4]), array([2])]\n"
          ],
          "name": "stdout"
        }
      ]
    },
    {
      "cell_type": "markdown",
      "metadata": {
        "id": "ysARI2LaRwLm",
        "colab_type": "text"
      },
      "source": [
        "**Concatenate** tensors into a single tensor using `tf.concat`"
      ]
    },
    {
      "cell_type": "code",
      "metadata": {
        "id": "-VKs_n-4aHtW",
        "colab_type": "code",
        "outputId": "c106657f-f6ce-431d-d0e1-8a731e4b2464",
        "colab": {
          "base_uri": "https://localhost:8080/",
          "height": 68
        }
      },
      "source": [
        "tensor_a = tf.random.uniform(shape=(3, ), minval=0, maxval=10, dtype=tf.int64)\n",
        "print(tensor_a)\n",
        "\n",
        "tensor_b = tf.random.uniform(shape=(3, ), minval=0, maxval=10, dtype=tf.int64)\n",
        "print(tensor_b)\n",
        "\n",
        "tensor_c = tf.concat([tensor_a, tensor_b], axis=0)\n",
        "print(tensor_c)"
      ],
      "execution_count": 0,
      "outputs": [
        {
          "output_type": "stream",
          "text": [
            "tf.Tensor([5 6 9], shape=(3,), dtype=int64)\n",
            "tf.Tensor([4 2 2], shape=(3,), dtype=int64)\n",
            "tf.Tensor([5 6 9 4 2 2], shape=(6,), dtype=int64)\n"
          ],
          "name": "stdout"
        }
      ]
    },
    {
      "cell_type": "markdown",
      "metadata": {
        "id": "1jPPUSsOeFA3",
        "colab_type": "text"
      },
      "source": [
        "**Stack** tensors into a single tensor using `tf.stack`"
      ]
    },
    {
      "cell_type": "code",
      "metadata": {
        "id": "E9Pxa5t2eIm8",
        "colab_type": "code",
        "outputId": "57980e83-f598-4268-fa81-391d5fbf9ffd",
        "colab": {
          "base_uri": "https://localhost:8080/",
          "height": 85
        }
      },
      "source": [
        "tensor_a = tf.random.uniform(shape=(3, ), minval=0, maxval=10, dtype=tf.int64)\n",
        "print(tensor_a)\n",
        "\n",
        "tensor_b = tf.random.uniform(shape=(3, ), minval=0, maxval=10, dtype=tf.int64)\n",
        "print(tensor_b)\n",
        "\n",
        "tensor_c = tf.stack([tensor_a, tensor_b], axis=0)\n",
        "print(tensor_c.numpy())"
      ],
      "execution_count": 0,
      "outputs": [
        {
          "output_type": "stream",
          "text": [
            "tf.Tensor([0 9 3], shape=(3,), dtype=int64)\n",
            "tf.Tensor([4 4 7], shape=(3,), dtype=int64)\n",
            "[[0 9 3]\n",
            " [4 4 7]]\n"
          ],
          "name": "stdout"
        }
      ]
    },
    {
      "cell_type": "markdown",
      "metadata": {
        "id": "GAXIN_6erDnk",
        "colab_type": "text"
      },
      "source": [
        "## Applying mathematical operations to tensors\n",
        "Compute the **sum** of a tensor using `tf.math.reduce_sum`\n",
        "\n"
      ]
    },
    {
      "cell_type": "code",
      "metadata": {
        "id": "gJBj7mf08dp2",
        "colab_type": "code",
        "outputId": "ca9d7c28-3ac7-4129-cde9-f936aa71e931",
        "colab": {
          "base_uri": "https://localhost:8080/",
          "height": 51
        }
      },
      "source": [
        "tensor_a = tf.random.uniform(shape=(1, 3), minval=0, maxval=10, dtype=tf.float64)\n",
        "print(tensor_a)\n",
        "\n",
        "tensor_b = tf.math.reduce_sum(tensor_a, axis=1)\n",
        "print(tensor_b)"
      ],
      "execution_count": 0,
      "outputs": [
        {
          "output_type": "stream",
          "text": [
            "tf.Tensor([[0.01748004 6.64492956 6.0802755 ]], shape=(1, 3), dtype=float64)\n",
            "tf.Tensor([12.74268511], shape=(1,), dtype=float64)\n"
          ],
          "name": "stdout"
        }
      ]
    },
    {
      "cell_type": "markdown",
      "metadata": {
        "id": "fgGeiuDu8Qm7",
        "colab_type": "text"
      },
      "source": [
        "Compute the **mean** of a tensor using `tf.math.reduce_mean`\n"
      ]
    },
    {
      "cell_type": "code",
      "metadata": {
        "id": "6SMZoPtnxprs",
        "colab_type": "code",
        "outputId": "c31cc390-8372-4b54-ffa7-b4c963696bb3",
        "colab": {
          "base_uri": "https://localhost:8080/",
          "height": 51
        }
      },
      "source": [
        "tensor_a = tf.random.uniform(shape=(1, 3), minval=0, maxval=10, dtype=tf.float64)\n",
        "print(tensor_a)\n",
        "\n",
        "tensor_b = tf.math.reduce_mean(tensor_a, axis=1)\n",
        "print(tensor_b)"
      ],
      "execution_count": 0,
      "outputs": [
        {
          "output_type": "stream",
          "text": [
            "tf.Tensor([[1.86817245 5.33480499 8.99062376]], shape=(1, 3), dtype=float64)\n",
            "tf.Tensor([5.39786707], shape=(1,), dtype=float64)\n"
          ],
          "name": "stdout"
        }
      ]
    },
    {
      "cell_type": "markdown",
      "metadata": {
        "id": "q3frtddX-Bz9",
        "colab_type": "text"
      },
      "source": [
        "Compute the **standard deviation** of a tensor using `tf.math.reduce_std`\n"
      ]
    },
    {
      "cell_type": "code",
      "metadata": {
        "id": "MssaDdnq-JYS",
        "colab_type": "code",
        "outputId": "9ac515c1-a89f-4374-c012-fa2f1bdd36af",
        "colab": {
          "base_uri": "https://localhost:8080/",
          "height": 51
        }
      },
      "source": [
        "tensor_a = tf.random.uniform(shape=(1, 3), minval=0, maxval=10, dtype=tf.float64)\n",
        "print(tensor_a)\n",
        "\n",
        "tensor_b = tf.math.reduce_std(tensor_a, axis=1)\n",
        "print(tensor_b)"
      ],
      "execution_count": 0,
      "outputs": [
        {
          "output_type": "stream",
          "text": [
            "tf.Tensor([[9.97761395 5.44337844 5.20821818]], shape=(1, 3), dtype=float64)\n",
            "tf.Tensor([2.19498742], shape=(1,), dtype=float64)\n"
          ],
          "name": "stdout"
        }
      ]
    },
    {
      "cell_type": "markdown",
      "metadata": {
        "id": "qfYH7FO3xT9u",
        "colab_type": "text"
      },
      "source": [
        "Compute the **element-wise multiplication** of two tensors using `tf.math.multiply`"
      ]
    },
    {
      "cell_type": "code",
      "metadata": {
        "id": "Ed_BMzaJrmS8",
        "colab_type": "code",
        "outputId": "45429752-0940-4f2a-ac57-439959c82700",
        "colab": {
          "base_uri": "https://localhost:8080/",
          "height": 68
        }
      },
      "source": [
        "tensor_a = tf.random.uniform(shape=(1, 3), minval=0, maxval=1, dtype=tf.float64)\n",
        "print(tensor_a)\n",
        "\n",
        "tensor_b = tf.random.normal(shape=(1, 3), mean=0, stddev=1, dtype=tf.float64)\n",
        "print(tensor_b)\n",
        "\n",
        "tensor_c = tf.math.multiply(tensor_a, tensor_b)\n",
        "print(tensor_c)"
      ],
      "execution_count": 0,
      "outputs": [
        {
          "output_type": "stream",
          "text": [
            "tf.Tensor([[0.89413652 0.99829395 0.85345668]], shape=(1, 3), dtype=float64)\n",
            "tf.Tensor([[0.61105912 2.12224546 1.18783965]], shape=(1, 3), dtype=float64)\n",
            "tf.Tensor([[0.54637028 2.1186248  1.01376969]], shape=(1, 3), dtype=float64)\n"
          ],
          "name": "stdout"
        }
      ]
    },
    {
      "cell_type": "markdown",
      "metadata": {
        "id": "tmdywQBd-ayN",
        "colab_type": "text"
      },
      "source": [
        "Compute the **matrix multiplication** of two tensors using `tf.linalg.matmul`"
      ]
    },
    {
      "cell_type": "code",
      "metadata": {
        "id": "X1NXfEFE-9rY",
        "colab_type": "code",
        "outputId": "c8983a6b-80fe-4215-e105-437e8844892d",
        "colab": {
          "base_uri": "https://localhost:8080/",
          "height": 34
        }
      },
      "source": [
        "tensor_a = tf.random.uniform(shape=(1, 3), minval=0, maxval=10, dtype=tf.float64)\n",
        "tensor_b = tf.random.uniform(shape=(2, 3), minval=0, maxval=10, dtype=tf.float64)\n",
        "tensor_c = tf.linalg.matmul(tensor_a, tensor_b, transpose_b=True)\n",
        "\n",
        "print('shape: ', tensor_a.shape, '*', tensor_b.shape, 'T -->', tensor_c.shape)"
      ],
      "execution_count": 0,
      "outputs": [
        {
          "output_type": "stream",
          "text": [
            "shape:  (1, 3) * (2, 3) T --> (1, 2)\n"
          ],
          "name": "stdout"
        }
      ]
    }
  ]
}