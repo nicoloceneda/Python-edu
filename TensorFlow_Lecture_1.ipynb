{
  "nbformat": 4,
  "nbformat_minor": 0,
  "metadata": {
    "colab": {
      "name": "TensorFlow - Lecture 1.ipynb",
      "provenance": [],
      "authorship_tag": "ABX9TyNihWcZSC3U1LU+yLf/1e1r",
      "include_colab_link": true
    },
    "kernelspec": {
      "name": "python3",
      "display_name": "Python 3"
    }
  },
  "cells": [
    {
      "cell_type": "markdown",
      "metadata": {
        "id": "view-in-github",
        "colab_type": "text"
      },
      "source": [
        "<a href=\"https://colab.research.google.com/github/nicoloceneda/Python-edu/blob/master/TensorFlow_Lecture_1.ipynb\" target=\"_parent\"><img src=\"https://colab.research.google.com/assets/colab-badge.svg\" alt=\"Open In Colab\"/></a>"
      ]
    },
    {
      "cell_type": "markdown",
      "metadata": {
        "id": "SPuCfBWpT8Qc",
        "colab_type": "text"
      },
      "source": [
        "# TensorFlow - Lecture 1\n",
        "\n",
        "---"
      ]
    },
    {
      "cell_type": "code",
      "metadata": {
        "id": "AFL_KQDnVYBc",
        "colab_type": "code",
        "colab": {}
      },
      "source": [
        "import tensorflow as tf\n",
        "import numpy as np"
      ],
      "execution_count": 0,
      "outputs": []
    },
    {
      "cell_type": "markdown",
      "metadata": {
        "id": "tx7mKXDnTyB9",
        "colab_type": "text"
      },
      "source": [
        "## Creating tensors in TensorFlow\n",
        "Create a tensor from a **list** or a **NumPy array** using `tf.convert_to_tensor`\n",
        "\n",
        "\n"
      ]
    },
    {
      "cell_type": "code",
      "metadata": {
        "id": "S1_YmL0kBC28",
        "colab_type": "code",
        "colab": {
          "base_uri": "https://localhost:8080/",
          "height": 51
        },
        "outputId": "7d6c735c-5c11-4ca8-95d3-f928be92abfc"
      },
      "source": [
        "a = np.array([1, 2, 3])\n",
        "tensor_a = tf.convert_to_tensor(a, dtype=tf.int64)\n",
        "print(tensor_a)\n",
        "\n",
        "b = [4, 5, 6]\n",
        "tensor_b = tf.convert_to_tensor(b, dtype=tf.int64)\n",
        "print(tensor_b)"
      ],
      "execution_count": 4,
      "outputs": [
        {
          "output_type": "stream",
          "text": [
            "tf.Tensor([1 2 3], shape=(3,), dtype=int64)\n",
            "tf.Tensor([4 5 6], shape=(3,), dtype=int64)\n"
          ],
          "name": "stdout"
        }
      ]
    },
    {
      "cell_type": "markdown",
      "metadata": {
        "id": "AyLI8oEwXO6a",
        "colab_type": "text"
      },
      "source": [
        "Create a tensor of **constant** values using `tf.constant`\n",
        "\n"
      ]
    },
    {
      "cell_type": "code",
      "metadata": {
        "id": "M7WcEdKXYPWJ",
        "colab_type": "code",
        "colab": {
          "base_uri": "https://localhost:8080/",
          "height": 34
        },
        "outputId": "bc8104d9-80f4-4147-9ae2-654b096861e1"
      },
      "source": [
        "tensor_a = tf.constant([7, 8.0, 9.2], dtype=tf.float64)\n",
        "print(tensor_a)"
      ],
      "execution_count": 11,
      "outputs": [
        {
          "output_type": "stream",
          "text": [
            "tf.Tensor([7.  8.  9.2], shape=(3,), dtype=float32)\n"
          ],
          "name": "stdout"
        }
      ]
    },
    {
      "cell_type": "markdown",
      "metadata": {
        "id": "xe1JxVvpcnJu",
        "colab_type": "text"
      },
      "source": [
        "Create a tensor of **zeros** using `tf.zeros`"
      ]
    },
    {
      "cell_type": "code",
      "metadata": {
        "id": "8Npc8BL1c7wS",
        "colab_type": "code",
        "colab": {
          "base_uri": "https://localhost:8080/",
          "height": 34
        },
        "outputId": "2ac7a647-4548-43e4-c372-22fca932c341"
      },
      "source": [
        "tensor_a = tf.zeros(shape=(1, 3), dtype=tf.int64)\n",
        "print(tensor_a)"
      ],
      "execution_count": 5,
      "outputs": [
        {
          "output_type": "stream",
          "text": [
            "tf.Tensor([[0 0 0]], shape=(1, 3), dtype=int64)\n"
          ],
          "name": "stdout"
        }
      ]
    },
    {
      "cell_type": "markdown",
      "metadata": {
        "id": "GrWuey-ldHot",
        "colab_type": "text"
      },
      "source": [
        "Create a tensor of **ones** using `tf.ones`"
      ]
    },
    {
      "cell_type": "code",
      "metadata": {
        "id": "pSY7L_b_dMUE",
        "colab_type": "code",
        "colab": {
          "base_uri": "https://localhost:8080/",
          "height": 34
        },
        "outputId": "4b05c27f-1955-440a-91ff-c6ac33669726"
      },
      "source": [
        "tensor_a = tf.ones(shape=(1, 3), dtype=tf.int64)\n",
        "print(tensor_a)"
      ],
      "execution_count": 6,
      "outputs": [
        {
          "output_type": "stream",
          "text": [
            "tf.Tensor([[1 1 1]], shape=(1, 3), dtype=int64)\n"
          ],
          "name": "stdout"
        }
      ]
    },
    {
      "cell_type": "markdown",
      "metadata": {
        "id": "7CfPcoCidYd2",
        "colab_type": "text"
      },
      "source": [
        "Create a tensor of **uniformely distributed random** numbers using `tf.random.uniform`"
      ]
    },
    {
      "cell_type": "code",
      "metadata": {
        "id": "FZGyehnqdkZk",
        "colab_type": "code",
        "colab": {
          "base_uri": "https://localhost:8080/",
          "height": 34
        },
        "outputId": "3c90ac0a-9913-48af-ac4e-483765c81c09"
      },
      "source": [
        "tensor_a = tf.random.uniform(shape=(1, 3), minval=0, maxval=1, dtype=tf.float64)\n",
        "print(tensor_a)"
      ],
      "execution_count": 7,
      "outputs": [
        {
          "output_type": "stream",
          "text": [
            "tf.Tensor([[0.31970768 0.99649285 0.22710497]], shape=(1, 3), dtype=float64)\n"
          ],
          "name": "stdout"
        }
      ]
    },
    {
      "cell_type": "markdown",
      "metadata": {
        "id": "zMPl0yzesGqM",
        "colab_type": "text"
      },
      "source": [
        "Create a tensor of **normally distributed random** numbers using `tf.random.normal`\n"
      ]
    },
    {
      "cell_type": "code",
      "metadata": {
        "id": "OvpXExJyuhWj",
        "colab_type": "code",
        "colab": {
          "base_uri": "https://localhost:8080/",
          "height": 34
        },
        "outputId": "72a075d8-29e3-449a-cfcd-552e507804af"
      },
      "source": [
        "tensor_a = tf.random.normal(shape=(1, 3), mean=0.0, stddev=1.0, dtype=tf.float64)\n",
        "print(tensor_a)"
      ],
      "execution_count": 18,
      "outputs": [
        {
          "output_type": "stream",
          "text": [
            "tf.Tensor([[ 0.26917379 -0.90726644  1.20336746]], shape=(1, 3), dtype=float64)\n"
          ],
          "name": "stdout"
        }
      ]
    },
    {
      "cell_type": "markdown",
      "metadata": {
        "id": "9dAwTtd2ZAzh",
        "colab_type": "text"
      },
      "source": [
        "## Manipulating the data type of a tensor\n",
        "Access the **values** of a tensor using `.numpy()`\n"
      ]
    },
    {
      "cell_type": "code",
      "metadata": {
        "id": "OV2mH11j0XKx",
        "colab_type": "code",
        "colab": {
          "base_uri": "https://localhost:8080/",
          "height": 34
        },
        "outputId": "8ea749b0-cb46-4e6e-979a-19c39d8a14f9"
      },
      "source": [
        "tensor_a = tf.constant([1, 2, 3], dtype=tf.int64)\n",
        "print(tensor_a.numpy())"
      ],
      "execution_count": 34,
      "outputs": [
        {
          "output_type": "stream",
          "text": [
            "[1 2 3]\n"
          ],
          "name": "stdout"
        }
      ]
    },
    {
      "cell_type": "markdown",
      "metadata": {
        "id": "deX5q4Hr0GR2",
        "colab_type": "text"
      },
      "source": [
        "Change the **data type** of a tensor using `tf.cast`"
      ]
    },
    {
      "cell_type": "code",
      "metadata": {
        "id": "2sVs7VxZZ_ui",
        "colab_type": "code",
        "colab": {
          "base_uri": "https://localhost:8080/",
          "height": 51
        },
        "outputId": "668b610f-5496-4f9f-a42b-418a099e83ca"
      },
      "source": [
        "tensor_a1 = tf.constant([1, 2, 3], dtype=tf.int64)\n",
        "print(tensor_a1)\n",
        "\n",
        "tensor_a2 = tf.cast(tensor_a1, dtype=tf.float64)\n",
        "print(tensor_a2)"
      ],
      "execution_count": 8,
      "outputs": [
        {
          "output_type": "stream",
          "text": [
            "tf.Tensor([1 2 3], shape=(3,), dtype=int64)\n",
            "tf.Tensor([1. 2. 3.], shape=(3,), dtype=float64)\n"
          ],
          "name": "stdout"
        }
      ]
    },
    {
      "cell_type": "markdown",
      "metadata": {
        "id": "2mfklz9NBlnz",
        "colab_type": "text"
      },
      "source": [
        "## Manipulating the shape of a tensor\n",
        "**Transpose** a tensor using `tf.transpose`"
      ]
    },
    {
      "cell_type": "code",
      "metadata": {
        "id": "qzddVGTxa_20",
        "colab_type": "code",
        "colab": {
          "base_uri": "https://localhost:8080/",
          "height": 34
        },
        "outputId": "4e395f16-25af-477b-fbf2-d454fa6b480b"
      },
      "source": [
        "tensor_a1 = tf.random.uniform(shape=(1, 3), dtype=tf.float64)\n",
        "tensor_a2 = tf.transpose(tensor_a1)\n",
        "\n",
        "print('shape: ', tensor_a1.shape, '-->', tensor_a2.shape)"
      ],
      "execution_count": 10,
      "outputs": [
        {
          "output_type": "stream",
          "text": [
            "shape:  (1, 3) --> (3, 1)\n"
          ],
          "name": "stdout"
        }
      ]
    },
    {
      "cell_type": "markdown",
      "metadata": {
        "id": "lsgr5qOlcLr0",
        "colab_type": "text"
      },
      "source": [
        "**Reshape** a tensor using `tf.reshape`"
      ]
    },
    {
      "cell_type": "code",
      "metadata": {
        "id": "5wNCsxvhcXIX",
        "colab_type": "code",
        "colab": {
          "base_uri": "https://localhost:8080/",
          "height": 34
        },
        "outputId": "5d370f51-c5a2-426c-e74f-2138e769a771"
      },
      "source": [
        "tensor_a1 = tf.random.uniform(shape=(2, 3), dtype=tf.float64)\n",
        "tensor_a2 = tf.reshape(tensor_a1, shape=(1, 6))\n",
        "\n",
        "print('shape: ', tensor_a1.shape, '-->', tensor_a2.shape)"
      ],
      "execution_count": 11,
      "outputs": [
        {
          "output_type": "stream",
          "text": [
            "shape:  (2, 3) --> (1, 6)\n"
          ],
          "name": "stdout"
        }
      ]
    },
    {
      "cell_type": "markdown",
      "metadata": {
        "id": "mOCmsyCXPokR",
        "colab_type": "text"
      },
      "source": [
        "**Split** a tensor into a list of equally sized tensors using `tf.split`"
      ]
    },
    {
      "cell_type": "code",
      "metadata": {
        "id": "nNWfuYJpP4Pc",
        "colab_type": "code",
        "colab": {
          "base_uri": "https://localhost:8080/",
          "height": 51
        },
        "outputId": "71bef81e-2119-4d71-bfba-23c965ed0c0f"
      },
      "source": [
        "# Providing the number of splits (total size of input tensor must be divisible by desired number of splits):\n",
        "tensor_a = tf.random.uniform(shape=(6, ), minval=0, maxval=10, dtype=tf.int64)\n",
        "print(tensor_a)\n",
        "\n",
        "split_list_a = tf.split(tensor_a, num_or_size_splits=3)\n",
        "print([item.numpy() for item in split_list_a])"
      ],
      "execution_count": 56,
      "outputs": [
        {
          "output_type": "stream",
          "text": [
            "tf.Tensor([4 8 2 7 6 6], shape=(6,), dtype=int64)\n",
            "[array([4, 8]), array([2, 7]), array([6, 6])]\n"
          ],
          "name": "stdout"
        }
      ]
    },
    {
      "cell_type": "code",
      "metadata": {
        "id": "ts_Pf4UPRb82",
        "colab_type": "code",
        "colab": {
          "base_uri": "https://localhost:8080/",
          "height": 51
        },
        "outputId": "b60a45b8-6432-43c8-83a6-6592da0f5ddc"
      },
      "source": [
        "# Providing the sizes of different splits:\n",
        "tensor_a = tf.random.uniform(shape=(6, ), minval=0, maxval=10, dtype=tf.int64)\n",
        "print(tensor_a)\n",
        "\n",
        "split_list_a = tf.split(tensor_a, num_or_size_splits=[3, 2, 1])\n",
        "print([item.numpy() for item in split_list_a])"
      ],
      "execution_count": 57,
      "outputs": [
        {
          "output_type": "stream",
          "text": [
            "tf.Tensor([9 4 7 0 5 9], shape=(6,), dtype=int64)\n",
            "[array([9, 4, 7]), array([0, 5]), array([9])]\n"
          ],
          "name": "stdout"
        }
      ]
    },
    {
      "cell_type": "markdown",
      "metadata": {
        "id": "ysARI2LaRwLm",
        "colab_type": "text"
      },
      "source": [
        "**Concatenate** tensors into a single tensor using `tf.concat`"
      ]
    },
    {
      "cell_type": "markdown",
      "metadata": {
        "id": "GAXIN_6erDnk",
        "colab_type": "text"
      },
      "source": [
        "## Applying mathematical operations to tensors\n",
        "Compute the **sum** of a tensor using `tf.math.reduce_sum`\n",
        "\n"
      ]
    },
    {
      "cell_type": "code",
      "metadata": {
        "id": "gJBj7mf08dp2",
        "colab_type": "code",
        "colab": {
          "base_uri": "https://localhost:8080/",
          "height": 51
        },
        "outputId": "9f69fee7-b5e5-48be-f985-0cfdd1bd8045"
      },
      "source": [
        "tensor_a = tf.random.uniform(shape=(1, 3), minval=0, maxval=10, dtype=tf.float64)\n",
        "print(tensor_a)\n",
        "\n",
        "tensor_b = tf.math.reduce_sum(tensor_a, axis=1)\n",
        "print(tensor_b)"
      ],
      "execution_count": 43,
      "outputs": [
        {
          "output_type": "stream",
          "text": [
            "tf.Tensor([[7.7656752  0.16526041 4.11957462]], shape=(1, 3), dtype=float64)\n",
            "tf.Tensor([12.05051023], shape=(1,), dtype=float64)\n"
          ],
          "name": "stdout"
        }
      ]
    },
    {
      "cell_type": "markdown",
      "metadata": {
        "id": "fgGeiuDu8Qm7",
        "colab_type": "text"
      },
      "source": [
        "Compute the **mean** of a tensor using `tf.math.reduce_mean`\n"
      ]
    },
    {
      "cell_type": "code",
      "metadata": {
        "id": "6SMZoPtnxprs",
        "colab_type": "code",
        "colab": {
          "base_uri": "https://localhost:8080/",
          "height": 51
        },
        "outputId": "9b5653cb-8703-4fbe-8991-5decaab2a54a"
      },
      "source": [
        "tensor_a = tf.random.uniform(shape=(1, 3), minval=0, maxval=10, dtype=tf.float64)\n",
        "print(tensor_a)\n",
        "\n",
        "tensor_b = tf.math.reduce_mean(tensor_a, axis=1)\n",
        "print(tensor_b)"
      ],
      "execution_count": 44,
      "outputs": [
        {
          "output_type": "stream",
          "text": [
            "tf.Tensor([[6.99630366 7.9460793  5.65466944]], shape=(1, 3), dtype=float64)\n",
            "tf.Tensor([6.86568413], shape=(1,), dtype=float64)\n"
          ],
          "name": "stdout"
        }
      ]
    },
    {
      "cell_type": "markdown",
      "metadata": {
        "id": "q3frtddX-Bz9",
        "colab_type": "text"
      },
      "source": [
        "Compute the **standard deviation** of a tensor using `tf.math.reduce_std`\n"
      ]
    },
    {
      "cell_type": "code",
      "metadata": {
        "id": "MssaDdnq-JYS",
        "colab_type": "code",
        "colab": {
          "base_uri": "https://localhost:8080/",
          "height": 51
        },
        "outputId": "83fa38b4-6277-4828-acc5-f852c9ad2021"
      },
      "source": [
        "tensor_a = tf.random.uniform(shape=(1, 3), minval=0, maxval=10, dtype=tf.float64)\n",
        "print(tensor_a)\n",
        "\n",
        "tensor_b = tf.math.reduce_std(tensor_a, axis=1)\n",
        "print(tensor_b)"
      ],
      "execution_count": 45,
      "outputs": [
        {
          "output_type": "stream",
          "text": [
            "tf.Tensor([[1.90947003 5.76009417 7.5878665 ]], shape=(1, 3), dtype=float64)\n",
            "tf.Tensor([2.36671935], shape=(1,), dtype=float64)\n"
          ],
          "name": "stdout"
        }
      ]
    },
    {
      "cell_type": "markdown",
      "metadata": {
        "id": "qfYH7FO3xT9u",
        "colab_type": "text"
      },
      "source": [
        "Compute the **element-wise multiplication** of two tensors using `tf.multiply`"
      ]
    },
    {
      "cell_type": "code",
      "metadata": {
        "id": "Ed_BMzaJrmS8",
        "colab_type": "code",
        "colab": {
          "base_uri": "https://localhost:8080/",
          "height": 34
        },
        "outputId": "1ee0049e-e5dd-47c0-9e48-66a1b05e5c7a"
      },
      "source": [
        "tensor_a = tf.random.uniform(shape=(1, 3), minval=0, maxval=1, dtype=tf.float64)\n",
        "print(tensor_a)\n",
        "\n",
        "tensor_b = tf.random.normal(shape=(1, 3), mean=0, stddev=1, dtype=tf.float64)\n",
        "print(tensor_b)\n",
        "\n",
        "tensor_c = tf.multiply(tensor_a, tensor_b)\n",
        "print(tensor_c)"
      ],
      "execution_count": 20,
      "outputs": [
        {
          "output_type": "stream",
          "text": [
            "tf.Tensor([[1.13994721 0.70768967 0.12669257]], shape=(1, 3), dtype=float64)\n"
          ],
          "name": "stdout"
        }
      ]
    },
    {
      "cell_type": "markdown",
      "metadata": {
        "id": "tmdywQBd-ayN",
        "colab_type": "text"
      },
      "source": [
        "Compute the **matrix multiplication** of two tensors using `tf.linalg.matmul`"
      ]
    },
    {
      "cell_type": "code",
      "metadata": {
        "id": "X1NXfEFE-9rY",
        "colab_type": "code",
        "colab": {
          "base_uri": "https://localhost:8080/",
          "height": 34
        },
        "outputId": "3bcea34c-ef6c-41e0-b278-e29f2bc82c3a"
      },
      "source": [
        "tensor_a = tf.random.uniform(shape=(1, 3), minval=0, maxval=10, dtype=tf.float64)\n",
        "tensor_b = tf.random.uniform(shape=(2, 3), minval=0, maxval=10, dtype=tf.float64)\n",
        "tensor_c = tf.linalg.matmul(tensor_a, tensor_b, transpose_b=True)\n",
        "\n",
        "print('shape: ', tensor_a.shape, '*', tensor_b.shape, 'T -->', tensor_c.shape)"
      ],
      "execution_count": 51,
      "outputs": [
        {
          "output_type": "stream",
          "text": [
            "shape:  (1, 3) * (2, 3) T --> (1, 2)\n"
          ],
          "name": "stdout"
        }
      ]
    }
  ]
}