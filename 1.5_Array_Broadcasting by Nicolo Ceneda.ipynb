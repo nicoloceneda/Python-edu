{
 "cells": [
  {
   "cell_type": "markdown",
   "metadata": {},
   "source": [
    "## Import Numpy"
   ]
  },
  {
   "cell_type": "markdown",
   "metadata": {},
   "source": [
    "Import `NumPy` with the alias `np`."
   ]
  },
  {
   "cell_type": "code",
   "execution_count": 1,
   "metadata": {},
   "outputs": [],
   "source": [
    "import numpy as np"
   ]
  },
  {
   "cell_type": "markdown",
   "metadata": {},
   "source": [
    "# Broadcasting"
   ]
  },
  {
   "cell_type": "markdown",
   "metadata": {},
   "source": [
    "Broadcasting describes the way `NumPy` handles arrays with different shapes during arithmetic operations. Subject to some constraints, the smaller array is \"broadcast\" across the larger array so that the two have compatible shapes. Broadcasting provides a way to vectorize array operations, so that looping occurs in C rather than Python. Although broadcasting generally leads to efficient algorithm implementation, there are also instances when broadcasting is a bad idea because it leads to an inefficient use of memory."
   ]
  },
  {
   "cell_type": "markdown",
   "metadata": {},
   "source": [
    "`NumPy` operations are usually done element by element, which requires two arrays to have the same shape."
   ]
  },
  {
   "cell_type": "code",
   "execution_count": 2,
   "metadata": {},
   "outputs": [
    {
     "name": "stdout",
     "output_type": "stream",
     "text": [
      "a: [1 2 3] shape: (3,) ndim: 1\n",
      "b: [2 2 2] shape: (3,) ndim: 1\n",
      "c: [2 4 6] shape: (3,) ndim: 1\n"
     ]
    }
   ],
   "source": [
    "a = np.array([1,2,3])\n",
    "print('a:', a, 'shape:', a.shape, 'ndim:', a.ndim)\n",
    "\n",
    "b = np.array([2, 2, 2])\n",
    "print('b:', b, 'shape:', b.shape, 'ndim:', b.ndim)\n",
    "\n",
    "c = a*b\n",
    "print('c:', c, 'shape:', c.shape, 'ndim:', c.ndim)"
   ]
  },
  {
   "cell_type": "markdown",
   "metadata": {},
   "source": [
    "Broadcasting relaxes this constraint when the shapes of the arrays meet some constraints. The simplest broadcasting example occurs when an array and a scalar are combined in an operation: the result of the operation below is the same as above: essentially, the scalar `b` is stretched into an array with the same shape as `a` during the operation. Under the hood, Python uses the original scalar without making an actual copy, so that broadcasting operations are memory and computationally efficient. "
   ]
  },
  {
   "cell_type": "code",
   "execution_count": 3,
   "metadata": {},
   "outputs": [
    {
     "name": "stdout",
     "output_type": "stream",
     "text": [
      "a: shape: (3,) ndim: 1\n",
      "2\n",
      "c: shape: (3,) ndim: 1\n"
     ]
    }
   ],
   "source": [
    "a = np.array([1.0, 2.0, 3.0])\n",
    "print('a:', 'shape:', a.shape, 'ndim:', a.ndim)\n",
    "\n",
    "b = 2\n",
    "print(b)\n",
    "\n",
    "c = a*b\n",
    "print('c:', 'shape:', c.shape, 'ndim:', c.ndim)"
   ]
  },
  {
   "cell_type": "markdown",
   "metadata": {},
   "source": [
    "![theory broadcast_1](https://user-images.githubusercontent.com/47401951/57176930-ab36fe80-6e5e-11e9-8c45-f6feb498ab13.gif)"
   ]
  },
  {
   "cell_type": "code",
   "execution_count": 4,
   "metadata": {},
   "outputs": [
    {
     "name": "stdout",
     "output_type": "stream",
     "text": [
      "a: shape: (4, 1) ndim: 2\n",
      "b: shape: (3,) ndim: 1\n",
      "c: shape: (3,) ndim: 1\n"
     ]
    }
   ],
   "source": [
    "a = np.array([[0.0], [10.0], [20.0], [30.0]])\n",
    "print('a:', 'shape:', a.shape, 'ndim:', a.ndim)\n",
    "\n",
    "b = np.array([0.0, 1.0, 2.0])\n",
    "print('b:', 'shape:', b.shape, 'ndim:', b.ndim)\n",
    "\n",
    "a + b\n",
    "print('c:', 'shape:', c.shape, 'ndim:', c.ndim)"
   ]
  },
  {
   "cell_type": "markdown",
   "metadata": {},
   "source": [
    "![theory broadcast_4](https://user-images.githubusercontent.com/47401951/57178207-58b10e80-6e6d-11e9-90ec-18cfa9388c73.gif)"
   ]
  },
  {
   "cell_type": "markdown",
   "metadata": {},
   "source": [
    "More generally, the boradcasting rule is: \"in order to broadcast, the size of the trailing axes for both arrays in an operation must either be the same size or one of them must be one\". If this condition is not met, a `ValueError('frames are not aligned')` exception is raised, indicating that the arrays have incompatible shapes. The size of the array resulting from the operation is the maximum size along each dimension from the input arrays. "
   ]
  },
  {
   "cell_type": "markdown",
   "metadata": {},
   "source": [
    "Note that the rule does not say anything about the two arrays needing to have the same number of dimensions."
   ]
  },
  {
   "cell_type": "code",
   "execution_count": 5,
   "metadata": {},
   "outputs": [
    {
     "name": "stdout",
     "output_type": "stream",
     "text": [
      "a: shape: (4, 3) ndim: 2\n",
      "b: shape: (3,) ndim: 1\n",
      "c: shape: (4, 3) ndim: 2\n"
     ]
    }
   ],
   "source": [
    "a = np.array([[ 0.0,  0.0,  0.0],\n",
    "              [10.0, 10.0, 10.0],\n",
    "              [20.0, 20.0, 20.0],\n",
    "              [30.0, 30.0, 30.0]])\n",
    "print('a:', 'shape:', a.shape, 'ndim:', a.ndim)\n",
    "\n",
    "b = np.array([0.0, 1.0, 2.0])\n",
    "print('b:', 'shape:', b.shape, 'ndim:', b.ndim)\n",
    "\n",
    "c = a+b\n",
    "print('c:', 'shape:', c.shape, 'ndim:', c.ndim)"
   ]
  },
  {
   "cell_type": "markdown",
   "metadata": {},
   "source": [
    "![theory broadcast_2](https://user-images.githubusercontent.com/47401951/57177872-fc4bf000-6e68-11e9-9dc8-84464bf40c00.gif)"
   ]
  },
  {
   "cell_type": "markdown",
   "metadata": {},
   "source": [
    "The only requirement is that the trailing lengths be equal or one of the two is one. In the following example they are not and broadcasting fails because it is impossible to align values in the rows of the array `a` with the elements of array `b` for element-by-element addition."
   ]
  },
  {
   "cell_type": "code",
   "execution_count": 6,
   "metadata": {},
   "outputs": [
    {
     "name": "stdout",
     "output_type": "stream",
     "text": [
      "a: shape: (4, 3) ndim: 2\n",
      "b: shape: (4,) ndim: 1\n"
     ]
    }
   ],
   "source": [
    "a = np.array([[ 0.0,  0.0,  0.0],\n",
    "              [10.0, 10.0, 10.0],\n",
    "              [20.0, 20.0, 20.0],\n",
    "              [30.0, 30.0, 30.0]])\n",
    "print('a:', 'shape:', a.shape, 'ndim:', a.ndim)\n",
    "\n",
    "b = np.array([0.0, 1.0, 2.0, 3.0])\n",
    "print('b:', 'shape:', b.shape, 'ndim:', b.ndim)\n",
    "\n",
    "c = a+b"
   ]
  },
  {
   "cell_type": "markdown",
   "metadata": {},
   "source": [
    "![theory broadcast_3](https://user-images.githubusercontent.com/47401951/57177985-484b6480-6e6a-11e9-89f1-cf3d86abc101.gif)"
   ]
  }
 ],
 "metadata": {
  "kernelspec": {
   "display_name": "Python 3",
   "language": "python",
   "name": "python3"
  },
  "language_info": {
   "codemirror_mode": {
    "name": "ipython",
    "version": 3
   },
   "file_extension": ".py",
   "mimetype": "text/x-python",
   "name": "python",
   "nbconvert_exporter": "python",
   "pygments_lexer": "ipython3",
   "version": "3.7.3"
  }
 },
 "nbformat": 4,
 "nbformat_minor": 2
}
