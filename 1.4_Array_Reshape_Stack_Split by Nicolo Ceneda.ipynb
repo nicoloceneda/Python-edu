{
 "cells": [
  {
   "cell_type": "markdown",
   "metadata": {},
   "source": [
    "## Import Numpy"
   ]
  },
  {
   "cell_type": "markdown",
   "metadata": {},
   "source": [
    "Import `NumPy` with the alias `np`."
   ]
  },
  {
   "cell_type": "code",
   "execution_count": 1,
   "metadata": {},
   "outputs": [],
   "source": [
    "import numpy as np"
   ]
  },
  {
   "cell_type": "markdown",
   "metadata": {},
   "source": [
    "# Array Reshaping"
   ]
  },
  {
   "cell_type": "markdown",
   "metadata": {},
   "source": [
    "Create a one dimensional array."
   ]
  },
  {
   "cell_type": "code",
   "execution_count": 2,
   "metadata": {},
   "outputs": [
    {
     "name": "stdout",
     "output_type": "stream",
     "text": [
      "[0 1 2 3 4 5 6 7 8]\n"
     ]
    }
   ],
   "source": [
    "a1 = np.arange(9)\n",
    "print(a1)"
   ]
  },
  {
   "cell_type": "markdown",
   "metadata": {},
   "source": [
    "Reshape it into a 3x3 array."
   ]
  },
  {
   "cell_type": "code",
   "execution_count": 3,
   "metadata": {},
   "outputs": [
    {
     "name": "stdout",
     "output_type": "stream",
     "text": [
      "[[0 1 2]\n",
      " [3 4 5]\n",
      " [6 7 8]]\n"
     ]
    }
   ],
   "source": [
    "a1_res = a1.reshape(3, 3)\n",
    "print(a1_res)"
   ]
  },
  {
   "cell_type": "markdown",
   "metadata": {},
   "source": [
    "Create a row vector using reshape."
   ]
  },
  {
   "cell_type": "code",
   "execution_count": 4,
   "metadata": {},
   "outputs": [
    {
     "name": "stdout",
     "output_type": "stream",
     "text": [
      "[[0 1 2 3 4 5 6 7 8]]\n"
     ]
    }
   ],
   "source": [
    "a1_row = a1.reshape(1, 9)\n",
    "print(a1_row)"
   ]
  },
  {
   "cell_type": "markdown",
   "metadata": {},
   "source": [
    "Create a column vector using reshape."
   ]
  },
  {
   "cell_type": "code",
   "execution_count": 5,
   "metadata": {},
   "outputs": [
    {
     "name": "stdout",
     "output_type": "stream",
     "text": [
      "[[0]\n",
      " [1]\n",
      " [2]\n",
      " [3]\n",
      " [4]\n",
      " [5]\n",
      " [6]\n",
      " [7]\n",
      " [8]]\n"
     ]
    }
   ],
   "source": [
    "a1_col = a1.reshape(9, 1)\n",
    "print(a1_col)"
   ]
  },
  {
   "cell_type": "markdown",
   "metadata": {},
   "source": [
    "Note the differences."
   ]
  },
  {
   "cell_type": "code",
   "execution_count": 6,
   "metadata": {},
   "outputs": [
    {
     "name": "stdout",
     "output_type": "stream",
     "text": [
      "The number of dimensions of a1 is: 1\n",
      "The shape of a1 is: (9,)\n",
      "The number of dimensions of a1_row is: 2\n",
      "The shape of a1_row is: (1, 9)\n",
      "The number of dimensions of a1_col is: 2\n",
      "The shape of a1_col is: (9, 1)\n"
     ]
    }
   ],
   "source": [
    "print(\"The number of dimensions of a1 is:\", np.ndim(a1))\n",
    "print(\"The shape of a1 is:\", np.shape(a1))\n",
    "print(\"The number of dimensions of a1_row is:\", np.ndim(a1_row))\n",
    "print(\"The shape of a1_row is:\", np.shape(a1_row))\n",
    "print(\"The number of dimensions of a1_col is:\", np.ndim(a1_col))\n",
    "print(\"The shape of a1_col is:\", np.shape(a1_col))"
   ]
  },
  {
   "cell_type": "markdown",
   "metadata": {},
   "source": [
    "# Array Stacking"
   ]
  },
  {
   "cell_type": "markdown",
   "metadata": {},
   "source": [
    "Create two multi-dimensional arrays."
   ]
  },
  {
   "cell_type": "code",
   "execution_count": 7,
   "metadata": {},
   "outputs": [
    {
     "name": "stdout",
     "output_type": "stream",
     "text": [
      "[[1 1 2]\n",
      " [1 7 7]\n",
      " [8 4 5]]\n",
      "\n",
      "[[7 4 0]\n",
      " [6 8 0]\n",
      " [2 1 4]]\n"
     ]
    }
   ],
   "source": [
    "a1 = np.random.randint(0, 10, (3, 3))\n",
    "a2 = np.random.randint(0, 10, (3, 3))\n",
    "print(a1)\n",
    "print()\n",
    "print(a2)"
   ]
  },
  {
   "cell_type": "markdown",
   "metadata": {},
   "source": [
    "Concatenate the two arrays along the first axis."
   ]
  },
  {
   "cell_type": "code",
   "execution_count": 8,
   "metadata": {},
   "outputs": [
    {
     "name": "stdout",
     "output_type": "stream",
     "text": [
      "[[1 1 2]\n",
      " [1 7 7]\n",
      " [8 4 5]\n",
      " [7 4 0]\n",
      " [6 8 0]\n",
      " [2 1 4]]\n"
     ]
    }
   ],
   "source": [
    "a12_first = np.concatenate([a1, a2], axis=0)\n",
    "print(a12_first)"
   ]
  },
  {
   "cell_type": "markdown",
   "metadata": {},
   "source": [
    "Or"
   ]
  },
  {
   "cell_type": "code",
   "execution_count": 9,
   "metadata": {},
   "outputs": [
    {
     "name": "stdout",
     "output_type": "stream",
     "text": [
      "[[1 1 2]\n",
      " [1 7 7]\n",
      " [8 4 5]\n",
      " [7 4 0]\n",
      " [6 8 0]\n",
      " [2 1 4]]\n"
     ]
    }
   ],
   "source": [
    "a12_first2 = np.vstack([a1, a2])\n",
    "print(a12_first2)"
   ]
  },
  {
   "cell_type": "markdown",
   "metadata": {},
   "source": [
    "Concatenate the two arrays along the second axis."
   ]
  },
  {
   "cell_type": "code",
   "execution_count": 10,
   "metadata": {},
   "outputs": [
    {
     "name": "stdout",
     "output_type": "stream",
     "text": [
      "[[1 1 2 7 4 0]\n",
      " [1 7 7 6 8 0]\n",
      " [8 4 5 2 1 4]]\n"
     ]
    }
   ],
   "source": [
    "a12_second = np.concatenate([a1, a2], axis=1)\n",
    "print(a12_second)"
   ]
  },
  {
   "cell_type": "markdown",
   "metadata": {},
   "source": [
    "Or"
   ]
  },
  {
   "cell_type": "code",
   "execution_count": 11,
   "metadata": {},
   "outputs": [
    {
     "name": "stdout",
     "output_type": "stream",
     "text": [
      "[[1 1 2 7 4 0]\n",
      " [1 7 7 6 8 0]\n",
      " [8 4 5 2 1 4]]\n"
     ]
    }
   ],
   "source": [
    "a12_second2 = np.hstack([a1, a2])\n",
    "print(a12_second2)"
   ]
  },
  {
   "cell_type": "markdown",
   "metadata": {},
   "source": [
    "# Array Splitting"
   ]
  },
  {
   "cell_type": "markdown",
   "metadata": {},
   "source": [
    "Create a multi-dimensional array."
   ]
  },
  {
   "cell_type": "code",
   "execution_count": 12,
   "metadata": {},
   "outputs": [
    {
     "name": "stdout",
     "output_type": "stream",
     "text": [
      "[[0 8 5 4 7 6]\n",
      " [3 3 7 8 1 1]\n",
      " [5 3 4 0 8 6]]\n"
     ]
    }
   ],
   "source": [
    "a = np.random.randint(0, 10, (3,6))\n",
    "print(a)"
   ]
  },
  {
   "cell_type": "markdown",
   "metadata": {},
   "source": [
    "Split the array along the first axis at the index position 1."
   ]
  },
  {
   "cell_type": "code",
   "execution_count": 13,
   "metadata": {},
   "outputs": [
    {
     "name": "stdout",
     "output_type": "stream",
     "text": [
      "[[0 8 5 4 7 6]]\n",
      "\n",
      "[[3 3 7 8 1 1]\n",
      " [5 3 4 0 8 6]]\n"
     ]
    }
   ],
   "source": [
    "a_1_first, a_2_first = np.split(a, [1], axis=0)\n",
    "print(a_1_first)\n",
    "print()\n",
    "print(a_2_first)"
   ]
  },
  {
   "cell_type": "markdown",
   "metadata": {},
   "source": [
    "Or"
   ]
  },
  {
   "cell_type": "code",
   "execution_count": 14,
   "metadata": {},
   "outputs": [
    {
     "name": "stdout",
     "output_type": "stream",
     "text": [
      "[[0 8 5 4 7 6]]\n",
      "\n",
      "[[3 3 7 8 1 1]\n",
      " [5 3 4 0 8 6]]\n"
     ]
    }
   ],
   "source": [
    "a_1_first2, a_2_first2 = np.vsplit(a, [1])\n",
    "print(a_1_first)\n",
    "print()\n",
    "print(a_2_first)"
   ]
  },
  {
   "cell_type": "markdown",
   "metadata": {},
   "source": [
    "Split the array along the second axis at the index positions 2."
   ]
  },
  {
   "cell_type": "code",
   "execution_count": 15,
   "metadata": {},
   "outputs": [
    {
     "name": "stdout",
     "output_type": "stream",
     "text": [
      "[[0 8]\n",
      " [3 3]\n",
      " [5 3]]\n",
      "\n",
      "[[5 4 7 6]\n",
      " [7 8 1 1]\n",
      " [4 0 8 6]]\n"
     ]
    }
   ],
   "source": [
    "a_1_second, a_2_second = np.split(a, [2], axis=1)\n",
    "print(a_1_second)\n",
    "print()\n",
    "print(a_2_second)"
   ]
  },
  {
   "cell_type": "markdown",
   "metadata": {},
   "source": [
    "Or"
   ]
  },
  {
   "cell_type": "code",
   "execution_count": 16,
   "metadata": {},
   "outputs": [
    {
     "name": "stdout",
     "output_type": "stream",
     "text": [
      "[[0 8]\n",
      " [3 3]\n",
      " [5 3]]\n",
      "\n",
      "[[5 4 7 6]\n",
      " [7 8 1 1]\n",
      " [4 0 8 6]]\n"
     ]
    }
   ],
   "source": [
    "a_1_second2, a_2_second2 = np.hsplit(a, [2])\n",
    "print(a_1_second2)\n",
    "print()\n",
    "print(a_2_second2)"
   ]
  }
 ],
 "metadata": {
  "kernelspec": {
   "display_name": "Python 3",
   "language": "python",
   "name": "python3"
  },
  "language_info": {
   "codemirror_mode": {
    "name": "ipython",
    "version": 3
   },
   "file_extension": ".py",
   "mimetype": "text/x-python",
   "name": "python",
   "nbconvert_exporter": "python",
   "pygments_lexer": "ipython3",
   "version": "3.7.3"
  }
 },
 "nbformat": 4,
 "nbformat_minor": 2
}
